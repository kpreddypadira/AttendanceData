{
 "cells": [
  {
   "cell_type": "code",
   "execution_count": 1,
   "metadata": {},
   "outputs": [],
   "source": [
    "# Todo:\n",
    "# Missing values - drop method, imputation, calculate weight from height and BMI\n",
    "# Detail on different imputation techniques\n",
    "# Outlier detection and possible elimination\n",
    "# Checking dataset label balance\n",
    "# Data transformation -> normalization, standardization and all techniques associated with it\n",
    "# Label encoding categorical variables where required\n",
    "# PCA\n",
    "# LDA\n",
    "# General EDA\n",
    "\n",
    "#### UPDATE ==> ALL DONE"
   ]
  },
  {
   "cell_type": "code",
   "execution_count": 2,
   "metadata": {},
   "outputs": [],
   "source": [
    "# Datasets so far\n",
    "# absent_train ==> just importing the file, fixing formats, converting variable names and doing other mandatory conversions\n",
    "# target or y ==> label for classification (converted)\n",
    "# Use y_drop for dropped versions of datasets\n",
    "# continuous_target ==> labels for regression\n",
    "# X ==> unnecessary columns dropped, target dropped\n",
    "# X_drop ==> outliers and NAs dropped [equivalent - y_drop]\n",
    "# X_scaled ==> Original X + scaling\n",
    "# X_drop_scaled ==> Original X + drop + scaling [[equivalent - y_drop]]\n",
    "# X_imputed_scaled ==> Original X + outliers and NAs imputed + scaled\n",
    "# ===========================================================================\n",
    "# X_imputed_scaled_PCA ==> PCA on X_imputed_scaled (projected_X_imputed_scaled ==> same thing as ndarray)\n",
    "# X_drop_scaled_PCA ==> PCA on X_drop_scaled (projected_X_drop_scaled ==> same thing as ndarray)\n",
    "# =================================================================================\n",
    "# X_imputed_scaled_correl ==> drop correlated variables\n",
    "# X_drop_scaled_correl ==> drop correlated variables\n",
    "# ==================================================================================\n",
    "# X_imputed_scaled_LDA ==> LDA on X_imputed_scaled\n",
    "# X_drop_scaled_LDA ==> LDA on X_drop_scaled"
   ]
  },
  {
   "cell_type": "code",
   "execution_count": 3,
   "metadata": {},
   "outputs": [],
   "source": [
    "# Test datasets\n",
    "\n",
    "# (Unlike train, y_test will be used for dropped datasets as well. No y_drop. We don't drop test data)\n",
    "# If a test dataset has the name 'drop' in it, it means it was fit on the train version of the drop dataset for scaling, pca etc\n",
    "\n",
    "# absent_test\n",
    "# target_test or y_test\n",
    "# continuous_target_test\n",
    "# X_test\n",
    "# NOTE: No X_test_drop\n",
    "# X_test_scaled\n",
    "# X_test_drop_scaled\n",
    "# X_test_imputed_scaled\n",
    "# ================================================================================\n",
    "# X_test_imputed_scaled_PCA\n",
    "# X_test_drop_scaled_PCA\n",
    "# ================================================================================\n",
    "# X_test_imputed_scaled_correl\n",
    "# X_test_drop_scaled_correl\n",
    "# ==================================================================================\n",
    "# X_test_imputed_scaled_LDA\n",
    "# X_test_drop_scaled_LDA"
   ]
  },
  {
   "cell_type": "code",
   "execution_count": 4,
   "metadata": {},
   "outputs": [],
   "source": [
    "import pandas as pd\n",
    "# import the csv file \n",
    "input_file = \"C:/Users/anchi/Notebooks/Project/Absenteeism_at_work_train.csv\"\n",
    "absent_train = pd.read_csv(input_file)"
   ]
  },
  {
   "cell_type": "code",
   "execution_count": 5,
   "metadata": {},
   "outputs": [],
   "source": [
    "import pandas as pd\n",
    "# import the csv file \n",
    "input_file = \"C:/Users/anchi/Notebooks/Project/Absenteeism_at_work_test.csv\"\n",
    "absent_test = pd.read_csv(input_file)"
   ]
  },
  {
   "cell_type": "code",
   "execution_count": 6,
   "metadata": {},
   "outputs": [
    {
     "data": {
      "text/html": [
       "<div>\n",
       "<style scoped>\n",
       "    .dataframe tbody tr th:only-of-type {\n",
       "        vertical-align: middle;\n",
       "    }\n",
       "\n",
       "    .dataframe tbody tr th {\n",
       "        vertical-align: top;\n",
       "    }\n",
       "\n",
       "    .dataframe thead th {\n",
       "        text-align: right;\n",
       "    }\n",
       "</style>\n",
       "<table border=\"1\" class=\"dataframe\">\n",
       "  <thead>\n",
       "    <tr style=\"text-align: right;\">\n",
       "      <th></th>\n",
       "      <th>ID</th>\n",
       "      <th>Reason for absence</th>\n",
       "      <th>Month of absence</th>\n",
       "      <th>Day of the week</th>\n",
       "      <th>Seasons</th>\n",
       "      <th>Transportation expense</th>\n",
       "      <th>Distance from Residence to Work</th>\n",
       "      <th>Service time</th>\n",
       "      <th>Age</th>\n",
       "      <th>Work load Average/day</th>\n",
       "      <th>...</th>\n",
       "      <th>Disciplinary failure</th>\n",
       "      <th>Education</th>\n",
       "      <th>Son</th>\n",
       "      <th>Social drinker</th>\n",
       "      <th>Social smoker</th>\n",
       "      <th>Pet</th>\n",
       "      <th>Weight</th>\n",
       "      <th>Height</th>\n",
       "      <th>Body mass index</th>\n",
       "      <th>Absenteeism time in hours</th>\n",
       "    </tr>\n",
       "  </thead>\n",
       "  <tbody>\n",
       "    <tr>\n",
       "      <th>0</th>\n",
       "      <td>11</td>\n",
       "      <td>26</td>\n",
       "      <td>7</td>\n",
       "      <td>3</td>\n",
       "      <td>1</td>\n",
       "      <td>289</td>\n",
       "      <td>36</td>\n",
       "      <td>13</td>\n",
       "      <td>33</td>\n",
       "      <td>239,554</td>\n",
       "      <td>...</td>\n",
       "      <td>0</td>\n",
       "      <td>1</td>\n",
       "      <td>2</td>\n",
       "      <td>1</td>\n",
       "      <td>0</td>\n",
       "      <td>1</td>\n",
       "      <td>90.0</td>\n",
       "      <td>172</td>\n",
       "      <td>30</td>\n",
       "      <td>4</td>\n",
       "    </tr>\n",
       "    <tr>\n",
       "      <th>1</th>\n",
       "      <td>36</td>\n",
       "      <td>0</td>\n",
       "      <td>7</td>\n",
       "      <td>3</td>\n",
       "      <td>1</td>\n",
       "      <td>118</td>\n",
       "      <td>13</td>\n",
       "      <td>18</td>\n",
       "      <td>50</td>\n",
       "      <td>239,554</td>\n",
       "      <td>...</td>\n",
       "      <td>1</td>\n",
       "      <td>1</td>\n",
       "      <td>1</td>\n",
       "      <td>1</td>\n",
       "      <td>0</td>\n",
       "      <td>0</td>\n",
       "      <td>98.0</td>\n",
       "      <td>178</td>\n",
       "      <td>31</td>\n",
       "      <td>0</td>\n",
       "    </tr>\n",
       "    <tr>\n",
       "      <th>2</th>\n",
       "      <td>3</td>\n",
       "      <td>23</td>\n",
       "      <td>7</td>\n",
       "      <td>4</td>\n",
       "      <td>1</td>\n",
       "      <td>179</td>\n",
       "      <td>51</td>\n",
       "      <td>18</td>\n",
       "      <td>38</td>\n",
       "      <td>239,554</td>\n",
       "      <td>...</td>\n",
       "      <td>0</td>\n",
       "      <td>1</td>\n",
       "      <td>0</td>\n",
       "      <td>1</td>\n",
       "      <td>0</td>\n",
       "      <td>0</td>\n",
       "      <td>89.0</td>\n",
       "      <td>170</td>\n",
       "      <td>31</td>\n",
       "      <td>2</td>\n",
       "    </tr>\n",
       "    <tr>\n",
       "      <th>3</th>\n",
       "      <td>7</td>\n",
       "      <td>7</td>\n",
       "      <td>7</td>\n",
       "      <td>5</td>\n",
       "      <td>1</td>\n",
       "      <td>279</td>\n",
       "      <td>5</td>\n",
       "      <td>14</td>\n",
       "      <td>39</td>\n",
       "      <td>239,554</td>\n",
       "      <td>...</td>\n",
       "      <td>0</td>\n",
       "      <td>1</td>\n",
       "      <td>2</td>\n",
       "      <td>1</td>\n",
       "      <td>1</td>\n",
       "      <td>0</td>\n",
       "      <td>68.0</td>\n",
       "      <td>168</td>\n",
       "      <td>24</td>\n",
       "      <td>4</td>\n",
       "    </tr>\n",
       "    <tr>\n",
       "      <th>4</th>\n",
       "      <td>11</td>\n",
       "      <td>23</td>\n",
       "      <td>7</td>\n",
       "      <td>5</td>\n",
       "      <td>1</td>\n",
       "      <td>289</td>\n",
       "      <td>36</td>\n",
       "      <td>13</td>\n",
       "      <td>33</td>\n",
       "      <td>239,554</td>\n",
       "      <td>...</td>\n",
       "      <td>0</td>\n",
       "      <td>1</td>\n",
       "      <td>2</td>\n",
       "      <td>1</td>\n",
       "      <td>0</td>\n",
       "      <td>1</td>\n",
       "      <td>90.0</td>\n",
       "      <td>172</td>\n",
       "      <td>30</td>\n",
       "      <td>2</td>\n",
       "    </tr>\n",
       "  </tbody>\n",
       "</table>\n",
       "<p>5 rows × 21 columns</p>\n",
       "</div>"
      ],
      "text/plain": [
       "   ID  Reason for absence  Month of absence  Day of the week  Seasons  \\\n",
       "0  11                  26                 7                3        1   \n",
       "1  36                   0                 7                3        1   \n",
       "2   3                  23                 7                4        1   \n",
       "3   7                   7                 7                5        1   \n",
       "4  11                  23                 7                5        1   \n",
       "\n",
       "   Transportation expense  Distance from Residence to Work  Service time Age  \\\n",
       "0                     289                               36            13  33   \n",
       "1                     118                               13            18  50   \n",
       "2                     179                               51            18  38   \n",
       "3                     279                                5            14  39   \n",
       "4                     289                               36            13  33   \n",
       "\n",
       "  Work load Average/day   ...  Disciplinary failure  Education  Son  \\\n",
       "0                239,554  ...                     0          1    2   \n",
       "1                239,554  ...                     1          1    1   \n",
       "2                239,554  ...                     0          1    0   \n",
       "3                239,554  ...                     0          1    2   \n",
       "4                239,554  ...                     0          1    2   \n",
       "\n",
       "   Social drinker  Social smoker  Pet  Weight  Height  Body mass index  \\\n",
       "0               1              0    1    90.0     172               30   \n",
       "1               1              0    0    98.0     178               31   \n",
       "2               1              0    0    89.0     170               31   \n",
       "3               1              1    0    68.0     168               24   \n",
       "4               1              0    1    90.0     172               30   \n",
       "\n",
       "   Absenteeism time in hours  \n",
       "0                          4  \n",
       "1                          0  \n",
       "2                          2  \n",
       "3                          4  \n",
       "4                          2  \n",
       "\n",
       "[5 rows x 21 columns]"
      ]
     },
     "execution_count": 6,
     "metadata": {},
     "output_type": "execute_result"
    }
   ],
   "source": [
    "absent_train.head()"
   ]
  },
  {
   "cell_type": "code",
   "execution_count": 7,
   "metadata": {},
   "outputs": [
    {
     "data": {
      "text/html": [
       "<div>\n",
       "<style scoped>\n",
       "    .dataframe tbody tr th:only-of-type {\n",
       "        vertical-align: middle;\n",
       "    }\n",
       "\n",
       "    .dataframe tbody tr th {\n",
       "        vertical-align: top;\n",
       "    }\n",
       "\n",
       "    .dataframe thead th {\n",
       "        text-align: right;\n",
       "    }\n",
       "</style>\n",
       "<table border=\"1\" class=\"dataframe\">\n",
       "  <thead>\n",
       "    <tr style=\"text-align: right;\">\n",
       "      <th></th>\n",
       "      <th>ID</th>\n",
       "      <th>Reason for absence</th>\n",
       "      <th>Month of absence</th>\n",
       "      <th>Day of the week</th>\n",
       "      <th>Seasons</th>\n",
       "      <th>Transportation expense</th>\n",
       "      <th>Distance from Residence to Work</th>\n",
       "      <th>Service time</th>\n",
       "      <th>Age</th>\n",
       "      <th>Work load Average/day</th>\n",
       "      <th>...</th>\n",
       "      <th>Disciplinary failure</th>\n",
       "      <th>Education</th>\n",
       "      <th>Son</th>\n",
       "      <th>Social drinker</th>\n",
       "      <th>Social smoker</th>\n",
       "      <th>Pet</th>\n",
       "      <th>Weight</th>\n",
       "      <th>Height</th>\n",
       "      <th>Body mass index</th>\n",
       "      <th>Absenteeism time in hours</th>\n",
       "    </tr>\n",
       "  </thead>\n",
       "  <tbody>\n",
       "    <tr>\n",
       "      <th>0</th>\n",
       "      <td>22</td>\n",
       "      <td>27</td>\n",
       "      <td>4</td>\n",
       "      <td>6</td>\n",
       "      <td>3</td>\n",
       "      <td>179</td>\n",
       "      <td>26</td>\n",
       "      <td>9</td>\n",
       "      <td>30</td>\n",
       "      <td>246,288</td>\n",
       "      <td>...</td>\n",
       "      <td>0</td>\n",
       "      <td>3</td>\n",
       "      <td>0</td>\n",
       "      <td>0</td>\n",
       "      <td>0</td>\n",
       "      <td>0</td>\n",
       "      <td>56</td>\n",
       "      <td>171</td>\n",
       "      <td>19</td>\n",
       "      <td>2</td>\n",
       "    </tr>\n",
       "    <tr>\n",
       "      <th>1</th>\n",
       "      <td>28</td>\n",
       "      <td>19</td>\n",
       "      <td>4</td>\n",
       "      <td>2</td>\n",
       "      <td>3</td>\n",
       "      <td>225</td>\n",
       "      <td>26</td>\n",
       "      <td>9</td>\n",
       "      <td>28</td>\n",
       "      <td>246,288</td>\n",
       "      <td>...</td>\n",
       "      <td>0</td>\n",
       "      <td>1</td>\n",
       "      <td>1</td>\n",
       "      <td>0</td>\n",
       "      <td>0</td>\n",
       "      <td>2</td>\n",
       "      <td>69</td>\n",
       "      <td>169</td>\n",
       "      <td>24</td>\n",
       "      <td>8</td>\n",
       "    </tr>\n",
       "    <tr>\n",
       "      <th>2</th>\n",
       "      <td>25</td>\n",
       "      <td>16</td>\n",
       "      <td>4</td>\n",
       "      <td>3</td>\n",
       "      <td>3</td>\n",
       "      <td>235</td>\n",
       "      <td>16</td>\n",
       "      <td>8</td>\n",
       "      <td>32</td>\n",
       "      <td>246,288</td>\n",
       "      <td>...</td>\n",
       "      <td>0</td>\n",
       "      <td>3</td>\n",
       "      <td>0</td>\n",
       "      <td>0</td>\n",
       "      <td>0</td>\n",
       "      <td>0</td>\n",
       "      <td>75</td>\n",
       "      <td>178</td>\n",
       "      <td>25</td>\n",
       "      <td>3</td>\n",
       "    </tr>\n",
       "    <tr>\n",
       "      <th>3</th>\n",
       "      <td>22</td>\n",
       "      <td>27</td>\n",
       "      <td>4</td>\n",
       "      <td>6</td>\n",
       "      <td>3</td>\n",
       "      <td>179</td>\n",
       "      <td>26</td>\n",
       "      <td>9</td>\n",
       "      <td>30</td>\n",
       "      <td>246,288</td>\n",
       "      <td>...</td>\n",
       "      <td>0</td>\n",
       "      <td>3</td>\n",
       "      <td>0</td>\n",
       "      <td>0</td>\n",
       "      <td>0</td>\n",
       "      <td>0</td>\n",
       "      <td>56</td>\n",
       "      <td>171</td>\n",
       "      <td>19</td>\n",
       "      <td>2</td>\n",
       "    </tr>\n",
       "    <tr>\n",
       "      <th>4</th>\n",
       "      <td>14</td>\n",
       "      <td>28</td>\n",
       "      <td>4</td>\n",
       "      <td>3</td>\n",
       "      <td>3</td>\n",
       "      <td>155</td>\n",
       "      <td>12</td>\n",
       "      <td>14</td>\n",
       "      <td>34</td>\n",
       "      <td>246,288</td>\n",
       "      <td>...</td>\n",
       "      <td>0</td>\n",
       "      <td>1</td>\n",
       "      <td>2</td>\n",
       "      <td>1</td>\n",
       "      <td>0</td>\n",
       "      <td>0</td>\n",
       "      <td>95</td>\n",
       "      <td>196</td>\n",
       "      <td>25</td>\n",
       "      <td>4</td>\n",
       "    </tr>\n",
       "  </tbody>\n",
       "</table>\n",
       "<p>5 rows × 21 columns</p>\n",
       "</div>"
      ],
      "text/plain": [
       "   ID  Reason for absence  Month of absence  Day of the week  Seasons  \\\n",
       "0  22                  27                 4                6        3   \n",
       "1  28                  19                 4                2        3   \n",
       "2  25                  16                 4                3        3   \n",
       "3  22                  27                 4                6        3   \n",
       "4  14                  28                 4                3        3   \n",
       "\n",
       "   Transportation expense  Distance from Residence to Work  Service time  Age  \\\n",
       "0                     179                               26             9   30   \n",
       "1                     225                               26             9   28   \n",
       "2                     235                               16             8   32   \n",
       "3                     179                               26             9   30   \n",
       "4                     155                               12            14   34   \n",
       "\n",
       "  Work load Average/day   ...  Disciplinary failure  Education  Son  \\\n",
       "0                246,288  ...                     0          3    0   \n",
       "1                246,288  ...                     0          1    1   \n",
       "2                246,288  ...                     0          3    0   \n",
       "3                246,288  ...                     0          3    0   \n",
       "4                246,288  ...                     0          1    2   \n",
       "\n",
       "   Social drinker  Social smoker  Pet  Weight  Height  Body mass index  \\\n",
       "0               0              0    0      56     171               19   \n",
       "1               0              0    2      69     169               24   \n",
       "2               0              0    0      75     178               25   \n",
       "3               0              0    0      56     171               19   \n",
       "4               1              0    0      95     196               25   \n",
       "\n",
       "   Absenteeism time in hours  \n",
       "0                          2  \n",
       "1                          8  \n",
       "2                          3  \n",
       "3                          2  \n",
       "4                          4  \n",
       "\n",
       "[5 rows x 21 columns]"
      ]
     },
     "execution_count": 7,
     "metadata": {},
     "output_type": "execute_result"
    }
   ],
   "source": [
    "absent_test.head()"
   ]
  },
  {
   "cell_type": "code",
   "execution_count": 8,
   "metadata": {},
   "outputs": [
    {
     "data": {
      "text/plain": [
       "(666, 21)"
      ]
     },
     "execution_count": 8,
     "metadata": {},
     "output_type": "execute_result"
    }
   ],
   "source": [
    "absent_train.shape"
   ]
  },
  {
   "cell_type": "code",
   "execution_count": 9,
   "metadata": {},
   "outputs": [
    {
     "data": {
      "text/plain": [
       "(74, 21)"
      ]
     },
     "execution_count": 9,
     "metadata": {},
     "output_type": "execute_result"
    }
   ],
   "source": [
    "absent_test.shape"
   ]
  },
  {
   "cell_type": "code",
   "execution_count": 10,
   "metadata": {},
   "outputs": [
    {
     "data": {
      "text/html": [
       "<div>\n",
       "<style scoped>\n",
       "    .dataframe tbody tr th:only-of-type {\n",
       "        vertical-align: middle;\n",
       "    }\n",
       "\n",
       "    .dataframe tbody tr th {\n",
       "        vertical-align: top;\n",
       "    }\n",
       "\n",
       "    .dataframe thead th {\n",
       "        text-align: right;\n",
       "    }\n",
       "</style>\n",
       "<table border=\"1\" class=\"dataframe\">\n",
       "  <thead>\n",
       "    <tr style=\"text-align: right;\">\n",
       "      <th></th>\n",
       "      <th>ID</th>\n",
       "      <th>Reason for absence</th>\n",
       "      <th>Month of absence</th>\n",
       "      <th>Day of the week</th>\n",
       "      <th>Seasons</th>\n",
       "      <th>Transportation expense</th>\n",
       "      <th>Distance from Residence to Work</th>\n",
       "      <th>Service time</th>\n",
       "      <th>Hit target</th>\n",
       "      <th>Disciplinary failure</th>\n",
       "      <th>Education</th>\n",
       "      <th>Son</th>\n",
       "      <th>Social drinker</th>\n",
       "      <th>Social smoker</th>\n",
       "      <th>Pet</th>\n",
       "      <th>Weight</th>\n",
       "      <th>Height</th>\n",
       "      <th>Body mass index</th>\n",
       "      <th>Absenteeism time in hours</th>\n",
       "    </tr>\n",
       "  </thead>\n",
       "  <tbody>\n",
       "    <tr>\n",
       "      <th>count</th>\n",
       "      <td>666.000000</td>\n",
       "      <td>666.000000</td>\n",
       "      <td>666.000000</td>\n",
       "      <td>666.000000</td>\n",
       "      <td>666.000000</td>\n",
       "      <td>666.000000</td>\n",
       "      <td>666.000000</td>\n",
       "      <td>666.000000</td>\n",
       "      <td>665.000000</td>\n",
       "      <td>666.000000</td>\n",
       "      <td>666.000000</td>\n",
       "      <td>666.000000</td>\n",
       "      <td>666.000000</td>\n",
       "      <td>666.000000</td>\n",
       "      <td>666.000000</td>\n",
       "      <td>664.000000</td>\n",
       "      <td>666.000000</td>\n",
       "      <td>666.000000</td>\n",
       "      <td>666.000000</td>\n",
       "    </tr>\n",
       "    <tr>\n",
       "      <th>mean</th>\n",
       "      <td>17.674174</td>\n",
       "      <td>19.469970</td>\n",
       "      <td>6.441441</td>\n",
       "      <td>3.893393</td>\n",
       "      <td>2.552553</td>\n",
       "      <td>222.818318</td>\n",
       "      <td>30.370871</td>\n",
       "      <td>12.699700</td>\n",
       "      <td>94.410526</td>\n",
       "      <td>0.054054</td>\n",
       "      <td>1.246246</td>\n",
       "      <td>1.028529</td>\n",
       "      <td>0.584084</td>\n",
       "      <td>0.069069</td>\n",
       "      <td>0.690691</td>\n",
       "      <td>79.210843</td>\n",
       "      <td>171.869369</td>\n",
       "      <td>26.815315</td>\n",
       "      <td>6.752252</td>\n",
       "    </tr>\n",
       "    <tr>\n",
       "      <th>std</th>\n",
       "      <td>11.075428</td>\n",
       "      <td>8.345175</td>\n",
       "      <td>3.573128</td>\n",
       "      <td>1.423451</td>\n",
       "      <td>1.134994</td>\n",
       "      <td>66.853234</td>\n",
       "      <td>14.905486</td>\n",
       "      <td>4.353883</td>\n",
       "      <td>3.827399</td>\n",
       "      <td>0.226294</td>\n",
       "      <td>0.617557</td>\n",
       "      <td>1.125546</td>\n",
       "      <td>0.493250</td>\n",
       "      <td>0.253762</td>\n",
       "      <td>1.175107</td>\n",
       "      <td>12.634225</td>\n",
       "      <td>5.930631</td>\n",
       "      <td>4.238081</td>\n",
       "      <td>12.666938</td>\n",
       "    </tr>\n",
       "    <tr>\n",
       "      <th>min</th>\n",
       "      <td>1.000000</td>\n",
       "      <td>0.000000</td>\n",
       "      <td>1.000000</td>\n",
       "      <td>2.000000</td>\n",
       "      <td>1.000000</td>\n",
       "      <td>0.000000</td>\n",
       "      <td>5.000000</td>\n",
       "      <td>1.000000</td>\n",
       "      <td>81.000000</td>\n",
       "      <td>0.000000</td>\n",
       "      <td>1.000000</td>\n",
       "      <td>0.000000</td>\n",
       "      <td>0.000000</td>\n",
       "      <td>0.000000</td>\n",
       "      <td>0.000000</td>\n",
       "      <td>56.000000</td>\n",
       "      <td>163.000000</td>\n",
       "      <td>19.000000</td>\n",
       "      <td>0.000000</td>\n",
       "    </tr>\n",
       "    <tr>\n",
       "      <th>25%</th>\n",
       "      <td>7.000000</td>\n",
       "      <td>13.000000</td>\n",
       "      <td>3.000000</td>\n",
       "      <td>3.000000</td>\n",
       "      <td>2.000000</td>\n",
       "      <td>179.000000</td>\n",
       "      <td>17.000000</td>\n",
       "      <td>9.000000</td>\n",
       "      <td>92.000000</td>\n",
       "      <td>0.000000</td>\n",
       "      <td>1.000000</td>\n",
       "      <td>0.000000</td>\n",
       "      <td>0.000000</td>\n",
       "      <td>0.000000</td>\n",
       "      <td>0.000000</td>\n",
       "      <td>69.000000</td>\n",
       "      <td>169.000000</td>\n",
       "      <td>24.000000</td>\n",
       "      <td>2.000000</td>\n",
       "    </tr>\n",
       "    <tr>\n",
       "      <th>50%</th>\n",
       "      <td>18.000000</td>\n",
       "      <td>23.000000</td>\n",
       "      <td>7.000000</td>\n",
       "      <td>4.000000</td>\n",
       "      <td>2.000000</td>\n",
       "      <td>225.000000</td>\n",
       "      <td>26.000000</td>\n",
       "      <td>13.000000</td>\n",
       "      <td>95.000000</td>\n",
       "      <td>0.000000</td>\n",
       "      <td>1.000000</td>\n",
       "      <td>1.000000</td>\n",
       "      <td>1.000000</td>\n",
       "      <td>0.000000</td>\n",
       "      <td>0.000000</td>\n",
       "      <td>83.000000</td>\n",
       "      <td>170.000000</td>\n",
       "      <td>25.000000</td>\n",
       "      <td>3.000000</td>\n",
       "    </tr>\n",
       "    <tr>\n",
       "      <th>75%</th>\n",
       "      <td>28.000000</td>\n",
       "      <td>26.000000</td>\n",
       "      <td>10.000000</td>\n",
       "      <td>5.000000</td>\n",
       "      <td>4.000000</td>\n",
       "      <td>260.000000</td>\n",
       "      <td>50.000000</td>\n",
       "      <td>16.000000</td>\n",
       "      <td>97.000000</td>\n",
       "      <td>0.000000</td>\n",
       "      <td>1.000000</td>\n",
       "      <td>2.000000</td>\n",
       "      <td>1.000000</td>\n",
       "      <td>0.000000</td>\n",
       "      <td>1.000000</td>\n",
       "      <td>89.000000</td>\n",
       "      <td>172.000000</td>\n",
       "      <td>31.000000</td>\n",
       "      <td>8.000000</td>\n",
       "    </tr>\n",
       "    <tr>\n",
       "      <th>max</th>\n",
       "      <td>36.000000</td>\n",
       "      <td>28.000000</td>\n",
       "      <td>12.000000</td>\n",
       "      <td>6.000000</td>\n",
       "      <td>4.000000</td>\n",
       "      <td>388.000000</td>\n",
       "      <td>52.000000</td>\n",
       "      <td>29.000000</td>\n",
       "      <td>100.000000</td>\n",
       "      <td>1.000000</td>\n",
       "      <td>4.000000</td>\n",
       "      <td>4.000000</td>\n",
       "      <td>1.000000</td>\n",
       "      <td>1.000000</td>\n",
       "      <td>8.000000</td>\n",
       "      <td>108.000000</td>\n",
       "      <td>196.000000</td>\n",
       "      <td>38.000000</td>\n",
       "      <td>120.000000</td>\n",
       "    </tr>\n",
       "  </tbody>\n",
       "</table>\n",
       "</div>"
      ],
      "text/plain": [
       "               ID  Reason for absence  Month of absence  Day of the week  \\\n",
       "count  666.000000          666.000000        666.000000       666.000000   \n",
       "mean    17.674174           19.469970          6.441441         3.893393   \n",
       "std     11.075428            8.345175          3.573128         1.423451   \n",
       "min      1.000000            0.000000          1.000000         2.000000   \n",
       "25%      7.000000           13.000000          3.000000         3.000000   \n",
       "50%     18.000000           23.000000          7.000000         4.000000   \n",
       "75%     28.000000           26.000000         10.000000         5.000000   \n",
       "max     36.000000           28.000000         12.000000         6.000000   \n",
       "\n",
       "          Seasons  Transportation expense  Distance from Residence to Work  \\\n",
       "count  666.000000              666.000000                       666.000000   \n",
       "mean     2.552553              222.818318                        30.370871   \n",
       "std      1.134994               66.853234                        14.905486   \n",
       "min      1.000000                0.000000                         5.000000   \n",
       "25%      2.000000              179.000000                        17.000000   \n",
       "50%      2.000000              225.000000                        26.000000   \n",
       "75%      4.000000              260.000000                        50.000000   \n",
       "max      4.000000              388.000000                        52.000000   \n",
       "\n",
       "       Service time  Hit target  Disciplinary failure   Education         Son  \\\n",
       "count    666.000000  665.000000            666.000000  666.000000  666.000000   \n",
       "mean      12.699700   94.410526              0.054054    1.246246    1.028529   \n",
       "std        4.353883    3.827399              0.226294    0.617557    1.125546   \n",
       "min        1.000000   81.000000              0.000000    1.000000    0.000000   \n",
       "25%        9.000000   92.000000              0.000000    1.000000    0.000000   \n",
       "50%       13.000000   95.000000              0.000000    1.000000    1.000000   \n",
       "75%       16.000000   97.000000              0.000000    1.000000    2.000000   \n",
       "max       29.000000  100.000000              1.000000    4.000000    4.000000   \n",
       "\n",
       "       Social drinker  Social smoker         Pet      Weight      Height  \\\n",
       "count      666.000000     666.000000  666.000000  664.000000  666.000000   \n",
       "mean         0.584084       0.069069    0.690691   79.210843  171.869369   \n",
       "std          0.493250       0.253762    1.175107   12.634225    5.930631   \n",
       "min          0.000000       0.000000    0.000000   56.000000  163.000000   \n",
       "25%          0.000000       0.000000    0.000000   69.000000  169.000000   \n",
       "50%          1.000000       0.000000    0.000000   83.000000  170.000000   \n",
       "75%          1.000000       0.000000    1.000000   89.000000  172.000000   \n",
       "max          1.000000       1.000000    8.000000  108.000000  196.000000   \n",
       "\n",
       "       Body mass index  Absenteeism time in hours  \n",
       "count       666.000000                 666.000000  \n",
       "mean         26.815315                   6.752252  \n",
       "std           4.238081                  12.666938  \n",
       "min          19.000000                   0.000000  \n",
       "25%          24.000000                   2.000000  \n",
       "50%          25.000000                   3.000000  \n",
       "75%          31.000000                   8.000000  \n",
       "max          38.000000                 120.000000  "
      ]
     },
     "execution_count": 10,
     "metadata": {},
     "output_type": "execute_result"
    }
   ],
   "source": [
    "absent_train.describe()\n",
    "# TODO: check out workload avg, age"
   ]
  },
  {
   "cell_type": "code",
   "execution_count": 11,
   "metadata": {},
   "outputs": [
    {
     "name": "stdout",
     "output_type": "stream",
     "text": [
      "<class 'pandas.core.frame.DataFrame'>\n",
      "RangeIndex: 666 entries, 0 to 665\n",
      "Data columns (total 21 columns):\n",
      " #   Column                           Non-Null Count  Dtype  \n",
      "---  ------                           --------------  -----  \n",
      " 0   ID                               666 non-null    int64  \n",
      " 1   Reason for absence               666 non-null    int64  \n",
      " 2   Month of absence                 666 non-null    int64  \n",
      " 3   Day of the week                  666 non-null    int64  \n",
      " 4   Seasons                          666 non-null    int64  \n",
      " 5   Transportation expense           666 non-null    int64  \n",
      " 6   Distance from Residence to Work  666 non-null    int64  \n",
      " 7   Service time                     666 non-null    int64  \n",
      " 8   Age                              666 non-null    object \n",
      " 9   Work load Average/day            666 non-null    object \n",
      " 10  Hit target                       665 non-null    float64\n",
      " 11  Disciplinary failure             666 non-null    int64  \n",
      " 12  Education                        666 non-null    int64  \n",
      " 13  Son                              666 non-null    int64  \n",
      " 14  Social drinker                   666 non-null    int64  \n",
      " 15  Social smoker                    666 non-null    int64  \n",
      " 16  Pet                              666 non-null    int64  \n",
      " 17  Weight                           664 non-null    float64\n",
      " 18  Height                           666 non-null    int64  \n",
      " 19  Body mass index                  666 non-null    int64  \n",
      " 20  Absenteeism time in hours        666 non-null    int64  \n",
      "dtypes: float64(2), int64(17), object(2)\n",
      "memory usage: 109.4+ KB\n"
     ]
    }
   ],
   "source": [
    "absent_train.info()\n",
    "# Age, Workload avg need to be converted"
   ]
  },
  {
   "cell_type": "code",
   "execution_count": 12,
   "metadata": {},
   "outputs": [
    {
     "name": "stdout",
     "output_type": "stream",
     "text": [
      "Index(['ID', 'Reason_for_absence', 'Month_of_absence', 'Day_of_the_week',\n",
      "       'Seasons', 'Transportation_expense', 'Distance_from_Residence_to_Work',\n",
      "       'Service_time', 'Age', 'Work_load_Average/day', 'Hit_target',\n",
      "       'Disciplinary_failure', 'Education', 'Son', 'Social_drinker',\n",
      "       'Social_smoker', 'Pet', 'Weight', 'Height', 'Body_mass_index',\n",
      "       'Absenteeism_time_in_hours'],\n",
      "      dtype='object')\n"
     ]
    }
   ],
   "source": [
    "# relabelling columns for easy access\n",
    "absent_train.columns = absent_train.columns.str.replace(' ', '_')\n",
    "absent_train.columns = absent_train.columns.str.rstrip('_')\n",
    "print(absent_train.columns)"
   ]
  },
  {
   "cell_type": "code",
   "execution_count": 13,
   "metadata": {},
   "outputs": [
    {
     "name": "stdout",
     "output_type": "stream",
     "text": [
      "Index(['ID', 'Reason_for_absence', 'Month_of_absence', 'Day_of_the_week',\n",
      "       'Seasons', 'Transportation_expense', 'Distance_from_Residence_to_Work',\n",
      "       'Service_time', 'Age', 'Work_load_Average/day', 'Hit_target',\n",
      "       'Disciplinary_failure', 'Education', 'Son', 'Social_drinker',\n",
      "       'Social_smoker', 'Pet', 'Weight', 'Height', 'Body_mass_index',\n",
      "       'Absenteeism_time_in_hours'],\n",
      "      dtype='object')\n"
     ]
    }
   ],
   "source": [
    "# relabelling columns for easy access\n",
    "absent_test.columns = absent_test.columns.str.replace(' ', '_')\n",
    "absent_test.columns = absent_test.columns.str.rstrip('_')\n",
    "print(absent_test.columns)"
   ]
  },
  {
   "cell_type": "code",
   "execution_count": 14,
   "metadata": {},
   "outputs": [
    {
     "data": {
      "text/html": [
       "<div>\n",
       "<style scoped>\n",
       "    .dataframe tbody tr th:only-of-type {\n",
       "        vertical-align: middle;\n",
       "    }\n",
       "\n",
       "    .dataframe tbody tr th {\n",
       "        vertical-align: top;\n",
       "    }\n",
       "\n",
       "    .dataframe thead th {\n",
       "        text-align: right;\n",
       "    }\n",
       "</style>\n",
       "<table border=\"1\" class=\"dataframe\">\n",
       "  <thead>\n",
       "    <tr style=\"text-align: right;\">\n",
       "      <th></th>\n",
       "      <th>ID</th>\n",
       "      <th>Reason_for_absence</th>\n",
       "      <th>Month_of_absence</th>\n",
       "      <th>Day_of_the_week</th>\n",
       "      <th>Seasons</th>\n",
       "      <th>Transportation_expense</th>\n",
       "      <th>Distance_from_Residence_to_Work</th>\n",
       "      <th>Service_time</th>\n",
       "      <th>Age</th>\n",
       "      <th>Hit_target</th>\n",
       "      <th>Disciplinary_failure</th>\n",
       "      <th>Education</th>\n",
       "      <th>Son</th>\n",
       "      <th>Social_drinker</th>\n",
       "      <th>Social_smoker</th>\n",
       "      <th>Pet</th>\n",
       "      <th>Weight</th>\n",
       "      <th>Height</th>\n",
       "      <th>Body_mass_index</th>\n",
       "      <th>Absenteeism_time_in_hours</th>\n",
       "    </tr>\n",
       "  </thead>\n",
       "  <tbody>\n",
       "    <tr>\n",
       "      <th>count</th>\n",
       "      <td>74.000000</td>\n",
       "      <td>74.000000</td>\n",
       "      <td>74.00000</td>\n",
       "      <td>74.000000</td>\n",
       "      <td>74.000000</td>\n",
       "      <td>74.000000</td>\n",
       "      <td>74.000000</td>\n",
       "      <td>74.000000</td>\n",
       "      <td>74.000000</td>\n",
       "      <td>74.000000</td>\n",
       "      <td>74.000000</td>\n",
       "      <td>74.000000</td>\n",
       "      <td>74.000000</td>\n",
       "      <td>74.000000</td>\n",
       "      <td>74.000000</td>\n",
       "      <td>74.000000</td>\n",
       "      <td>74.000000</td>\n",
       "      <td>74.000000</td>\n",
       "      <td>74.000000</td>\n",
       "      <td>74.000000</td>\n",
       "    </tr>\n",
       "    <tr>\n",
       "      <th>mean</th>\n",
       "      <td>21.108108</td>\n",
       "      <td>16.932432</td>\n",
       "      <td>5.27027</td>\n",
       "      <td>4.108108</td>\n",
       "      <td>2.472973</td>\n",
       "      <td>205.837838</td>\n",
       "      <td>22.972973</td>\n",
       "      <td>11.243243</td>\n",
       "      <td>36.824324</td>\n",
       "      <td>96.229730</td>\n",
       "      <td>0.054054</td>\n",
       "      <td>1.702703</td>\n",
       "      <td>0.932432</td>\n",
       "      <td>0.418919</td>\n",
       "      <td>0.108108</td>\n",
       "      <td>1.243243</td>\n",
       "      <td>77.378378</td>\n",
       "      <td>174.324324</td>\n",
       "      <td>25.432432</td>\n",
       "      <td>8.472973</td>\n",
       "    </tr>\n",
       "    <tr>\n",
       "      <th>std</th>\n",
       "      <td>10.073113</td>\n",
       "      <td>8.927917</td>\n",
       "      <td>1.40739</td>\n",
       "      <td>1.400270</td>\n",
       "      <td>0.879336</td>\n",
       "      <td>70.795098</td>\n",
       "      <td>12.433905</td>\n",
       "      <td>4.474619</td>\n",
       "      <td>7.527772</td>\n",
       "      <td>2.855167</td>\n",
       "      <td>0.227668</td>\n",
       "      <td>0.961302</td>\n",
       "      <td>0.816459</td>\n",
       "      <td>0.496750</td>\n",
       "      <td>0.312636</td>\n",
       "      <td>2.175900</td>\n",
       "      <td>14.445649</td>\n",
       "      <td>6.541978</td>\n",
       "      <td>4.533229</td>\n",
       "      <td>18.295312</td>\n",
       "    </tr>\n",
       "    <tr>\n",
       "      <th>min</th>\n",
       "      <td>1.000000</td>\n",
       "      <td>0.000000</td>\n",
       "      <td>0.00000</td>\n",
       "      <td>2.000000</td>\n",
       "      <td>1.000000</td>\n",
       "      <td>118.000000</td>\n",
       "      <td>10.000000</td>\n",
       "      <td>1.000000</td>\n",
       "      <td>28.000000</td>\n",
       "      <td>91.000000</td>\n",
       "      <td>0.000000</td>\n",
       "      <td>1.000000</td>\n",
       "      <td>0.000000</td>\n",
       "      <td>0.000000</td>\n",
       "      <td>0.000000</td>\n",
       "      <td>0.000000</td>\n",
       "      <td>56.000000</td>\n",
       "      <td>163.000000</td>\n",
       "      <td>19.000000</td>\n",
       "      <td>0.000000</td>\n",
       "    </tr>\n",
       "    <tr>\n",
       "      <th>25%</th>\n",
       "      <td>14.000000</td>\n",
       "      <td>10.000000</td>\n",
       "      <td>5.00000</td>\n",
       "      <td>3.000000</td>\n",
       "      <td>1.250000</td>\n",
       "      <td>155.000000</td>\n",
       "      <td>13.000000</td>\n",
       "      <td>9.000000</td>\n",
       "      <td>30.250000</td>\n",
       "      <td>93.000000</td>\n",
       "      <td>0.000000</td>\n",
       "      <td>1.000000</td>\n",
       "      <td>0.000000</td>\n",
       "      <td>0.000000</td>\n",
       "      <td>0.000000</td>\n",
       "      <td>0.000000</td>\n",
       "      <td>68.000000</td>\n",
       "      <td>171.000000</td>\n",
       "      <td>22.000000</td>\n",
       "      <td>2.000000</td>\n",
       "    </tr>\n",
       "    <tr>\n",
       "      <th>50%</th>\n",
       "      <td>22.000000</td>\n",
       "      <td>19.000000</td>\n",
       "      <td>5.00000</td>\n",
       "      <td>4.000000</td>\n",
       "      <td>3.000000</td>\n",
       "      <td>207.000000</td>\n",
       "      <td>21.000000</td>\n",
       "      <td>10.500000</td>\n",
       "      <td>36.500000</td>\n",
       "      <td>96.000000</td>\n",
       "      <td>0.000000</td>\n",
       "      <td>1.000000</td>\n",
       "      <td>1.000000</td>\n",
       "      <td>0.000000</td>\n",
       "      <td>0.000000</td>\n",
       "      <td>0.000000</td>\n",
       "      <td>75.000000</td>\n",
       "      <td>172.000000</td>\n",
       "      <td>25.000000</td>\n",
       "      <td>3.000000</td>\n",
       "    </tr>\n",
       "    <tr>\n",
       "      <th>75%</th>\n",
       "      <td>28.750000</td>\n",
       "      <td>25.000000</td>\n",
       "      <td>6.00000</td>\n",
       "      <td>5.000000</td>\n",
       "      <td>3.000000</td>\n",
       "      <td>235.000000</td>\n",
       "      <td>26.000000</td>\n",
       "      <td>14.000000</td>\n",
       "      <td>40.000000</td>\n",
       "      <td>99.000000</td>\n",
       "      <td>0.000000</td>\n",
       "      <td>3.000000</td>\n",
       "      <td>2.000000</td>\n",
       "      <td>1.000000</td>\n",
       "      <td>0.000000</td>\n",
       "      <td>2.000000</td>\n",
       "      <td>88.000000</td>\n",
       "      <td>178.000000</td>\n",
       "      <td>28.000000</td>\n",
       "      <td>8.000000</td>\n",
       "    </tr>\n",
       "    <tr>\n",
       "      <th>max</th>\n",
       "      <td>36.000000</td>\n",
       "      <td>28.000000</td>\n",
       "      <td>7.00000</td>\n",
       "      <td>6.000000</td>\n",
       "      <td>3.000000</td>\n",
       "      <td>378.000000</td>\n",
       "      <td>52.000000</td>\n",
       "      <td>24.000000</td>\n",
       "      <td>58.000000</td>\n",
       "      <td>99.000000</td>\n",
       "      <td>1.000000</td>\n",
       "      <td>4.000000</td>\n",
       "      <td>3.000000</td>\n",
       "      <td>1.000000</td>\n",
       "      <td>1.000000</td>\n",
       "      <td>8.000000</td>\n",
       "      <td>106.000000</td>\n",
       "      <td>196.000000</td>\n",
       "      <td>38.000000</td>\n",
       "      <td>120.000000</td>\n",
       "    </tr>\n",
       "  </tbody>\n",
       "</table>\n",
       "</div>"
      ],
      "text/plain": [
       "              ID  Reason_for_absence  Month_of_absence  Day_of_the_week  \\\n",
       "count  74.000000           74.000000          74.00000        74.000000   \n",
       "mean   21.108108           16.932432           5.27027         4.108108   \n",
       "std    10.073113            8.927917           1.40739         1.400270   \n",
       "min     1.000000            0.000000           0.00000         2.000000   \n",
       "25%    14.000000           10.000000           5.00000         3.000000   \n",
       "50%    22.000000           19.000000           5.00000         4.000000   \n",
       "75%    28.750000           25.000000           6.00000         5.000000   \n",
       "max    36.000000           28.000000           7.00000         6.000000   \n",
       "\n",
       "         Seasons  Transportation_expense  Distance_from_Residence_to_Work  \\\n",
       "count  74.000000               74.000000                        74.000000   \n",
       "mean    2.472973              205.837838                        22.972973   \n",
       "std     0.879336               70.795098                        12.433905   \n",
       "min     1.000000              118.000000                        10.000000   \n",
       "25%     1.250000              155.000000                        13.000000   \n",
       "50%     3.000000              207.000000                        21.000000   \n",
       "75%     3.000000              235.000000                        26.000000   \n",
       "max     3.000000              378.000000                        52.000000   \n",
       "\n",
       "       Service_time        Age  Hit_target  Disciplinary_failure  Education  \\\n",
       "count     74.000000  74.000000   74.000000             74.000000  74.000000   \n",
       "mean      11.243243  36.824324   96.229730              0.054054   1.702703   \n",
       "std        4.474619   7.527772    2.855167              0.227668   0.961302   \n",
       "min        1.000000  28.000000   91.000000              0.000000   1.000000   \n",
       "25%        9.000000  30.250000   93.000000              0.000000   1.000000   \n",
       "50%       10.500000  36.500000   96.000000              0.000000   1.000000   \n",
       "75%       14.000000  40.000000   99.000000              0.000000   3.000000   \n",
       "max       24.000000  58.000000   99.000000              1.000000   4.000000   \n",
       "\n",
       "             Son  Social_drinker  Social_smoker        Pet      Weight  \\\n",
       "count  74.000000       74.000000      74.000000  74.000000   74.000000   \n",
       "mean    0.932432        0.418919       0.108108   1.243243   77.378378   \n",
       "std     0.816459        0.496750       0.312636   2.175900   14.445649   \n",
       "min     0.000000        0.000000       0.000000   0.000000   56.000000   \n",
       "25%     0.000000        0.000000       0.000000   0.000000   68.000000   \n",
       "50%     1.000000        0.000000       0.000000   0.000000   75.000000   \n",
       "75%     2.000000        1.000000       0.000000   2.000000   88.000000   \n",
       "max     3.000000        1.000000       1.000000   8.000000  106.000000   \n",
       "\n",
       "           Height  Body_mass_index  Absenteeism_time_in_hours  \n",
       "count   74.000000        74.000000                  74.000000  \n",
       "mean   174.324324        25.432432                   8.472973  \n",
       "std      6.541978         4.533229                  18.295312  \n",
       "min    163.000000        19.000000                   0.000000  \n",
       "25%    171.000000        22.000000                   2.000000  \n",
       "50%    172.000000        25.000000                   3.000000  \n",
       "75%    178.000000        28.000000                   8.000000  \n",
       "max    196.000000        38.000000                 120.000000  "
      ]
     },
     "execution_count": 14,
     "metadata": {},
     "output_type": "execute_result"
    }
   ],
   "source": [
    "absent_test.describe()"
   ]
  },
  {
   "cell_type": "code",
   "execution_count": 15,
   "metadata": {},
   "outputs": [
    {
     "name": "stdout",
     "output_type": "stream",
     "text": [
      "<class 'pandas.core.frame.DataFrame'>\n",
      "RangeIndex: 74 entries, 0 to 73\n",
      "Data columns (total 21 columns):\n",
      " #   Column                           Non-Null Count  Dtype \n",
      "---  ------                           --------------  ----- \n",
      " 0   ID                               74 non-null     int64 \n",
      " 1   Reason_for_absence               74 non-null     int64 \n",
      " 2   Month_of_absence                 74 non-null     int64 \n",
      " 3   Day_of_the_week                  74 non-null     int64 \n",
      " 4   Seasons                          74 non-null     int64 \n",
      " 5   Transportation_expense           74 non-null     int64 \n",
      " 6   Distance_from_Residence_to_Work  74 non-null     int64 \n",
      " 7   Service_time                     74 non-null     int64 \n",
      " 8   Age                              74 non-null     int64 \n",
      " 9   Work_load_Average/day            74 non-null     object\n",
      " 10  Hit_target                       74 non-null     int64 \n",
      " 11  Disciplinary_failure             74 non-null     int64 \n",
      " 12  Education                        74 non-null     int64 \n",
      " 13  Son                              74 non-null     int64 \n",
      " 14  Social_drinker                   74 non-null     int64 \n",
      " 15  Social_smoker                    74 non-null     int64 \n",
      " 16  Pet                              74 non-null     int64 \n",
      " 17  Weight                           74 non-null     int64 \n",
      " 18  Height                           74 non-null     int64 \n",
      " 19  Body_mass_index                  74 non-null     int64 \n",
      " 20  Absenteeism_time_in_hours        74 non-null     int64 \n",
      "dtypes: int64(20), object(1)\n",
      "memory usage: 12.3+ KB\n"
     ]
    }
   ],
   "source": [
    "absent_test.info()"
   ]
  },
  {
   "cell_type": "code",
   "execution_count": 16,
   "metadata": {},
   "outputs": [],
   "source": [
    "# converting workload avg to int\n",
    "absent_train['Work_load_Average/day'] = absent_train['Work_load_Average/day'].str.split(',').str.join('').astype(float)"
   ]
  },
  {
   "cell_type": "code",
   "execution_count": 17,
   "metadata": {},
   "outputs": [
    {
     "data": {
      "text/plain": [
       "0      239554.0\n",
       "1      239554.0\n",
       "2      239554.0\n",
       "3      239554.0\n",
       "4      239554.0\n",
       "         ...   \n",
       "661    246288.0\n",
       "662    246288.0\n",
       "663    246288.0\n",
       "664    246288.0\n",
       "665    246288.0\n",
       "Name: Work_load_Average/day, Length: 666, dtype: float64"
      ]
     },
     "execution_count": 17,
     "metadata": {},
     "output_type": "execute_result"
    }
   ],
   "source": [
    "absent_train['Work_load_Average/day']"
   ]
  },
  {
   "cell_type": "code",
   "execution_count": 18,
   "metadata": {},
   "outputs": [],
   "source": [
    "# converting workload avg to int\n",
    "absent_test['Work_load_Average/day'] = absent_test['Work_load_Average/day'].str.split(',').str.join('').astype(float)"
   ]
  },
  {
   "cell_type": "code",
   "execution_count": 19,
   "metadata": {},
   "outputs": [],
   "source": [
    "absent_test['Hit_target'] = absent_test['Hit_target'].astype(float)"
   ]
  },
  {
   "cell_type": "code",
   "execution_count": 20,
   "metadata": {},
   "outputs": [],
   "source": [
    "absent_test['Weight'] = absent_test['Weight'].astype(float)"
   ]
  },
  {
   "cell_type": "code",
   "execution_count": 21,
   "metadata": {},
   "outputs": [],
   "source": [
    "# converting age to int\n",
    "# The command fails as we have a filed labelled 'R'\n",
    "# So, for now, lets label R as 0\n",
    "absent_train['Age'] = absent_train['Age'].replace(['R'],'0')\n",
    "absent_train['Age'] = absent_train['Age'].astype(str).astype(int)"
   ]
  },
  {
   "cell_type": "code",
   "execution_count": 22,
   "metadata": {},
   "outputs": [
    {
     "name": "stdout",
     "output_type": "stream",
     "text": [
      "<class 'pandas.core.frame.DataFrame'>\n",
      "RangeIndex: 666 entries, 0 to 665\n",
      "Data columns (total 21 columns):\n",
      " #   Column                           Non-Null Count  Dtype  \n",
      "---  ------                           --------------  -----  \n",
      " 0   ID                               666 non-null    int64  \n",
      " 1   Reason_for_absence               666 non-null    int64  \n",
      " 2   Month_of_absence                 666 non-null    int64  \n",
      " 3   Day_of_the_week                  666 non-null    int64  \n",
      " 4   Seasons                          666 non-null    int64  \n",
      " 5   Transportation_expense           666 non-null    int64  \n",
      " 6   Distance_from_Residence_to_Work  666 non-null    int64  \n",
      " 7   Service_time                     666 non-null    int64  \n",
      " 8   Age                              666 non-null    int32  \n",
      " 9   Work_load_Average/day            666 non-null    float64\n",
      " 10  Hit_target                       665 non-null    float64\n",
      " 11  Disciplinary_failure             666 non-null    int64  \n",
      " 12  Education                        666 non-null    int64  \n",
      " 13  Son                              666 non-null    int64  \n",
      " 14  Social_drinker                   666 non-null    int64  \n",
      " 15  Social_smoker                    666 non-null    int64  \n",
      " 16  Pet                              666 non-null    int64  \n",
      " 17  Weight                           664 non-null    float64\n",
      " 18  Height                           666 non-null    int64  \n",
      " 19  Body_mass_index                  666 non-null    int64  \n",
      " 20  Absenteeism_time_in_hours        666 non-null    int64  \n",
      "dtypes: float64(3), int32(1), int64(17)\n",
      "memory usage: 106.8 KB\n"
     ]
    }
   ],
   "source": [
    "absent_train.info()\n",
    "# columns have been converted to appropriate types"
   ]
  },
  {
   "cell_type": "code",
   "execution_count": 23,
   "metadata": {},
   "outputs": [
    {
     "name": "stdout",
     "output_type": "stream",
     "text": [
      "<class 'pandas.core.frame.DataFrame'>\n",
      "RangeIndex: 74 entries, 0 to 73\n",
      "Data columns (total 21 columns):\n",
      " #   Column                           Non-Null Count  Dtype  \n",
      "---  ------                           --------------  -----  \n",
      " 0   ID                               74 non-null     int64  \n",
      " 1   Reason_for_absence               74 non-null     int64  \n",
      " 2   Month_of_absence                 74 non-null     int64  \n",
      " 3   Day_of_the_week                  74 non-null     int64  \n",
      " 4   Seasons                          74 non-null     int64  \n",
      " 5   Transportation_expense           74 non-null     int64  \n",
      " 6   Distance_from_Residence_to_Work  74 non-null     int64  \n",
      " 7   Service_time                     74 non-null     int64  \n",
      " 8   Age                              74 non-null     int64  \n",
      " 9   Work_load_Average/day            74 non-null     float64\n",
      " 10  Hit_target                       74 non-null     float64\n",
      " 11  Disciplinary_failure             74 non-null     int64  \n",
      " 12  Education                        74 non-null     int64  \n",
      " 13  Son                              74 non-null     int64  \n",
      " 14  Social_drinker                   74 non-null     int64  \n",
      " 15  Social_smoker                    74 non-null     int64  \n",
      " 16  Pet                              74 non-null     int64  \n",
      " 17  Weight                           74 non-null     float64\n",
      " 18  Height                           74 non-null     int64  \n",
      " 19  Body_mass_index                  74 non-null     int64  \n",
      " 20  Absenteeism_time_in_hours        74 non-null     int64  \n",
      "dtypes: float64(3), int64(18)\n",
      "memory usage: 12.3 KB\n"
     ]
    }
   ],
   "source": [
    "absent_test.info()\n",
    "# Now the datatypes are consistent across train and test"
   ]
  },
  {
   "cell_type": "code",
   "execution_count": 24,
   "metadata": {},
   "outputs": [
    {
     "data": {
      "text/html": [
       "<div>\n",
       "<style scoped>\n",
       "    .dataframe tbody tr th:only-of-type {\n",
       "        vertical-align: middle;\n",
       "    }\n",
       "\n",
       "    .dataframe tbody tr th {\n",
       "        vertical-align: top;\n",
       "    }\n",
       "\n",
       "    .dataframe thead th {\n",
       "        text-align: right;\n",
       "    }\n",
       "</style>\n",
       "<table border=\"1\" class=\"dataframe\">\n",
       "  <thead>\n",
       "    <tr style=\"text-align: right;\">\n",
       "      <th></th>\n",
       "      <th>ID</th>\n",
       "      <th>Reason_for_absence</th>\n",
       "      <th>Month_of_absence</th>\n",
       "      <th>Day_of_the_week</th>\n",
       "      <th>Seasons</th>\n",
       "      <th>Transportation_expense</th>\n",
       "      <th>Distance_from_Residence_to_Work</th>\n",
       "      <th>Service_time</th>\n",
       "      <th>Age</th>\n",
       "      <th>Work_load_Average/day</th>\n",
       "      <th>...</th>\n",
       "      <th>Disciplinary_failure</th>\n",
       "      <th>Education</th>\n",
       "      <th>Son</th>\n",
       "      <th>Social_drinker</th>\n",
       "      <th>Social_smoker</th>\n",
       "      <th>Pet</th>\n",
       "      <th>Weight</th>\n",
       "      <th>Height</th>\n",
       "      <th>Body_mass_index</th>\n",
       "      <th>Absenteeism_time_in_hours</th>\n",
       "    </tr>\n",
       "  </thead>\n",
       "  <tbody>\n",
       "    <tr>\n",
       "      <th>count</th>\n",
       "      <td>666.000000</td>\n",
       "      <td>666.000000</td>\n",
       "      <td>666.000000</td>\n",
       "      <td>666.000000</td>\n",
       "      <td>666.000000</td>\n",
       "      <td>666.000000</td>\n",
       "      <td>666.000000</td>\n",
       "      <td>666.000000</td>\n",
       "      <td>666.000000</td>\n",
       "      <td>666.000000</td>\n",
       "      <td>...</td>\n",
       "      <td>666.000000</td>\n",
       "      <td>666.000000</td>\n",
       "      <td>666.000000</td>\n",
       "      <td>666.000000</td>\n",
       "      <td>666.000000</td>\n",
       "      <td>666.000000</td>\n",
       "      <td>664.000000</td>\n",
       "      <td>666.000000</td>\n",
       "      <td>666.000000</td>\n",
       "      <td>666.000000</td>\n",
       "    </tr>\n",
       "    <tr>\n",
       "      <th>mean</th>\n",
       "      <td>17.674174</td>\n",
       "      <td>19.469970</td>\n",
       "      <td>6.441441</td>\n",
       "      <td>3.893393</td>\n",
       "      <td>2.552553</td>\n",
       "      <td>222.818318</td>\n",
       "      <td>30.370871</td>\n",
       "      <td>12.699700</td>\n",
       "      <td>36.297297</td>\n",
       "      <td>272636.885886</td>\n",
       "      <td>...</td>\n",
       "      <td>0.054054</td>\n",
       "      <td>1.246246</td>\n",
       "      <td>1.028529</td>\n",
       "      <td>0.584084</td>\n",
       "      <td>0.069069</td>\n",
       "      <td>0.690691</td>\n",
       "      <td>79.210843</td>\n",
       "      <td>171.869369</td>\n",
       "      <td>26.815315</td>\n",
       "      <td>6.752252</td>\n",
       "    </tr>\n",
       "    <tr>\n",
       "      <th>std</th>\n",
       "      <td>11.075428</td>\n",
       "      <td>8.345175</td>\n",
       "      <td>3.573128</td>\n",
       "      <td>1.423451</td>\n",
       "      <td>1.134994</td>\n",
       "      <td>66.853234</td>\n",
       "      <td>14.905486</td>\n",
       "      <td>4.353883</td>\n",
       "      <td>6.661655</td>\n",
       "      <td>42957.873835</td>\n",
       "      <td>...</td>\n",
       "      <td>0.226294</td>\n",
       "      <td>0.617557</td>\n",
       "      <td>1.125546</td>\n",
       "      <td>0.493250</td>\n",
       "      <td>0.253762</td>\n",
       "      <td>1.175107</td>\n",
       "      <td>12.634225</td>\n",
       "      <td>5.930631</td>\n",
       "      <td>4.238081</td>\n",
       "      <td>12.666938</td>\n",
       "    </tr>\n",
       "    <tr>\n",
       "      <th>min</th>\n",
       "      <td>1.000000</td>\n",
       "      <td>0.000000</td>\n",
       "      <td>1.000000</td>\n",
       "      <td>2.000000</td>\n",
       "      <td>1.000000</td>\n",
       "      <td>0.000000</td>\n",
       "      <td>5.000000</td>\n",
       "      <td>1.000000</td>\n",
       "      <td>0.000000</td>\n",
       "      <td>0.000000</td>\n",
       "      <td>...</td>\n",
       "      <td>0.000000</td>\n",
       "      <td>1.000000</td>\n",
       "      <td>0.000000</td>\n",
       "      <td>0.000000</td>\n",
       "      <td>0.000000</td>\n",
       "      <td>0.000000</td>\n",
       "      <td>56.000000</td>\n",
       "      <td>163.000000</td>\n",
       "      <td>19.000000</td>\n",
       "      <td>0.000000</td>\n",
       "    </tr>\n",
       "    <tr>\n",
       "      <th>25%</th>\n",
       "      <td>7.000000</td>\n",
       "      <td>13.000000</td>\n",
       "      <td>3.000000</td>\n",
       "      <td>3.000000</td>\n",
       "      <td>2.000000</td>\n",
       "      <td>179.000000</td>\n",
       "      <td>17.000000</td>\n",
       "      <td>9.000000</td>\n",
       "      <td>31.000000</td>\n",
       "      <td>244387.000000</td>\n",
       "      <td>...</td>\n",
       "      <td>0.000000</td>\n",
       "      <td>1.000000</td>\n",
       "      <td>0.000000</td>\n",
       "      <td>0.000000</td>\n",
       "      <td>0.000000</td>\n",
       "      <td>0.000000</td>\n",
       "      <td>69.000000</td>\n",
       "      <td>169.000000</td>\n",
       "      <td>24.000000</td>\n",
       "      <td>2.000000</td>\n",
       "    </tr>\n",
       "    <tr>\n",
       "      <th>50%</th>\n",
       "      <td>18.000000</td>\n",
       "      <td>23.000000</td>\n",
       "      <td>7.000000</td>\n",
       "      <td>4.000000</td>\n",
       "      <td>2.000000</td>\n",
       "      <td>225.000000</td>\n",
       "      <td>26.000000</td>\n",
       "      <td>13.000000</td>\n",
       "      <td>37.000000</td>\n",
       "      <td>264249.000000</td>\n",
       "      <td>...</td>\n",
       "      <td>0.000000</td>\n",
       "      <td>1.000000</td>\n",
       "      <td>1.000000</td>\n",
       "      <td>1.000000</td>\n",
       "      <td>0.000000</td>\n",
       "      <td>0.000000</td>\n",
       "      <td>83.000000</td>\n",
       "      <td>170.000000</td>\n",
       "      <td>25.000000</td>\n",
       "      <td>3.000000</td>\n",
       "    </tr>\n",
       "    <tr>\n",
       "      <th>75%</th>\n",
       "      <td>28.000000</td>\n",
       "      <td>26.000000</td>\n",
       "      <td>10.000000</td>\n",
       "      <td>5.000000</td>\n",
       "      <td>4.000000</td>\n",
       "      <td>260.000000</td>\n",
       "      <td>50.000000</td>\n",
       "      <td>16.000000</td>\n",
       "      <td>40.000000</td>\n",
       "      <td>294217.000000</td>\n",
       "      <td>...</td>\n",
       "      <td>0.000000</td>\n",
       "      <td>1.000000</td>\n",
       "      <td>2.000000</td>\n",
       "      <td>1.000000</td>\n",
       "      <td>0.000000</td>\n",
       "      <td>1.000000</td>\n",
       "      <td>89.000000</td>\n",
       "      <td>172.000000</td>\n",
       "      <td>31.000000</td>\n",
       "      <td>8.000000</td>\n",
       "    </tr>\n",
       "    <tr>\n",
       "      <th>max</th>\n",
       "      <td>36.000000</td>\n",
       "      <td>28.000000</td>\n",
       "      <td>12.000000</td>\n",
       "      <td>6.000000</td>\n",
       "      <td>4.000000</td>\n",
       "      <td>388.000000</td>\n",
       "      <td>52.000000</td>\n",
       "      <td>29.000000</td>\n",
       "      <td>58.000000</td>\n",
       "      <td>378884.000000</td>\n",
       "      <td>...</td>\n",
       "      <td>1.000000</td>\n",
       "      <td>4.000000</td>\n",
       "      <td>4.000000</td>\n",
       "      <td>1.000000</td>\n",
       "      <td>1.000000</td>\n",
       "      <td>8.000000</td>\n",
       "      <td>108.000000</td>\n",
       "      <td>196.000000</td>\n",
       "      <td>38.000000</td>\n",
       "      <td>120.000000</td>\n",
       "    </tr>\n",
       "  </tbody>\n",
       "</table>\n",
       "<p>8 rows × 21 columns</p>\n",
       "</div>"
      ],
      "text/plain": [
       "               ID  Reason_for_absence  Month_of_absence  Day_of_the_week  \\\n",
       "count  666.000000          666.000000        666.000000       666.000000   \n",
       "mean    17.674174           19.469970          6.441441         3.893393   \n",
       "std     11.075428            8.345175          3.573128         1.423451   \n",
       "min      1.000000            0.000000          1.000000         2.000000   \n",
       "25%      7.000000           13.000000          3.000000         3.000000   \n",
       "50%     18.000000           23.000000          7.000000         4.000000   \n",
       "75%     28.000000           26.000000         10.000000         5.000000   \n",
       "max     36.000000           28.000000         12.000000         6.000000   \n",
       "\n",
       "          Seasons  Transportation_expense  Distance_from_Residence_to_Work  \\\n",
       "count  666.000000              666.000000                       666.000000   \n",
       "mean     2.552553              222.818318                        30.370871   \n",
       "std      1.134994               66.853234                        14.905486   \n",
       "min      1.000000                0.000000                         5.000000   \n",
       "25%      2.000000              179.000000                        17.000000   \n",
       "50%      2.000000              225.000000                        26.000000   \n",
       "75%      4.000000              260.000000                        50.000000   \n",
       "max      4.000000              388.000000                        52.000000   \n",
       "\n",
       "       Service_time         Age  Work_load_Average/day  ...  \\\n",
       "count    666.000000  666.000000             666.000000  ...   \n",
       "mean      12.699700   36.297297          272636.885886  ...   \n",
       "std        4.353883    6.661655           42957.873835  ...   \n",
       "min        1.000000    0.000000               0.000000  ...   \n",
       "25%        9.000000   31.000000          244387.000000  ...   \n",
       "50%       13.000000   37.000000          264249.000000  ...   \n",
       "75%       16.000000   40.000000          294217.000000  ...   \n",
       "max       29.000000   58.000000          378884.000000  ...   \n",
       "\n",
       "       Disciplinary_failure   Education         Son  Social_drinker  \\\n",
       "count            666.000000  666.000000  666.000000      666.000000   \n",
       "mean               0.054054    1.246246    1.028529        0.584084   \n",
       "std                0.226294    0.617557    1.125546        0.493250   \n",
       "min                0.000000    1.000000    0.000000        0.000000   \n",
       "25%                0.000000    1.000000    0.000000        0.000000   \n",
       "50%                0.000000    1.000000    1.000000        1.000000   \n",
       "75%                0.000000    1.000000    2.000000        1.000000   \n",
       "max                1.000000    4.000000    4.000000        1.000000   \n",
       "\n",
       "       Social_smoker         Pet      Weight      Height  Body_mass_index  \\\n",
       "count     666.000000  666.000000  664.000000  666.000000       666.000000   \n",
       "mean        0.069069    0.690691   79.210843  171.869369        26.815315   \n",
       "std         0.253762    1.175107   12.634225    5.930631         4.238081   \n",
       "min         0.000000    0.000000   56.000000  163.000000        19.000000   \n",
       "25%         0.000000    0.000000   69.000000  169.000000        24.000000   \n",
       "50%         0.000000    0.000000   83.000000  170.000000        25.000000   \n",
       "75%         0.000000    1.000000   89.000000  172.000000        31.000000   \n",
       "max         1.000000    8.000000  108.000000  196.000000        38.000000   \n",
       "\n",
       "       Absenteeism_time_in_hours  \n",
       "count                 666.000000  \n",
       "mean                    6.752252  \n",
       "std                    12.666938  \n",
       "min                     0.000000  \n",
       "25%                     2.000000  \n",
       "50%                     3.000000  \n",
       "75%                     8.000000  \n",
       "max                   120.000000  \n",
       "\n",
       "[8 rows x 21 columns]"
      ]
     },
     "execution_count": 24,
     "metadata": {},
     "output_type": "execute_result"
    }
   ],
   "source": [
    "absent_train.describe()"
   ]
  },
  {
   "cell_type": "code",
   "execution_count": 25,
   "metadata": {},
   "outputs": [
    {
     "data": {
      "text/plain": [
       "array([1, 0, 2], dtype=int64)"
      ]
     },
     "execution_count": 25,
     "metadata": {},
     "output_type": "execute_result"
    }
   ],
   "source": [
    "# converting target variable for classification\n",
    "unaltered_df = absent_train.copy(deep=True)\n",
    "ones = (absent_train.Absenteeism_time_in_hours > 0) & (absent_train.Absenteeism_time_in_hours <= 6)\n",
    "twos = absent_train.Absenteeism_time_in_hours > 6\n",
    "absent_train.loc[ones,'Absenteeism_time_in_hours'] = 1\n",
    "absent_train.loc[twos,'Absenteeism_time_in_hours'] = 2\n",
    "absent_train['Absenteeism_time_in_hours'].unique()"
   ]
  },
  {
   "cell_type": "code",
   "execution_count": 26,
   "metadata": {},
   "outputs": [
    {
     "data": {
      "text/plain": [
       "array([1, 2, 0], dtype=int64)"
      ]
     },
     "execution_count": 26,
     "metadata": {},
     "output_type": "execute_result"
    }
   ],
   "source": [
    "# converting target variable for classification\n",
    "unaltered_df_test = absent_test.copy(deep=True)\n",
    "ones = (absent_test.Absenteeism_time_in_hours > 0) & (absent_test.Absenteeism_time_in_hours <= 6)\n",
    "twos = absent_test.Absenteeism_time_in_hours > 6\n",
    "absent_test.loc[ones,'Absenteeism_time_in_hours'] = 1\n",
    "absent_test.loc[twos,'Absenteeism_time_in_hours'] = 2\n",
    "absent_test['Absenteeism_time_in_hours'].unique()"
   ]
  },
  {
   "cell_type": "code",
   "execution_count": 27,
   "metadata": {},
   "outputs": [
    {
     "data": {
      "text/plain": [
       "0      4\n",
       "1      0\n",
       "2      2\n",
       "3      4\n",
       "4      2\n",
       "      ..\n",
       "661    2\n",
       "662    3\n",
       "663    2\n",
       "664    2\n",
       "665    8\n",
       "Name: Absenteeism_time_in_hours, Length: 666, dtype: int64"
      ]
     },
     "execution_count": 27,
     "metadata": {},
     "output_type": "execute_result"
    }
   ],
   "source": [
    "continuous_target = unaltered_df['Absenteeism_time_in_hours']\n",
    "continuous_target"
   ]
  },
  {
   "cell_type": "code",
   "execution_count": 28,
   "metadata": {},
   "outputs": [
    {
     "data": {
      "text/plain": [
       "0     2\n",
       "1     8\n",
       "2     3\n",
       "3     2\n",
       "4     4\n",
       "     ..\n",
       "69    8\n",
       "70    4\n",
       "71    0\n",
       "72    0\n",
       "73    0\n",
       "Name: Absenteeism_time_in_hours, Length: 74, dtype: int64"
      ]
     },
     "execution_count": 28,
     "metadata": {},
     "output_type": "execute_result"
    }
   ],
   "source": [
    "continuous_target_test = unaltered_df_test['Absenteeism_time_in_hours']\n",
    "continuous_target_test"
   ]
  },
  {
   "cell_type": "code",
   "execution_count": 29,
   "metadata": {},
   "outputs": [],
   "source": [
    "# Dropping column ID because it is not a predictor and setting target\n",
    "target = absent_train['Absenteeism_time_in_hours']\n",
    "y = target\n",
    "X = absent_train.drop(['ID','Absenteeism_time_in_hours'],axis=1)"
   ]
  },
  {
   "cell_type": "code",
   "execution_count": 30,
   "metadata": {},
   "outputs": [],
   "source": [
    "target_test = absent_test['Absenteeism_time_in_hours']\n",
    "y_test = target_test\n",
    "X_test = absent_test.drop(['ID','Absenteeism_time_in_hours'],axis=1)"
   ]
  },
  {
   "cell_type": "code",
   "execution_count": 31,
   "metadata": {},
   "outputs": [
    {
     "data": {
      "text/html": [
       "<div>\n",
       "<style scoped>\n",
       "    .dataframe tbody tr th:only-of-type {\n",
       "        vertical-align: middle;\n",
       "    }\n",
       "\n",
       "    .dataframe tbody tr th {\n",
       "        vertical-align: top;\n",
       "    }\n",
       "\n",
       "    .dataframe thead th {\n",
       "        text-align: right;\n",
       "    }\n",
       "</style>\n",
       "<table border=\"1\" class=\"dataframe\">\n",
       "  <thead>\n",
       "    <tr style=\"text-align: right;\">\n",
       "      <th></th>\n",
       "      <th>Reason_for_absence</th>\n",
       "      <th>Month_of_absence</th>\n",
       "      <th>Day_of_the_week</th>\n",
       "      <th>Seasons</th>\n",
       "      <th>Transportation_expense</th>\n",
       "      <th>Distance_from_Residence_to_Work</th>\n",
       "      <th>Service_time</th>\n",
       "      <th>Age</th>\n",
       "      <th>Work_load_Average/day</th>\n",
       "      <th>Hit_target</th>\n",
       "      <th>Disciplinary_failure</th>\n",
       "      <th>Education</th>\n",
       "      <th>Son</th>\n",
       "      <th>Social_drinker</th>\n",
       "      <th>Social_smoker</th>\n",
       "      <th>Pet</th>\n",
       "      <th>Weight</th>\n",
       "      <th>Height</th>\n",
       "      <th>Body_mass_index</th>\n",
       "    </tr>\n",
       "  </thead>\n",
       "  <tbody>\n",
       "    <tr>\n",
       "      <th>count</th>\n",
       "      <td>666.000000</td>\n",
       "      <td>666.000000</td>\n",
       "      <td>666.000000</td>\n",
       "      <td>666.000000</td>\n",
       "      <td>666.000000</td>\n",
       "      <td>666.000000</td>\n",
       "      <td>666.000000</td>\n",
       "      <td>666.000000</td>\n",
       "      <td>666.000000</td>\n",
       "      <td>665.000000</td>\n",
       "      <td>666.000000</td>\n",
       "      <td>666.000000</td>\n",
       "      <td>666.000000</td>\n",
       "      <td>666.000000</td>\n",
       "      <td>666.000000</td>\n",
       "      <td>666.000000</td>\n",
       "      <td>664.000000</td>\n",
       "      <td>666.000000</td>\n",
       "      <td>666.000000</td>\n",
       "    </tr>\n",
       "    <tr>\n",
       "      <th>mean</th>\n",
       "      <td>19.469970</td>\n",
       "      <td>6.441441</td>\n",
       "      <td>3.893393</td>\n",
       "      <td>2.552553</td>\n",
       "      <td>222.818318</td>\n",
       "      <td>30.370871</td>\n",
       "      <td>12.699700</td>\n",
       "      <td>36.297297</td>\n",
       "      <td>272636.885886</td>\n",
       "      <td>94.410526</td>\n",
       "      <td>0.054054</td>\n",
       "      <td>1.246246</td>\n",
       "      <td>1.028529</td>\n",
       "      <td>0.584084</td>\n",
       "      <td>0.069069</td>\n",
       "      <td>0.690691</td>\n",
       "      <td>79.210843</td>\n",
       "      <td>171.869369</td>\n",
       "      <td>26.815315</td>\n",
       "    </tr>\n",
       "    <tr>\n",
       "      <th>std</th>\n",
       "      <td>8.345175</td>\n",
       "      <td>3.573128</td>\n",
       "      <td>1.423451</td>\n",
       "      <td>1.134994</td>\n",
       "      <td>66.853234</td>\n",
       "      <td>14.905486</td>\n",
       "      <td>4.353883</td>\n",
       "      <td>6.661655</td>\n",
       "      <td>42957.873835</td>\n",
       "      <td>3.827399</td>\n",
       "      <td>0.226294</td>\n",
       "      <td>0.617557</td>\n",
       "      <td>1.125546</td>\n",
       "      <td>0.493250</td>\n",
       "      <td>0.253762</td>\n",
       "      <td>1.175107</td>\n",
       "      <td>12.634225</td>\n",
       "      <td>5.930631</td>\n",
       "      <td>4.238081</td>\n",
       "    </tr>\n",
       "    <tr>\n",
       "      <th>min</th>\n",
       "      <td>0.000000</td>\n",
       "      <td>1.000000</td>\n",
       "      <td>2.000000</td>\n",
       "      <td>1.000000</td>\n",
       "      <td>0.000000</td>\n",
       "      <td>5.000000</td>\n",
       "      <td>1.000000</td>\n",
       "      <td>0.000000</td>\n",
       "      <td>0.000000</td>\n",
       "      <td>81.000000</td>\n",
       "      <td>0.000000</td>\n",
       "      <td>1.000000</td>\n",
       "      <td>0.000000</td>\n",
       "      <td>0.000000</td>\n",
       "      <td>0.000000</td>\n",
       "      <td>0.000000</td>\n",
       "      <td>56.000000</td>\n",
       "      <td>163.000000</td>\n",
       "      <td>19.000000</td>\n",
       "    </tr>\n",
       "    <tr>\n",
       "      <th>25%</th>\n",
       "      <td>13.000000</td>\n",
       "      <td>3.000000</td>\n",
       "      <td>3.000000</td>\n",
       "      <td>2.000000</td>\n",
       "      <td>179.000000</td>\n",
       "      <td>17.000000</td>\n",
       "      <td>9.000000</td>\n",
       "      <td>31.000000</td>\n",
       "      <td>244387.000000</td>\n",
       "      <td>92.000000</td>\n",
       "      <td>0.000000</td>\n",
       "      <td>1.000000</td>\n",
       "      <td>0.000000</td>\n",
       "      <td>0.000000</td>\n",
       "      <td>0.000000</td>\n",
       "      <td>0.000000</td>\n",
       "      <td>69.000000</td>\n",
       "      <td>169.000000</td>\n",
       "      <td>24.000000</td>\n",
       "    </tr>\n",
       "    <tr>\n",
       "      <th>50%</th>\n",
       "      <td>23.000000</td>\n",
       "      <td>7.000000</td>\n",
       "      <td>4.000000</td>\n",
       "      <td>2.000000</td>\n",
       "      <td>225.000000</td>\n",
       "      <td>26.000000</td>\n",
       "      <td>13.000000</td>\n",
       "      <td>37.000000</td>\n",
       "      <td>264249.000000</td>\n",
       "      <td>95.000000</td>\n",
       "      <td>0.000000</td>\n",
       "      <td>1.000000</td>\n",
       "      <td>1.000000</td>\n",
       "      <td>1.000000</td>\n",
       "      <td>0.000000</td>\n",
       "      <td>0.000000</td>\n",
       "      <td>83.000000</td>\n",
       "      <td>170.000000</td>\n",
       "      <td>25.000000</td>\n",
       "    </tr>\n",
       "    <tr>\n",
       "      <th>75%</th>\n",
       "      <td>26.000000</td>\n",
       "      <td>10.000000</td>\n",
       "      <td>5.000000</td>\n",
       "      <td>4.000000</td>\n",
       "      <td>260.000000</td>\n",
       "      <td>50.000000</td>\n",
       "      <td>16.000000</td>\n",
       "      <td>40.000000</td>\n",
       "      <td>294217.000000</td>\n",
       "      <td>97.000000</td>\n",
       "      <td>0.000000</td>\n",
       "      <td>1.000000</td>\n",
       "      <td>2.000000</td>\n",
       "      <td>1.000000</td>\n",
       "      <td>0.000000</td>\n",
       "      <td>1.000000</td>\n",
       "      <td>89.000000</td>\n",
       "      <td>172.000000</td>\n",
       "      <td>31.000000</td>\n",
       "    </tr>\n",
       "    <tr>\n",
       "      <th>max</th>\n",
       "      <td>28.000000</td>\n",
       "      <td>12.000000</td>\n",
       "      <td>6.000000</td>\n",
       "      <td>4.000000</td>\n",
       "      <td>388.000000</td>\n",
       "      <td>52.000000</td>\n",
       "      <td>29.000000</td>\n",
       "      <td>58.000000</td>\n",
       "      <td>378884.000000</td>\n",
       "      <td>100.000000</td>\n",
       "      <td>1.000000</td>\n",
       "      <td>4.000000</td>\n",
       "      <td>4.000000</td>\n",
       "      <td>1.000000</td>\n",
       "      <td>1.000000</td>\n",
       "      <td>8.000000</td>\n",
       "      <td>108.000000</td>\n",
       "      <td>196.000000</td>\n",
       "      <td>38.000000</td>\n",
       "    </tr>\n",
       "  </tbody>\n",
       "</table>\n",
       "</div>"
      ],
      "text/plain": [
       "       Reason_for_absence  Month_of_absence  Day_of_the_week     Seasons  \\\n",
       "count          666.000000        666.000000       666.000000  666.000000   \n",
       "mean            19.469970          6.441441         3.893393    2.552553   \n",
       "std              8.345175          3.573128         1.423451    1.134994   \n",
       "min              0.000000          1.000000         2.000000    1.000000   \n",
       "25%             13.000000          3.000000         3.000000    2.000000   \n",
       "50%             23.000000          7.000000         4.000000    2.000000   \n",
       "75%             26.000000         10.000000         5.000000    4.000000   \n",
       "max             28.000000         12.000000         6.000000    4.000000   \n",
       "\n",
       "       Transportation_expense  Distance_from_Residence_to_Work  Service_time  \\\n",
       "count              666.000000                       666.000000    666.000000   \n",
       "mean               222.818318                        30.370871     12.699700   \n",
       "std                 66.853234                        14.905486      4.353883   \n",
       "min                  0.000000                         5.000000      1.000000   \n",
       "25%                179.000000                        17.000000      9.000000   \n",
       "50%                225.000000                        26.000000     13.000000   \n",
       "75%                260.000000                        50.000000     16.000000   \n",
       "max                388.000000                        52.000000     29.000000   \n",
       "\n",
       "              Age  Work_load_Average/day  Hit_target  Disciplinary_failure  \\\n",
       "count  666.000000             666.000000  665.000000            666.000000   \n",
       "mean    36.297297          272636.885886   94.410526              0.054054   \n",
       "std      6.661655           42957.873835    3.827399              0.226294   \n",
       "min      0.000000               0.000000   81.000000              0.000000   \n",
       "25%     31.000000          244387.000000   92.000000              0.000000   \n",
       "50%     37.000000          264249.000000   95.000000              0.000000   \n",
       "75%     40.000000          294217.000000   97.000000              0.000000   \n",
       "max     58.000000          378884.000000  100.000000              1.000000   \n",
       "\n",
       "        Education         Son  Social_drinker  Social_smoker         Pet  \\\n",
       "count  666.000000  666.000000      666.000000     666.000000  666.000000   \n",
       "mean     1.246246    1.028529        0.584084       0.069069    0.690691   \n",
       "std      0.617557    1.125546        0.493250       0.253762    1.175107   \n",
       "min      1.000000    0.000000        0.000000       0.000000    0.000000   \n",
       "25%      1.000000    0.000000        0.000000       0.000000    0.000000   \n",
       "50%      1.000000    1.000000        1.000000       0.000000    0.000000   \n",
       "75%      1.000000    2.000000        1.000000       0.000000    1.000000   \n",
       "max      4.000000    4.000000        1.000000       1.000000    8.000000   \n",
       "\n",
       "           Weight      Height  Body_mass_index  \n",
       "count  664.000000  666.000000       666.000000  \n",
       "mean    79.210843  171.869369        26.815315  \n",
       "std     12.634225    5.930631         4.238081  \n",
       "min     56.000000  163.000000        19.000000  \n",
       "25%     69.000000  169.000000        24.000000  \n",
       "50%     83.000000  170.000000        25.000000  \n",
       "75%     89.000000  172.000000        31.000000  \n",
       "max    108.000000  196.000000        38.000000  "
      ]
     },
     "execution_count": 31,
     "metadata": {},
     "output_type": "execute_result"
    }
   ],
   "source": [
    "X.describe()"
   ]
  },
  {
   "cell_type": "code",
   "execution_count": 32,
   "metadata": {},
   "outputs": [
    {
     "data": {
      "text/plain": [
       "(74,)"
      ]
     },
     "execution_count": 32,
     "metadata": {},
     "output_type": "execute_result"
    }
   ],
   "source": [
    "y_test.shape"
   ]
  },
  {
   "cell_type": "code",
   "execution_count": 33,
   "metadata": {},
   "outputs": [
    {
     "data": {
      "text/plain": [
       "array([1, 2, 0], dtype=int64)"
      ]
     },
     "execution_count": 33,
     "metadata": {},
     "output_type": "execute_result"
    }
   ],
   "source": [
    "y_test.unique()"
   ]
  },
  {
   "cell_type": "code",
   "execution_count": 34,
   "metadata": {},
   "outputs": [
    {
     "data": {
      "text/plain": [
       "array([1, 0, 2], dtype=int64)"
      ]
     },
     "execution_count": 34,
     "metadata": {},
     "output_type": "execute_result"
    }
   ],
   "source": [
    "y.unique()"
   ]
  },
  {
   "cell_type": "code",
   "execution_count": 35,
   "metadata": {},
   "outputs": [
    {
     "data": {
      "text/plain": [
       "1    0.579580\n",
       "2    0.364865\n",
       "0    0.055556\n",
       "Name: Absenteeism_time_in_hours, dtype: float64"
      ]
     },
     "execution_count": 35,
     "metadata": {},
     "output_type": "execute_result"
    }
   ],
   "source": [
    "y.value_counts()/y.shape\n",
    "# The dataset is imbalanced to a certain extent.\n",
    "# Label 0 accounts for only 5% of the cases"
   ]
  },
  {
   "cell_type": "code",
   "execution_count": 36,
   "metadata": {},
   "outputs": [
    {
     "data": {
      "text/plain": [
       "ID                                 0\n",
       "Reason_for_absence                 0\n",
       "Month_of_absence                   0\n",
       "Day_of_the_week                    0\n",
       "Seasons                            0\n",
       "Transportation_expense             0\n",
       "Distance_from_Residence_to_Work    0\n",
       "Service_time                       0\n",
       "Age                                0\n",
       "Work_load_Average/day              0\n",
       "Hit_target                         1\n",
       "Disciplinary_failure               0\n",
       "Education                          0\n",
       "Son                                0\n",
       "Social_drinker                     0\n",
       "Social_smoker                      0\n",
       "Pet                                0\n",
       "Weight                             2\n",
       "Height                             0\n",
       "Body_mass_index                    0\n",
       "Absenteeism_time_in_hours          0\n",
       "dtype: int64"
      ]
     },
     "execution_count": 36,
     "metadata": {},
     "output_type": "execute_result"
    }
   ],
   "source": [
    "# Now, let's check for undetected NAs\n",
    "absent_train.isna().sum()"
   ]
  },
  {
   "cell_type": "code",
   "execution_count": 37,
   "metadata": {},
   "outputs": [
    {
     "data": {
      "text/plain": [
       "ID                                 0\n",
       "Reason_for_absence                 0\n",
       "Month_of_absence                   0\n",
       "Day_of_the_week                    0\n",
       "Seasons                            0\n",
       "Transportation_expense             0\n",
       "Distance_from_Residence_to_Work    0\n",
       "Service_time                       0\n",
       "Age                                0\n",
       "Work_load_Average/day              0\n",
       "Hit_target                         0\n",
       "Disciplinary_failure               0\n",
       "Education                          0\n",
       "Son                                0\n",
       "Social_drinker                     0\n",
       "Social_smoker                      0\n",
       "Pet                                0\n",
       "Weight                             0\n",
       "Height                             0\n",
       "Body_mass_index                    0\n",
       "Absenteeism_time_in_hours          0\n",
       "dtype: int64"
      ]
     },
     "execution_count": 37,
     "metadata": {},
     "output_type": "execute_result"
    }
   ],
   "source": [
    "absent_test.isna().sum()"
   ]
  },
  {
   "cell_type": "code",
   "execution_count": 38,
   "metadata": {},
   "outputs": [
    {
     "data": {
      "text/plain": [
       "<AxesSubplot:xlabel='Work_load_Average/day'>"
      ]
     },
     "execution_count": 38,
     "metadata": {},
     "output_type": "execute_result"
    },
    {
     "data": {
      "image/png": "[encoded data removed]",
      "text/plain": [
       "<Figure size 432x288 with 1 Axes>"
      ]
     },
     "metadata": {
      "needs_background": "light"
     },
     "output_type": "display_data"
    }
   ],
   "source": [
    "# columns Hit_target and Weight have missing values.\n",
    "# Let's detect outliers simultaneously\n",
    "import seaborn as sns\n",
    "sns.boxplot(x=X['Work_load_Average/day'])"
   ]
  },
  {
   "cell_type": "code",
   "execution_count": 39,
   "metadata": {},
   "outputs": [
    {
     "data": {
      "text/plain": [
       "<AxesSubplot:xlabel='Transportation_expense'>"
      ]
     },
     "execution_count": 39,
     "metadata": {},
     "output_type": "execute_result"
    },
    {
     "data": {
      "image/png": "[encoded data removed]",
      "text/plain": [
       "<Figure size 432x288 with 1 Axes>"
      ]
     },
     "metadata": {
      "needs_background": "light"
     },
     "output_type": "display_data"
    }
   ],
   "source": [
    "sns.boxplot(x=X['Transportation_expense'])"
   ]
  },
  {
   "cell_type": "code",
   "execution_count": 40,
   "metadata": {},
   "outputs": [
    {
     "data": {
      "text/plain": [
       "<AxesSubplot:xlabel='Distance_from_Residence_to_Work'>"
      ]
     },
     "execution_count": 40,
     "metadata": {},
     "output_type": "execute_result"
    },
    {
     "data": {
      "image/png": "[encoded data removed]",
      "text/plain": [
       "<Figure size 432x288 with 1 Axes>"
      ]
     },
     "metadata": {
      "needs_background": "light"
     },
     "output_type": "display_data"
    }
   ],
   "source": [
    "sns.boxplot(x=X['Distance_from_Residence_to_Work'])"
   ]
  },
  {
   "cell_type": "code",
   "execution_count": 41,
   "metadata": {},
   "outputs": [
    {
     "data": {
      "text/plain": [
       "<AxesSubplot:xlabel='Age'>"
      ]
     },
     "execution_count": 41,
     "metadata": {},
     "output_type": "execute_result"
    },
    {
     "data": {
      "image/png": "[encoded data removed]",
      "text/plain": [
       "<Figure size 432x288 with 1 Axes>"
      ]
     },
     "metadata": {
      "needs_background": "light"
     },
     "output_type": "display_data"
    }
   ],
   "source": [
    "sns.boxplot(x=X['Age'])"
   ]
  },
  {
   "cell_type": "code",
   "execution_count": 42,
   "metadata": {},
   "outputs": [
    {
     "data": {
      "text/plain": [
       "<AxesSubplot:xlabel='Hit_target'>"
      ]
     },
     "execution_count": 42,
     "metadata": {},
     "output_type": "execute_result"
    },
    {
     "data": {
      "image/png": "[encoded data removed]",
      "text/plain": [
       "<Figure size 432x288 with 1 Axes>"
      ]
     },
     "metadata": {
      "needs_background": "light"
     },
     "output_type": "display_data"
    }
   ],
   "source": [
    "sns.boxplot(x=X['Hit_target'])"
   ]
  },
  {
   "cell_type": "code",
   "execution_count": 43,
   "metadata": {},
   "outputs": [
    {
     "data": {
      "text/plain": [
       "<AxesSubplot:xlabel='Weight'>"
      ]
     },
     "execution_count": 43,
     "metadata": {},
     "output_type": "execute_result"
    },
    {
     "data": {
      "image/png": "[encoded data removed]",
      "text/plain": [
       "<Figure size 432x288 with 1 Axes>"
      ]
     },
     "metadata": {
      "needs_background": "light"
     },
     "output_type": "display_data"
    }
   ],
   "source": [
    "sns.boxplot(x=X['Weight'])"
   ]
  },
  {
   "cell_type": "code",
   "execution_count": 44,
   "metadata": {},
   "outputs": [
    {
     "data": {
      "text/plain": [
       "<AxesSubplot:xlabel='Height'>"
      ]
     },
     "execution_count": 44,
     "metadata": {},
     "output_type": "execute_result"
    },
    {
     "data": {
      "image/png": "[encoded data removed]",
      "text/plain": [
       "<Figure size 432x288 with 1 Axes>"
      ]
     },
     "metadata": {
      "needs_background": "light"
     },
     "output_type": "display_data"
    }
   ],
   "source": [
    "sns.boxplot(x=X['Height'])"
   ]
  },
  {
   "cell_type": "code",
   "execution_count": 45,
   "metadata": {},
   "outputs": [
    {
     "data": {
      "text/plain": [
       "<AxesSubplot:xlabel='Body_mass_index'>"
      ]
     },
     "execution_count": 45,
     "metadata": {},
     "output_type": "execute_result"
    },
    {
     "data": {
      "image/png": "[encoded data removed]",
      "text/plain": [
       "<Figure size 432x288 with 1 Axes>"
      ]
     },
     "metadata": {
      "needs_background": "light"
     },
     "output_type": "display_data"
    }
   ],
   "source": [
    "sns.boxplot(x=X['Body_mass_index'])"
   ]
  },
  {
   "cell_type": "markdown",
   "metadata": {},
   "source": [
    "After studying the boxplots of our continuous variables, we can definitely see that the lower end outliers for Work_load_Average/day, Transportation_expense and Age that lie on 0 are most probably outliers caused due to data collection.\n",
    "\n",
    "Now, we are going to use 2 techniques on outliers and missing values.\n",
    "\n",
    "1. Dropping outliers and missing values\n",
    "2. Imputing outliers and missing values"
   ]
  },
  {
   "cell_type": "code",
   "execution_count": 46,
   "metadata": {},
   "outputs": [
    {
     "name": "stdout",
     "output_type": "stream",
     "text": [
      "[573, 641]\n"
     ]
    }
   ],
   "source": [
    "# Dropping method\n",
    "# outlier detection (zscore method)\n",
    "#Internally studentized method (z-score)\n",
    "import numpy as np\n",
    "from scipy import stats\n",
    "\n",
    "def z_score_method(df, variable_name):\n",
    "    #Takes two parameters: dataframe & variable of interest as string\n",
    "    columns = df.columns\n",
    "    z = np.abs(stats.zscore(df))\n",
    "    threshold = 3\n",
    "    outlier = []\n",
    "    index=0\n",
    "    for item in range(len(columns)):\n",
    "        if columns[item] == variable_name:\n",
    "            index = item\n",
    "    for i, v in enumerate(z[:, index]):\n",
    "        if v > threshold:\n",
    "            outlier.append(i)\n",
    "        else:\n",
    "            continue\n",
    "    return outlier\n",
    "\n",
    "outlier_z = z_score_method(X, 'Work_load_Average/day')\n",
    "print(outlier_z)"
   ]
  },
  {
   "cell_type": "code",
   "execution_count": 47,
   "metadata": {},
   "outputs": [
    {
     "name": "stdout",
     "output_type": "stream",
     "text": [
      "12.0\n",
      "0.0\n"
     ]
    }
   ],
   "source": [
    "print(X['Work_load_Average/day'][573])\n",
    "print(X['Work_load_Average/day'][641])"
   ]
  },
  {
   "cell_type": "code",
   "execution_count": 48,
   "metadata": {},
   "outputs": [
    {
     "name": "stdout",
     "output_type": "stream",
     "text": [
      "[242]\n"
     ]
    }
   ],
   "source": [
    "outlier_z = z_score_method(X, 'Transportation_expense')\n",
    "print(outlier_z)"
   ]
  },
  {
   "cell_type": "code",
   "execution_count": 49,
   "metadata": {},
   "outputs": [
    {
     "name": "stdout",
     "output_type": "stream",
     "text": [
      "0\n"
     ]
    }
   ],
   "source": [
    "print(X['Transportation_expense'][242])"
   ]
  },
  {
   "cell_type": "code",
   "execution_count": 50,
   "metadata": {},
   "outputs": [
    {
     "name": "stdout",
     "output_type": "stream",
     "text": [
      "[200, 255, 376, 434, 521, 620, 622, 640]\n"
     ]
    }
   ],
   "source": [
    "outlier_z = z_score_method(X, 'Age')\n",
    "print(outlier_z)"
   ]
  },
  {
   "cell_type": "code",
   "execution_count": 51,
   "metadata": {},
   "outputs": [
    {
     "name": "stdout",
     "output_type": "stream",
     "text": [
      "200     0\n",
      "255    58\n",
      "376     0\n",
      "434    58\n",
      "521    58\n",
      "620    58\n",
      "622    58\n",
      "640    58\n",
      "Name: Age, dtype: int32\n"
     ]
    }
   ],
   "source": [
    "print(X['Age'][outlier_z])"
   ]
  },
  {
   "cell_type": "code",
   "execution_count": 52,
   "metadata": {},
   "outputs": [],
   "source": [
    "# Age = 58, should not be dropped. So let's only drop age = 0\n",
    "# Therefore the outlier row numbers are 573,641,242,200,376"
   ]
  },
  {
   "cell_type": "code",
   "execution_count": 53,
   "metadata": {},
   "outputs": [
    {
     "data": {
      "text/plain": [
       "[531]"
      ]
     },
     "execution_count": 53,
     "metadata": {},
     "output_type": "execute_result"
    }
   ],
   "source": [
    "# Missing values\n",
    "X[X['Hit_target'].isnull()].index.tolist()"
   ]
  },
  {
   "cell_type": "code",
   "execution_count": 54,
   "metadata": {},
   "outputs": [
    {
     "data": {
      "text/plain": [
       "[500, 576]"
      ]
     },
     "execution_count": 54,
     "metadata": {},
     "output_type": "execute_result"
    }
   ],
   "source": [
    "X[X['Weight'].isnull()].index.tolist()"
   ]
  },
  {
   "cell_type": "code",
   "execution_count": 55,
   "metadata": {},
   "outputs": [
    {
     "name": "stderr",
     "output_type": "stream",
     "text": [
      "<ipython-input-55-5aeb7815d2e5>:2: SettingWithCopyWarning: \n",
      "A value is trying to be set on a copy of a slice from a DataFrame\n",
      "\n",
      "See the caveats in the documentation: https://pandas.pydata.org/pandas-docs/stable/user_guide/indexing.html#returning-a-view-versus-a-copy\n",
      "  X['Weight'][500] = X['Body_mass_index'][500] * ((X['Height'][500]/100)**2)\n",
      "<ipython-input-55-5aeb7815d2e5>:3: SettingWithCopyWarning: \n",
      "A value is trying to be set on a copy of a slice from a DataFrame\n",
      "\n",
      "See the caveats in the documentation: https://pandas.pydata.org/pandas-docs/stable/user_guide/indexing.html#returning-a-view-versus-a-copy\n",
      "  X['Weight'][576] = X['Body_mass_index'][576] * ((X['Height'][576]/100)**2)\n"
     ]
    }
   ],
   "source": [
    "# however, weight can be manually computed as Height in metres * BMI\n",
    "X['Weight'][500] = X['Body_mass_index'][500] * ((X['Height'][500]/100)**2)\n",
    "X['Weight'][576] = X['Body_mass_index'][576] * ((X['Height'][576]/100)**2)"
   ]
  },
  {
   "cell_type": "code",
   "execution_count": 56,
   "metadata": {},
   "outputs": [
    {
     "data": {
      "text/plain": [
       "55.5579"
      ]
     },
     "execution_count": 56,
     "metadata": {},
     "output_type": "execute_result"
    }
   ],
   "source": [
    "X['Weight'][500]"
   ]
  },
  {
   "cell_type": "code",
   "execution_count": 57,
   "metadata": {},
   "outputs": [],
   "source": [
    "# Therefore, the final rows to be dropped are: 573,641,242,200,376,531\n",
    "dropping_rows = [573,641,242,200,376,531]\n",
    "dropping_rows.sort()"
   ]
  },
  {
   "cell_type": "code",
   "execution_count": 58,
   "metadata": {},
   "outputs": [
    {
     "data": {
      "text/plain": [
       "[200, 242, 376, 531, 573, 641]"
      ]
     },
     "execution_count": 58,
     "metadata": {},
     "output_type": "execute_result"
    }
   ],
   "source": [
    "dropping_rows"
   ]
  },
  {
   "cell_type": "code",
   "execution_count": 59,
   "metadata": {},
   "outputs": [],
   "source": [
    "X_unaltered = X.copy(deep=True)"
   ]
  },
  {
   "cell_type": "code",
   "execution_count": 60,
   "metadata": {},
   "outputs": [],
   "source": [
    "X_drop = X.drop(dropping_rows)"
   ]
  },
  {
   "cell_type": "code",
   "execution_count": 61,
   "metadata": {},
   "outputs": [],
   "source": [
    "# dropping equivalent rows in y\n",
    "y_drop = y.drop(dropping_rows)"
   ]
  },
  {
   "cell_type": "code",
   "execution_count": 62,
   "metadata": {},
   "outputs": [
    {
     "data": {
      "text/plain": [
       "(660,)"
      ]
     },
     "execution_count": 62,
     "metadata": {},
     "output_type": "execute_result"
    }
   ],
   "source": [
    "y_drop.shape"
   ]
  },
  {
   "cell_type": "code",
   "execution_count": 63,
   "metadata": {},
   "outputs": [
    {
     "data": {
      "text/plain": [
       "(660, 19)"
      ]
     },
     "execution_count": 63,
     "metadata": {},
     "output_type": "execute_result"
    }
   ],
   "source": [
    "X_drop.shape"
   ]
  },
  {
   "cell_type": "code",
   "execution_count": 64,
   "metadata": {},
   "outputs": [
    {
     "data": {
      "text/plain": [
       "(666, 19)"
      ]
     },
     "execution_count": 64,
     "metadata": {},
     "output_type": "execute_result"
    }
   ],
   "source": [
    "X.shape"
   ]
  },
  {
   "cell_type": "code",
   "execution_count": 65,
   "metadata": {},
   "outputs": [
    {
     "data": {
      "text/plain": [
       "(666, 19)"
      ]
     },
     "execution_count": 65,
     "metadata": {},
     "output_type": "execute_result"
    }
   ],
   "source": [
    "X_unaltered.shape"
   ]
  },
  {
   "cell_type": "markdown",
   "metadata": {},
   "source": [
    "Now let's try imputation instead.\n",
    "\n",
    "Here we choose KNN imputation.\n",
    "However, since it is scale sensitive, let us first normalize the data."
   ]
  },
  {
   "cell_type": "code",
   "execution_count": 66,
   "metadata": {},
   "outputs": [
    {
     "data": {
      "text/html": [
       "<div>\n",
       "<style scoped>\n",
       "    .dataframe tbody tr th:only-of-type {\n",
       "        vertical-align: middle;\n",
       "    }\n",
       "\n",
       "    .dataframe tbody tr th {\n",
       "        vertical-align: top;\n",
       "    }\n",
       "\n",
       "    .dataframe thead th {\n",
       "        text-align: right;\n",
       "    }\n",
       "</style>\n",
       "<table border=\"1\" class=\"dataframe\">\n",
       "  <thead>\n",
       "    <tr style=\"text-align: right;\">\n",
       "      <th></th>\n",
       "      <th>Reason_for_absence</th>\n",
       "      <th>Month_of_absence</th>\n",
       "      <th>Day_of_the_week</th>\n",
       "      <th>Seasons</th>\n",
       "      <th>Transportation_expense</th>\n",
       "      <th>Distance_from_Residence_to_Work</th>\n",
       "      <th>Service_time</th>\n",
       "      <th>Age</th>\n",
       "      <th>Work_load_Average/day</th>\n",
       "      <th>Hit_target</th>\n",
       "      <th>Disciplinary_failure</th>\n",
       "      <th>Education</th>\n",
       "      <th>Son</th>\n",
       "      <th>Social_drinker</th>\n",
       "      <th>Social_smoker</th>\n",
       "      <th>Pet</th>\n",
       "      <th>Weight</th>\n",
       "      <th>Height</th>\n",
       "      <th>Body_mass_index</th>\n",
       "    </tr>\n",
       "  </thead>\n",
       "  <tbody>\n",
       "    <tr>\n",
       "      <th>0</th>\n",
       "      <td>0.928571</td>\n",
       "      <td>0.545455</td>\n",
       "      <td>0.25</td>\n",
       "      <td>0.0</td>\n",
       "      <td>0.744845</td>\n",
       "      <td>0.659574</td>\n",
       "      <td>0.428571</td>\n",
       "      <td>0.568966</td>\n",
       "      <td>0.632262</td>\n",
       "      <td>0.842105</td>\n",
       "      <td>0.0</td>\n",
       "      <td>0.0</td>\n",
       "      <td>0.50</td>\n",
       "      <td>1.0</td>\n",
       "      <td>0.0</td>\n",
       "      <td>0.125</td>\n",
       "      <td>0.656764</td>\n",
       "      <td>0.272727</td>\n",
       "      <td>0.578947</td>\n",
       "    </tr>\n",
       "    <tr>\n",
       "      <th>1</th>\n",
       "      <td>0.000000</td>\n",
       "      <td>0.545455</td>\n",
       "      <td>0.25</td>\n",
       "      <td>0.0</td>\n",
       "      <td>0.304124</td>\n",
       "      <td>0.170213</td>\n",
       "      <td>0.607143</td>\n",
       "      <td>0.862069</td>\n",
       "      <td>0.632262</td>\n",
       "      <td>0.842105</td>\n",
       "      <td>1.0</td>\n",
       "      <td>0.0</td>\n",
       "      <td>0.25</td>\n",
       "      <td>1.0</td>\n",
       "      <td>0.0</td>\n",
       "      <td>0.000</td>\n",
       "      <td>0.809314</td>\n",
       "      <td>0.454545</td>\n",
       "      <td>0.631579</td>\n",
       "    </tr>\n",
       "    <tr>\n",
       "      <th>2</th>\n",
       "      <td>0.821429</td>\n",
       "      <td>0.545455</td>\n",
       "      <td>0.50</td>\n",
       "      <td>0.0</td>\n",
       "      <td>0.461340</td>\n",
       "      <td>0.978723</td>\n",
       "      <td>0.607143</td>\n",
       "      <td>0.655172</td>\n",
       "      <td>0.632262</td>\n",
       "      <td>0.842105</td>\n",
       "      <td>0.0</td>\n",
       "      <td>0.0</td>\n",
       "      <td>0.00</td>\n",
       "      <td>1.0</td>\n",
       "      <td>0.0</td>\n",
       "      <td>0.000</td>\n",
       "      <td>0.637696</td>\n",
       "      <td>0.212121</td>\n",
       "      <td>0.631579</td>\n",
       "    </tr>\n",
       "    <tr>\n",
       "      <th>3</th>\n",
       "      <td>0.250000</td>\n",
       "      <td>0.545455</td>\n",
       "      <td>0.75</td>\n",
       "      <td>0.0</td>\n",
       "      <td>0.719072</td>\n",
       "      <td>0.000000</td>\n",
       "      <td>0.464286</td>\n",
       "      <td>0.672414</td>\n",
       "      <td>0.632262</td>\n",
       "      <td>0.842105</td>\n",
       "      <td>0.0</td>\n",
       "      <td>0.0</td>\n",
       "      <td>0.50</td>\n",
       "      <td>1.0</td>\n",
       "      <td>1.0</td>\n",
       "      <td>0.000</td>\n",
       "      <td>0.237254</td>\n",
       "      <td>0.151515</td>\n",
       "      <td>0.263158</td>\n",
       "    </tr>\n",
       "    <tr>\n",
       "      <th>4</th>\n",
       "      <td>0.821429</td>\n",
       "      <td>0.545455</td>\n",
       "      <td>0.75</td>\n",
       "      <td>0.0</td>\n",
       "      <td>0.744845</td>\n",
       "      <td>0.659574</td>\n",
       "      <td>0.428571</td>\n",
       "      <td>0.568966</td>\n",
       "      <td>0.632262</td>\n",
       "      <td>0.842105</td>\n",
       "      <td>0.0</td>\n",
       "      <td>0.0</td>\n",
       "      <td>0.50</td>\n",
       "      <td>1.0</td>\n",
       "      <td>0.0</td>\n",
       "      <td>0.125</td>\n",
       "      <td>0.656764</td>\n",
       "      <td>0.272727</td>\n",
       "      <td>0.578947</td>\n",
       "    </tr>\n",
       "  </tbody>\n",
       "</table>\n",
       "</div>"
      ],
      "text/plain": [
       "   Reason_for_absence  Month_of_absence  Day_of_the_week  Seasons  \\\n",
       "0            0.928571          0.545455             0.25      0.0   \n",
       "1            0.000000          0.545455             0.25      0.0   \n",
       "2            0.821429          0.545455             0.50      0.0   \n",
       "3            0.250000          0.545455             0.75      0.0   \n",
       "4            0.821429          0.545455             0.75      0.0   \n",
       "\n",
       "   Transportation_expense  Distance_from_Residence_to_Work  Service_time  \\\n",
       "0                0.744845                         0.659574      0.428571   \n",
       "1                0.304124                         0.170213      0.607143   \n",
       "2                0.461340                         0.978723      0.607143   \n",
       "3                0.719072                         0.000000      0.464286   \n",
       "4                0.744845                         0.659574      0.428571   \n",
       "\n",
       "        Age  Work_load_Average/day  Hit_target  Disciplinary_failure  \\\n",
       "0  0.568966               0.632262    0.842105                   0.0   \n",
       "1  0.862069               0.632262    0.842105                   1.0   \n",
       "2  0.655172               0.632262    0.842105                   0.0   \n",
       "3  0.672414               0.632262    0.842105                   0.0   \n",
       "4  0.568966               0.632262    0.842105                   0.0   \n",
       "\n",
       "   Education   Son  Social_drinker  Social_smoker    Pet    Weight    Height  \\\n",
       "0        0.0  0.50             1.0            0.0  0.125  0.656764  0.272727   \n",
       "1        0.0  0.25             1.0            0.0  0.000  0.809314  0.454545   \n",
       "2        0.0  0.00             1.0            0.0  0.000  0.637696  0.212121   \n",
       "3        0.0  0.50             1.0            1.0  0.000  0.237254  0.151515   \n",
       "4        0.0  0.50             1.0            0.0  0.125  0.656764  0.272727   \n",
       "\n",
       "   Body_mass_index  \n",
       "0         0.578947  \n",
       "1         0.631579  \n",
       "2         0.631579  \n",
       "3         0.263158  \n",
       "4         0.578947  "
      ]
     },
     "execution_count": 66,
     "metadata": {},
     "output_type": "execute_result"
    }
   ],
   "source": [
    "# Using minmax scaler\n",
    "from sklearn.preprocessing import MinMaxScaler\n",
    "scaler = MinMaxScaler().fit(X)\n",
    "X_scaled_array = scaler.transform(X)\n",
    "X_scaled=pd.DataFrame(X_scaled_array, columns = ['Reason_for_absence', 'Month_of_absence', 'Day_of_the_week',\n",
    "       'Seasons', 'Transportation_expense', 'Distance_from_Residence_to_Work',\n",
    "       'Service_time', 'Age', 'Work_load_Average/day', 'Hit_target',\n",
    "       'Disciplinary_failure', 'Education', 'Son', 'Social_drinker',\n",
    "       'Social_smoker', 'Pet', 'Weight', 'Height', 'Body_mass_index'])\n",
    "X_scaled.head()"
   ]
  },
  {
   "cell_type": "code",
   "execution_count": 67,
   "metadata": {},
   "outputs": [
    {
     "data": {
      "text/html": [
       "<div>\n",
       "<style scoped>\n",
       "    .dataframe tbody tr th:only-of-type {\n",
       "        vertical-align: middle;\n",
       "    }\n",
       "\n",
       "    .dataframe tbody tr th {\n",
       "        vertical-align: top;\n",
       "    }\n",
       "\n",
       "    .dataframe thead th {\n",
       "        text-align: right;\n",
       "    }\n",
       "</style>\n",
       "<table border=\"1\" class=\"dataframe\">\n",
       "  <thead>\n",
       "    <tr style=\"text-align: right;\">\n",
       "      <th></th>\n",
       "      <th>Reason_for_absence</th>\n",
       "      <th>Month_of_absence</th>\n",
       "      <th>Day_of_the_week</th>\n",
       "      <th>Seasons</th>\n",
       "      <th>Transportation_expense</th>\n",
       "      <th>Distance_from_Residence_to_Work</th>\n",
       "      <th>Service_time</th>\n",
       "      <th>Age</th>\n",
       "      <th>Work_load_Average/day</th>\n",
       "      <th>Hit_target</th>\n",
       "      <th>Disciplinary_failure</th>\n",
       "      <th>Education</th>\n",
       "      <th>Son</th>\n",
       "      <th>Social_drinker</th>\n",
       "      <th>Social_smoker</th>\n",
       "      <th>Pet</th>\n",
       "      <th>Weight</th>\n",
       "      <th>Height</th>\n",
       "      <th>Body_mass_index</th>\n",
       "    </tr>\n",
       "  </thead>\n",
       "  <tbody>\n",
       "    <tr>\n",
       "      <th>0</th>\n",
       "      <td>0.964286</td>\n",
       "      <td>0.272727</td>\n",
       "      <td>1.00</td>\n",
       "      <td>0.666667</td>\n",
       "      <td>0.461340</td>\n",
       "      <td>0.446809</td>\n",
       "      <td>0.285714</td>\n",
       "      <td>0.517241</td>\n",
       "      <td>0.650035</td>\n",
       "      <td>0.526316</td>\n",
       "      <td>0.0</td>\n",
       "      <td>0.666667</td>\n",
       "      <td>0.00</td>\n",
       "      <td>0.0</td>\n",
       "      <td>0.0</td>\n",
       "      <td>0.00</td>\n",
       "      <td>0.008430</td>\n",
       "      <td>0.242424</td>\n",
       "      <td>0.000000</td>\n",
       "    </tr>\n",
       "    <tr>\n",
       "      <th>1</th>\n",
       "      <td>0.678571</td>\n",
       "      <td>0.272727</td>\n",
       "      <td>0.00</td>\n",
       "      <td>0.666667</td>\n",
       "      <td>0.579897</td>\n",
       "      <td>0.446809</td>\n",
       "      <td>0.285714</td>\n",
       "      <td>0.482759</td>\n",
       "      <td>0.650035</td>\n",
       "      <td>0.526316</td>\n",
       "      <td>0.0</td>\n",
       "      <td>0.000000</td>\n",
       "      <td>0.25</td>\n",
       "      <td>0.0</td>\n",
       "      <td>0.0</td>\n",
       "      <td>0.25</td>\n",
       "      <td>0.256323</td>\n",
       "      <td>0.181818</td>\n",
       "      <td>0.263158</td>\n",
       "    </tr>\n",
       "    <tr>\n",
       "      <th>2</th>\n",
       "      <td>0.571429</td>\n",
       "      <td>0.272727</td>\n",
       "      <td>0.25</td>\n",
       "      <td>0.666667</td>\n",
       "      <td>0.605670</td>\n",
       "      <td>0.234043</td>\n",
       "      <td>0.250000</td>\n",
       "      <td>0.551724</td>\n",
       "      <td>0.650035</td>\n",
       "      <td>0.526316</td>\n",
       "      <td>0.0</td>\n",
       "      <td>0.666667</td>\n",
       "      <td>0.00</td>\n",
       "      <td>0.0</td>\n",
       "      <td>0.0</td>\n",
       "      <td>0.00</td>\n",
       "      <td>0.370735</td>\n",
       "      <td>0.454545</td>\n",
       "      <td>0.315789</td>\n",
       "    </tr>\n",
       "    <tr>\n",
       "      <th>3</th>\n",
       "      <td>0.964286</td>\n",
       "      <td>0.272727</td>\n",
       "      <td>1.00</td>\n",
       "      <td>0.666667</td>\n",
       "      <td>0.461340</td>\n",
       "      <td>0.446809</td>\n",
       "      <td>0.285714</td>\n",
       "      <td>0.517241</td>\n",
       "      <td>0.650035</td>\n",
       "      <td>0.526316</td>\n",
       "      <td>0.0</td>\n",
       "      <td>0.666667</td>\n",
       "      <td>0.00</td>\n",
       "      <td>0.0</td>\n",
       "      <td>0.0</td>\n",
       "      <td>0.00</td>\n",
       "      <td>0.008430</td>\n",
       "      <td>0.242424</td>\n",
       "      <td>0.000000</td>\n",
       "    </tr>\n",
       "    <tr>\n",
       "      <th>4</th>\n",
       "      <td>1.000000</td>\n",
       "      <td>0.272727</td>\n",
       "      <td>0.25</td>\n",
       "      <td>0.666667</td>\n",
       "      <td>0.399485</td>\n",
       "      <td>0.148936</td>\n",
       "      <td>0.464286</td>\n",
       "      <td>0.586207</td>\n",
       "      <td>0.650035</td>\n",
       "      <td>0.526316</td>\n",
       "      <td>0.0</td>\n",
       "      <td>0.000000</td>\n",
       "      <td>0.50</td>\n",
       "      <td>1.0</td>\n",
       "      <td>0.0</td>\n",
       "      <td>0.00</td>\n",
       "      <td>0.752108</td>\n",
       "      <td>1.000000</td>\n",
       "      <td>0.315789</td>\n",
       "    </tr>\n",
       "  </tbody>\n",
       "</table>\n",
       "</div>"
      ],
      "text/plain": [
       "   Reason_for_absence  Month_of_absence  Day_of_the_week   Seasons  \\\n",
       "0            0.964286          0.272727             1.00  0.666667   \n",
       "1            0.678571          0.272727             0.00  0.666667   \n",
       "2            0.571429          0.272727             0.25  0.666667   \n",
       "3            0.964286          0.272727             1.00  0.666667   \n",
       "4            1.000000          0.272727             0.25  0.666667   \n",
       "\n",
       "   Transportation_expense  Distance_from_Residence_to_Work  Service_time  \\\n",
       "0                0.461340                         0.446809      0.285714   \n",
       "1                0.579897                         0.446809      0.285714   \n",
       "2                0.605670                         0.234043      0.250000   \n",
       "3                0.461340                         0.446809      0.285714   \n",
       "4                0.399485                         0.148936      0.464286   \n",
       "\n",
       "        Age  Work_load_Average/day  Hit_target  Disciplinary_failure  \\\n",
       "0  0.517241               0.650035    0.526316                   0.0   \n",
       "1  0.482759               0.650035    0.526316                   0.0   \n",
       "2  0.551724               0.650035    0.526316                   0.0   \n",
       "3  0.517241               0.650035    0.526316                   0.0   \n",
       "4  0.586207               0.650035    0.526316                   0.0   \n",
       "\n",
       "   Education   Son  Social_drinker  Social_smoker   Pet    Weight    Height  \\\n",
       "0   0.666667  0.00             0.0            0.0  0.00  0.008430  0.242424   \n",
       "1   0.000000  0.25             0.0            0.0  0.25  0.256323  0.181818   \n",
       "2   0.666667  0.00             0.0            0.0  0.00  0.370735  0.454545   \n",
       "3   0.666667  0.00             0.0            0.0  0.00  0.008430  0.242424   \n",
       "4   0.000000  0.50             1.0            0.0  0.00  0.752108  1.000000   \n",
       "\n",
       "   Body_mass_index  \n",
       "0         0.000000  \n",
       "1         0.263158  \n",
       "2         0.315789  \n",
       "3         0.000000  \n",
       "4         0.315789  "
      ]
     },
     "execution_count": 67,
     "metadata": {},
     "output_type": "execute_result"
    }
   ],
   "source": [
    "# Using scaled object fit on train to scale test data\n",
    "X_test_scaled_array = scaler.transform(X_test)\n",
    "X_test_scaled=pd.DataFrame(X_test_scaled_array, columns = ['Reason_for_absence', 'Month_of_absence', 'Day_of_the_week',\n",
    "       'Seasons', 'Transportation_expense', 'Distance_from_Residence_to_Work',\n",
    "       'Service_time', 'Age', 'Work_load_Average/day', 'Hit_target',\n",
    "       'Disciplinary_failure', 'Education', 'Son', 'Social_drinker',\n",
    "       'Social_smoker', 'Pet', 'Weight', 'Height', 'Body_mass_index'])\n",
    "X_test_scaled.head()"
   ]
  },
  {
   "cell_type": "code",
   "execution_count": 68,
   "metadata": {},
   "outputs": [
    {
     "data": {
      "text/html": [
       "<div>\n",
       "<style scoped>\n",
       "    .dataframe tbody tr th:only-of-type {\n",
       "        vertical-align: middle;\n",
       "    }\n",
       "\n",
       "    .dataframe tbody tr th {\n",
       "        vertical-align: top;\n",
       "    }\n",
       "\n",
       "    .dataframe thead th {\n",
       "        text-align: right;\n",
       "    }\n",
       "</style>\n",
       "<table border=\"1\" class=\"dataframe\">\n",
       "  <thead>\n",
       "    <tr style=\"text-align: right;\">\n",
       "      <th></th>\n",
       "      <th>Reason_for_absence</th>\n",
       "      <th>Month_of_absence</th>\n",
       "      <th>Day_of_the_week</th>\n",
       "      <th>Seasons</th>\n",
       "      <th>Transportation_expense</th>\n",
       "      <th>Distance_from_Residence_to_Work</th>\n",
       "      <th>Service_time</th>\n",
       "      <th>Age</th>\n",
       "      <th>Work_load_Average/day</th>\n",
       "      <th>Hit_target</th>\n",
       "      <th>Disciplinary_failure</th>\n",
       "      <th>Education</th>\n",
       "      <th>Son</th>\n",
       "      <th>Social_drinker</th>\n",
       "      <th>Social_smoker</th>\n",
       "      <th>Pet</th>\n",
       "      <th>Weight</th>\n",
       "      <th>Height</th>\n",
       "      <th>Body_mass_index</th>\n",
       "    </tr>\n",
       "  </thead>\n",
       "  <tbody>\n",
       "    <tr>\n",
       "      <th>0</th>\n",
       "      <td>0.928571</td>\n",
       "      <td>0.545455</td>\n",
       "      <td>0.25</td>\n",
       "      <td>0.0</td>\n",
       "      <td>0.633333</td>\n",
       "      <td>0.659574</td>\n",
       "      <td>0.428571</td>\n",
       "      <td>0.193548</td>\n",
       "      <td>0.194471</td>\n",
       "      <td>0.842105</td>\n",
       "      <td>0.0</td>\n",
       "      <td>0.0</td>\n",
       "      <td>0.50</td>\n",
       "      <td>1.0</td>\n",
       "      <td>0.0</td>\n",
       "      <td>0.125</td>\n",
       "      <td>0.656764</td>\n",
       "      <td>0.272727</td>\n",
       "      <td>0.578947</td>\n",
       "    </tr>\n",
       "    <tr>\n",
       "      <th>1</th>\n",
       "      <td>0.000000</td>\n",
       "      <td>0.545455</td>\n",
       "      <td>0.25</td>\n",
       "      <td>0.0</td>\n",
       "      <td>0.000000</td>\n",
       "      <td>0.170213</td>\n",
       "      <td>0.607143</td>\n",
       "      <td>0.741935</td>\n",
       "      <td>0.194471</td>\n",
       "      <td>0.842105</td>\n",
       "      <td>1.0</td>\n",
       "      <td>0.0</td>\n",
       "      <td>0.25</td>\n",
       "      <td>1.0</td>\n",
       "      <td>0.0</td>\n",
       "      <td>0.000</td>\n",
       "      <td>0.809314</td>\n",
       "      <td>0.454545</td>\n",
       "      <td>0.631579</td>\n",
       "    </tr>\n",
       "    <tr>\n",
       "      <th>2</th>\n",
       "      <td>0.821429</td>\n",
       "      <td>0.545455</td>\n",
       "      <td>0.50</td>\n",
       "      <td>0.0</td>\n",
       "      <td>0.225926</td>\n",
       "      <td>0.978723</td>\n",
       "      <td>0.607143</td>\n",
       "      <td>0.354839</td>\n",
       "      <td>0.194471</td>\n",
       "      <td>0.842105</td>\n",
       "      <td>0.0</td>\n",
       "      <td>0.0</td>\n",
       "      <td>0.00</td>\n",
       "      <td>1.0</td>\n",
       "      <td>0.0</td>\n",
       "      <td>0.000</td>\n",
       "      <td>0.637696</td>\n",
       "      <td>0.212121</td>\n",
       "      <td>0.631579</td>\n",
       "    </tr>\n",
       "    <tr>\n",
       "      <th>3</th>\n",
       "      <td>0.250000</td>\n",
       "      <td>0.545455</td>\n",
       "      <td>0.75</td>\n",
       "      <td>0.0</td>\n",
       "      <td>0.596296</td>\n",
       "      <td>0.000000</td>\n",
       "      <td>0.464286</td>\n",
       "      <td>0.387097</td>\n",
       "      <td>0.194471</td>\n",
       "      <td>0.842105</td>\n",
       "      <td>0.0</td>\n",
       "      <td>0.0</td>\n",
       "      <td>0.50</td>\n",
       "      <td>1.0</td>\n",
       "      <td>1.0</td>\n",
       "      <td>0.000</td>\n",
       "      <td>0.237254</td>\n",
       "      <td>0.151515</td>\n",
       "      <td>0.263158</td>\n",
       "    </tr>\n",
       "    <tr>\n",
       "      <th>4</th>\n",
       "      <td>0.821429</td>\n",
       "      <td>0.545455</td>\n",
       "      <td>0.75</td>\n",
       "      <td>0.0</td>\n",
       "      <td>0.633333</td>\n",
       "      <td>0.659574</td>\n",
       "      <td>0.428571</td>\n",
       "      <td>0.193548</td>\n",
       "      <td>0.194471</td>\n",
       "      <td>0.842105</td>\n",
       "      <td>0.0</td>\n",
       "      <td>0.0</td>\n",
       "      <td>0.50</td>\n",
       "      <td>1.0</td>\n",
       "      <td>0.0</td>\n",
       "      <td>0.125</td>\n",
       "      <td>0.656764</td>\n",
       "      <td>0.272727</td>\n",
       "      <td>0.578947</td>\n",
       "    </tr>\n",
       "  </tbody>\n",
       "</table>\n",
       "</div>"
      ],
      "text/plain": [
       "   Reason_for_absence  Month_of_absence  Day_of_the_week  Seasons  \\\n",
       "0            0.928571          0.545455             0.25      0.0   \n",
       "1            0.000000          0.545455             0.25      0.0   \n",
       "2            0.821429          0.545455             0.50      0.0   \n",
       "3            0.250000          0.545455             0.75      0.0   \n",
       "4            0.821429          0.545455             0.75      0.0   \n",
       "\n",
       "   Transportation_expense  Distance_from_Residence_to_Work  Service_time  \\\n",
       "0                0.633333                         0.659574      0.428571   \n",
       "1                0.000000                         0.170213      0.607143   \n",
       "2                0.225926                         0.978723      0.607143   \n",
       "3                0.596296                         0.000000      0.464286   \n",
       "4                0.633333                         0.659574      0.428571   \n",
       "\n",
       "        Age  Work_load_Average/day  Hit_target  Disciplinary_failure  \\\n",
       "0  0.193548               0.194471    0.842105                   0.0   \n",
       "1  0.741935               0.194471    0.842105                   1.0   \n",
       "2  0.354839               0.194471    0.842105                   0.0   \n",
       "3  0.387097               0.194471    0.842105                   0.0   \n",
       "4  0.193548               0.194471    0.842105                   0.0   \n",
       "\n",
       "   Education   Son  Social_drinker  Social_smoker    Pet    Weight    Height  \\\n",
       "0        0.0  0.50             1.0            0.0  0.125  0.656764  0.272727   \n",
       "1        0.0  0.25             1.0            0.0  0.000  0.809314  0.454545   \n",
       "2        0.0  0.00             1.0            0.0  0.000  0.637696  0.212121   \n",
       "3        0.0  0.50             1.0            1.0  0.000  0.237254  0.151515   \n",
       "4        0.0  0.50             1.0            0.0  0.125  0.656764  0.272727   \n",
       "\n",
       "   Body_mass_index  \n",
       "0         0.578947  \n",
       "1         0.631579  \n",
       "2         0.631579  \n",
       "3         0.263158  \n",
       "4         0.578947  "
      ]
     },
     "execution_count": 68,
     "metadata": {},
     "output_type": "execute_result"
    }
   ],
   "source": [
    "# Repeating scaling on X_drop as well\n",
    "scaler_drop = MinMaxScaler().fit(X_drop)\n",
    "X_drop_scaled_array = scaler_drop.transform(X_drop)\n",
    "X_drop_scaled=pd.DataFrame(X_drop_scaled_array, columns = ['Reason_for_absence', 'Month_of_absence', 'Day_of_the_week',\n",
    "       'Seasons', 'Transportation_expense', 'Distance_from_Residence_to_Work',\n",
    "       'Service_time', 'Age', 'Work_load_Average/day', 'Hit_target',\n",
    "       'Disciplinary_failure', 'Education', 'Son', 'Social_drinker',\n",
    "       'Social_smoker', 'Pet', 'Weight', 'Height', 'Body_mass_index'])\n",
    "X_drop_scaled.head()"
   ]
  },
  {
   "cell_type": "code",
   "execution_count": 69,
   "metadata": {},
   "outputs": [
    {
     "data": {
      "text/html": [
       "<div>\n",
       "<style scoped>\n",
       "    .dataframe tbody tr th:only-of-type {\n",
       "        vertical-align: middle;\n",
       "    }\n",
       "\n",
       "    .dataframe tbody tr th {\n",
       "        vertical-align: top;\n",
       "    }\n",
       "\n",
       "    .dataframe thead th {\n",
       "        text-align: right;\n",
       "    }\n",
       "</style>\n",
       "<table border=\"1\" class=\"dataframe\">\n",
       "  <thead>\n",
       "    <tr style=\"text-align: right;\">\n",
       "      <th></th>\n",
       "      <th>Reason_for_absence</th>\n",
       "      <th>Month_of_absence</th>\n",
       "      <th>Day_of_the_week</th>\n",
       "      <th>Seasons</th>\n",
       "      <th>Transportation_expense</th>\n",
       "      <th>Distance_from_Residence_to_Work</th>\n",
       "      <th>Service_time</th>\n",
       "      <th>Age</th>\n",
       "      <th>Work_load_Average/day</th>\n",
       "      <th>Hit_target</th>\n",
       "      <th>Disciplinary_failure</th>\n",
       "      <th>Education</th>\n",
       "      <th>Son</th>\n",
       "      <th>Social_drinker</th>\n",
       "      <th>Social_smoker</th>\n",
       "      <th>Pet</th>\n",
       "      <th>Weight</th>\n",
       "      <th>Height</th>\n",
       "      <th>Body_mass_index</th>\n",
       "    </tr>\n",
       "  </thead>\n",
       "  <tbody>\n",
       "    <tr>\n",
       "      <th>0</th>\n",
       "      <td>0.964286</td>\n",
       "      <td>0.272727</td>\n",
       "      <td>1.00</td>\n",
       "      <td>0.666667</td>\n",
       "      <td>0.225926</td>\n",
       "      <td>0.446809</td>\n",
       "      <td>0.285714</td>\n",
       "      <td>0.096774</td>\n",
       "      <td>0.233403</td>\n",
       "      <td>0.526316</td>\n",
       "      <td>0.0</td>\n",
       "      <td>0.666667</td>\n",
       "      <td>0.00</td>\n",
       "      <td>0.0</td>\n",
       "      <td>0.0</td>\n",
       "      <td>0.00</td>\n",
       "      <td>0.008430</td>\n",
       "      <td>0.242424</td>\n",
       "      <td>0.000000</td>\n",
       "    </tr>\n",
       "    <tr>\n",
       "      <th>1</th>\n",
       "      <td>0.678571</td>\n",
       "      <td>0.272727</td>\n",
       "      <td>0.00</td>\n",
       "      <td>0.666667</td>\n",
       "      <td>0.396296</td>\n",
       "      <td>0.446809</td>\n",
       "      <td>0.285714</td>\n",
       "      <td>0.032258</td>\n",
       "      <td>0.233403</td>\n",
       "      <td>0.526316</td>\n",
       "      <td>0.0</td>\n",
       "      <td>0.000000</td>\n",
       "      <td>0.25</td>\n",
       "      <td>0.0</td>\n",
       "      <td>0.0</td>\n",
       "      <td>0.25</td>\n",
       "      <td>0.256323</td>\n",
       "      <td>0.181818</td>\n",
       "      <td>0.263158</td>\n",
       "    </tr>\n",
       "    <tr>\n",
       "      <th>2</th>\n",
       "      <td>0.571429</td>\n",
       "      <td>0.272727</td>\n",
       "      <td>0.25</td>\n",
       "      <td>0.666667</td>\n",
       "      <td>0.433333</td>\n",
       "      <td>0.234043</td>\n",
       "      <td>0.250000</td>\n",
       "      <td>0.161290</td>\n",
       "      <td>0.233403</td>\n",
       "      <td>0.526316</td>\n",
       "      <td>0.0</td>\n",
       "      <td>0.666667</td>\n",
       "      <td>0.00</td>\n",
       "      <td>0.0</td>\n",
       "      <td>0.0</td>\n",
       "      <td>0.00</td>\n",
       "      <td>0.370735</td>\n",
       "      <td>0.454545</td>\n",
       "      <td>0.315789</td>\n",
       "    </tr>\n",
       "    <tr>\n",
       "      <th>3</th>\n",
       "      <td>0.964286</td>\n",
       "      <td>0.272727</td>\n",
       "      <td>1.00</td>\n",
       "      <td>0.666667</td>\n",
       "      <td>0.225926</td>\n",
       "      <td>0.446809</td>\n",
       "      <td>0.285714</td>\n",
       "      <td>0.096774</td>\n",
       "      <td>0.233403</td>\n",
       "      <td>0.526316</td>\n",
       "      <td>0.0</td>\n",
       "      <td>0.666667</td>\n",
       "      <td>0.00</td>\n",
       "      <td>0.0</td>\n",
       "      <td>0.0</td>\n",
       "      <td>0.00</td>\n",
       "      <td>0.008430</td>\n",
       "      <td>0.242424</td>\n",
       "      <td>0.000000</td>\n",
       "    </tr>\n",
       "    <tr>\n",
       "      <th>4</th>\n",
       "      <td>1.000000</td>\n",
       "      <td>0.272727</td>\n",
       "      <td>0.25</td>\n",
       "      <td>0.666667</td>\n",
       "      <td>0.137037</td>\n",
       "      <td>0.148936</td>\n",
       "      <td>0.464286</td>\n",
       "      <td>0.225806</td>\n",
       "      <td>0.233403</td>\n",
       "      <td>0.526316</td>\n",
       "      <td>0.0</td>\n",
       "      <td>0.000000</td>\n",
       "      <td>0.50</td>\n",
       "      <td>1.0</td>\n",
       "      <td>0.0</td>\n",
       "      <td>0.00</td>\n",
       "      <td>0.752108</td>\n",
       "      <td>1.000000</td>\n",
       "      <td>0.315789</td>\n",
       "    </tr>\n",
       "  </tbody>\n",
       "</table>\n",
       "</div>"
      ],
      "text/plain": [
       "   Reason_for_absence  Month_of_absence  Day_of_the_week   Seasons  \\\n",
       "0            0.964286          0.272727             1.00  0.666667   \n",
       "1            0.678571          0.272727             0.00  0.666667   \n",
       "2            0.571429          0.272727             0.25  0.666667   \n",
       "3            0.964286          0.272727             1.00  0.666667   \n",
       "4            1.000000          0.272727             0.25  0.666667   \n",
       "\n",
       "   Transportation_expense  Distance_from_Residence_to_Work  Service_time  \\\n",
       "0                0.225926                         0.446809      0.285714   \n",
       "1                0.396296                         0.446809      0.285714   \n",
       "2                0.433333                         0.234043      0.250000   \n",
       "3                0.225926                         0.446809      0.285714   \n",
       "4                0.137037                         0.148936      0.464286   \n",
       "\n",
       "        Age  Work_load_Average/day  Hit_target  Disciplinary_failure  \\\n",
       "0  0.096774               0.233403    0.526316                   0.0   \n",
       "1  0.032258               0.233403    0.526316                   0.0   \n",
       "2  0.161290               0.233403    0.526316                   0.0   \n",
       "3  0.096774               0.233403    0.526316                   0.0   \n",
       "4  0.225806               0.233403    0.526316                   0.0   \n",
       "\n",
       "   Education   Son  Social_drinker  Social_smoker   Pet    Weight    Height  \\\n",
       "0   0.666667  0.00             0.0            0.0  0.00  0.008430  0.242424   \n",
       "1   0.000000  0.25             0.0            0.0  0.25  0.256323  0.181818   \n",
       "2   0.666667  0.00             0.0            0.0  0.00  0.370735  0.454545   \n",
       "3   0.666667  0.00             0.0            0.0  0.00  0.008430  0.242424   \n",
       "4   0.000000  0.50             1.0            0.0  0.00  0.752108  1.000000   \n",
       "\n",
       "   Body_mass_index  \n",
       "0         0.000000  \n",
       "1         0.263158  \n",
       "2         0.315789  \n",
       "3         0.000000  \n",
       "4         0.315789  "
      ]
     },
     "execution_count": 69,
     "metadata": {},
     "output_type": "execute_result"
    }
   ],
   "source": [
    "# Using scaled object fit on train to scale test data\n",
    "X_test_drop_scaled_array = scaler_drop.transform(X_test)\n",
    "X_test_drop_scaled=pd.DataFrame(X_test_drop_scaled_array, columns = ['Reason_for_absence', 'Month_of_absence', 'Day_of_the_week',\n",
    "       'Seasons', 'Transportation_expense', 'Distance_from_Residence_to_Work',\n",
    "       'Service_time', 'Age', 'Work_load_Average/day', 'Hit_target',\n",
    "       'Disciplinary_failure', 'Education', 'Son', 'Social_drinker',\n",
    "       'Social_smoker', 'Pet', 'Weight', 'Height', 'Body_mass_index'])\n",
    "X_test_drop_scaled.head()"
   ]
  },
  {
   "cell_type": "code",
   "execution_count": 70,
   "metadata": {},
   "outputs": [
    {
     "data": {
      "text/plain": [
       "(74, 19)"
      ]
     },
     "execution_count": 70,
     "metadata": {},
     "output_type": "execute_result"
    }
   ],
   "source": [
    "X_test_drop_scaled.shape"
   ]
  },
  {
   "cell_type": "code",
   "execution_count": 71,
   "metadata": {},
   "outputs": [
    {
     "data": {
      "text/plain": [
       "(74, 19)"
      ]
     },
     "execution_count": 71,
     "metadata": {},
     "output_type": "execute_result"
    }
   ],
   "source": [
    "X_test_scaled.shape"
   ]
  },
  {
   "cell_type": "markdown",
   "metadata": {},
   "source": [
    "Both X_test_drop_scaled and X_test_scaled should have the same dimensions.\n",
    "This is because the scaler object has just been fit on different train datasets(one with drops and one without drops), however, no rows can ever be dropped from test."
   ]
  },
  {
   "cell_type": "code",
   "execution_count": 72,
   "metadata": {},
   "outputs": [
    {
     "data": {
      "text/plain": [
       "Reason_for_absence                 0\n",
       "Month_of_absence                   0\n",
       "Day_of_the_week                    0\n",
       "Seasons                            0\n",
       "Transportation_expense             0\n",
       "Distance_from_Residence_to_Work    0\n",
       "Service_time                       0\n",
       "Age                                0\n",
       "Work_load_Average/day              0\n",
       "Hit_target                         1\n",
       "Disciplinary_failure               0\n",
       "Education                          0\n",
       "Son                                0\n",
       "Social_drinker                     0\n",
       "Social_smoker                      0\n",
       "Pet                                0\n",
       "Weight                             0\n",
       "Height                             0\n",
       "Body_mass_index                    0\n",
       "dtype: int64"
      ]
     },
     "execution_count": 72,
     "metadata": {},
     "output_type": "execute_result"
    }
   ],
   "source": [
    "# Marking missing values and outliers\n",
    "X_scaled.isna().sum()"
   ]
  },
  {
   "cell_type": "code",
   "execution_count": 73,
   "metadata": {},
   "outputs": [],
   "source": [
    "# Let's mark outliers as na too.\n",
    "# For Work_load_Average/day ==> 573, 641\n",
    "# Transportation_expense ==> 242\n",
    "# Age ==> 200,376\n",
    "X_scaled['Work_load_Average/day'][573] = np.NaN\n",
    "X_scaled['Work_load_Average/day'][641] = np.NaN\n",
    "X_scaled['Transportation_expense'][242] = np.NaN\n",
    "X_scaled['Age'][200] = np.NaN\n",
    "X_scaled['Age'][376] = np.NaN"
   ]
  },
  {
   "cell_type": "code",
   "execution_count": 74,
   "metadata": {},
   "outputs": [
    {
     "data": {
      "text/plain": [
       "Reason_for_absence                 0\n",
       "Month_of_absence                   0\n",
       "Day_of_the_week                    0\n",
       "Seasons                            0\n",
       "Transportation_expense             1\n",
       "Distance_from_Residence_to_Work    0\n",
       "Service_time                       0\n",
       "Age                                2\n",
       "Work_load_Average/day              2\n",
       "Hit_target                         1\n",
       "Disciplinary_failure               0\n",
       "Education                          0\n",
       "Son                                0\n",
       "Social_drinker                     0\n",
       "Social_smoker                      0\n",
       "Pet                                0\n",
       "Weight                             0\n",
       "Height                             0\n",
       "Body_mass_index                    0\n",
       "dtype: int64"
      ]
     },
     "execution_count": 74,
     "metadata": {},
     "output_type": "execute_result"
    }
   ],
   "source": [
    "X_scaled.isna().sum()"
   ]
  },
  {
   "cell_type": "code",
   "execution_count": 75,
   "metadata": {},
   "outputs": [],
   "source": [
    "# Now begining KNN imputation on X_scaled\n",
    "from sklearn.impute import KNNImputer\n",
    "imputer = KNNImputer(n_neighbors=5)\n",
    "X_imputed_scaled = pd.DataFrame(imputer.fit_transform(X_scaled),columns = X_scaled.columns)"
   ]
  },
  {
   "cell_type": "code",
   "execution_count": 76,
   "metadata": {},
   "outputs": [
    {
     "data": {
      "text/plain": [
       "Reason_for_absence                 0\n",
       "Month_of_absence                   0\n",
       "Day_of_the_week                    0\n",
       "Seasons                            0\n",
       "Transportation_expense             0\n",
       "Distance_from_Residence_to_Work    0\n",
       "Service_time                       0\n",
       "Age                                0\n",
       "Work_load_Average/day              0\n",
       "Hit_target                         0\n",
       "Disciplinary_failure               0\n",
       "Education                          0\n",
       "Son                                0\n",
       "Social_drinker                     0\n",
       "Social_smoker                      0\n",
       "Pet                                0\n",
       "Weight                             0\n",
       "Height                             0\n",
       "Body_mass_index                    0\n",
       "dtype: int64"
      ]
     },
     "execution_count": 76,
     "metadata": {},
     "output_type": "execute_result"
    }
   ],
   "source": [
    "X_imputed_scaled.isna().sum()"
   ]
  },
  {
   "cell_type": "code",
   "execution_count": 77,
   "metadata": {},
   "outputs": [
    {
     "data": {
      "text/html": [
       "<div>\n",
       "<style scoped>\n",
       "    .dataframe tbody tr th:only-of-type {\n",
       "        vertical-align: middle;\n",
       "    }\n",
       "\n",
       "    .dataframe tbody tr th {\n",
       "        vertical-align: top;\n",
       "    }\n",
       "\n",
       "    .dataframe thead th {\n",
       "        text-align: right;\n",
       "    }\n",
       "</style>\n",
       "<table border=\"1\" class=\"dataframe\">\n",
       "  <thead>\n",
       "    <tr style=\"text-align: right;\">\n",
       "      <th></th>\n",
       "      <th>Reason_for_absence</th>\n",
       "      <th>Month_of_absence</th>\n",
       "      <th>Day_of_the_week</th>\n",
       "      <th>Seasons</th>\n",
       "      <th>Transportation_expense</th>\n",
       "      <th>Distance_from_Residence_to_Work</th>\n",
       "      <th>Service_time</th>\n",
       "      <th>Age</th>\n",
       "      <th>Work_load_Average/day</th>\n",
       "      <th>Hit_target</th>\n",
       "      <th>Disciplinary_failure</th>\n",
       "      <th>Education</th>\n",
       "      <th>Son</th>\n",
       "      <th>Social_drinker</th>\n",
       "      <th>Social_smoker</th>\n",
       "      <th>Pet</th>\n",
       "      <th>Weight</th>\n",
       "      <th>Height</th>\n",
       "      <th>Body_mass_index</th>\n",
       "    </tr>\n",
       "  </thead>\n",
       "  <tbody>\n",
       "    <tr>\n",
       "      <th>0</th>\n",
       "      <td>0.928571</td>\n",
       "      <td>0.545455</td>\n",
       "      <td>0.25</td>\n",
       "      <td>0.0</td>\n",
       "      <td>0.744845</td>\n",
       "      <td>0.659574</td>\n",
       "      <td>0.428571</td>\n",
       "      <td>0.568966</td>\n",
       "      <td>0.632262</td>\n",
       "      <td>0.842105</td>\n",
       "      <td>0.0</td>\n",
       "      <td>0.000000</td>\n",
       "      <td>0.50</td>\n",
       "      <td>1.0</td>\n",
       "      <td>0.0</td>\n",
       "      <td>0.125</td>\n",
       "      <td>0.656764</td>\n",
       "      <td>0.272727</td>\n",
       "      <td>0.578947</td>\n",
       "    </tr>\n",
       "    <tr>\n",
       "      <th>1</th>\n",
       "      <td>0.000000</td>\n",
       "      <td>0.545455</td>\n",
       "      <td>0.25</td>\n",
       "      <td>0.0</td>\n",
       "      <td>0.304124</td>\n",
       "      <td>0.170213</td>\n",
       "      <td>0.607143</td>\n",
       "      <td>0.862069</td>\n",
       "      <td>0.632262</td>\n",
       "      <td>0.842105</td>\n",
       "      <td>1.0</td>\n",
       "      <td>0.000000</td>\n",
       "      <td>0.25</td>\n",
       "      <td>1.0</td>\n",
       "      <td>0.0</td>\n",
       "      <td>0.000</td>\n",
       "      <td>0.809314</td>\n",
       "      <td>0.454545</td>\n",
       "      <td>0.631579</td>\n",
       "    </tr>\n",
       "    <tr>\n",
       "      <th>2</th>\n",
       "      <td>0.821429</td>\n",
       "      <td>0.545455</td>\n",
       "      <td>0.50</td>\n",
       "      <td>0.0</td>\n",
       "      <td>0.461340</td>\n",
       "      <td>0.978723</td>\n",
       "      <td>0.607143</td>\n",
       "      <td>0.655172</td>\n",
       "      <td>0.632262</td>\n",
       "      <td>0.842105</td>\n",
       "      <td>0.0</td>\n",
       "      <td>0.000000</td>\n",
       "      <td>0.00</td>\n",
       "      <td>1.0</td>\n",
       "      <td>0.0</td>\n",
       "      <td>0.000</td>\n",
       "      <td>0.637696</td>\n",
       "      <td>0.212121</td>\n",
       "      <td>0.631579</td>\n",
       "    </tr>\n",
       "    <tr>\n",
       "      <th>3</th>\n",
       "      <td>0.250000</td>\n",
       "      <td>0.545455</td>\n",
       "      <td>0.75</td>\n",
       "      <td>0.0</td>\n",
       "      <td>0.719072</td>\n",
       "      <td>0.000000</td>\n",
       "      <td>0.464286</td>\n",
       "      <td>0.672414</td>\n",
       "      <td>0.632262</td>\n",
       "      <td>0.842105</td>\n",
       "      <td>0.0</td>\n",
       "      <td>0.000000</td>\n",
       "      <td>0.50</td>\n",
       "      <td>1.0</td>\n",
       "      <td>1.0</td>\n",
       "      <td>0.000</td>\n",
       "      <td>0.237254</td>\n",
       "      <td>0.151515</td>\n",
       "      <td>0.263158</td>\n",
       "    </tr>\n",
       "    <tr>\n",
       "      <th>4</th>\n",
       "      <td>0.821429</td>\n",
       "      <td>0.545455</td>\n",
       "      <td>0.75</td>\n",
       "      <td>0.0</td>\n",
       "      <td>0.744845</td>\n",
       "      <td>0.659574</td>\n",
       "      <td>0.428571</td>\n",
       "      <td>0.568966</td>\n",
       "      <td>0.632262</td>\n",
       "      <td>0.842105</td>\n",
       "      <td>0.0</td>\n",
       "      <td>0.000000</td>\n",
       "      <td>0.50</td>\n",
       "      <td>1.0</td>\n",
       "      <td>0.0</td>\n",
       "      <td>0.125</td>\n",
       "      <td>0.656764</td>\n",
       "      <td>0.272727</td>\n",
       "      <td>0.578947</td>\n",
       "    </tr>\n",
       "    <tr>\n",
       "      <th>5</th>\n",
       "      <td>0.821429</td>\n",
       "      <td>0.545455</td>\n",
       "      <td>1.00</td>\n",
       "      <td>0.0</td>\n",
       "      <td>0.461340</td>\n",
       "      <td>0.978723</td>\n",
       "      <td>0.607143</td>\n",
       "      <td>0.655172</td>\n",
       "      <td>0.632262</td>\n",
       "      <td>0.842105</td>\n",
       "      <td>0.0</td>\n",
       "      <td>0.000000</td>\n",
       "      <td>0.00</td>\n",
       "      <td>1.0</td>\n",
       "      <td>0.0</td>\n",
       "      <td>0.000</td>\n",
       "      <td>0.637696</td>\n",
       "      <td>0.212121</td>\n",
       "      <td>0.631579</td>\n",
       "    </tr>\n",
       "    <tr>\n",
       "      <th>6</th>\n",
       "      <td>0.785714</td>\n",
       "      <td>0.545455</td>\n",
       "      <td>1.00</td>\n",
       "      <td>0.0</td>\n",
       "      <td>0.930412</td>\n",
       "      <td>1.000000</td>\n",
       "      <td>0.071429</td>\n",
       "      <td>0.482759</td>\n",
       "      <td>0.632262</td>\n",
       "      <td>0.842105</td>\n",
       "      <td>0.0</td>\n",
       "      <td>0.000000</td>\n",
       "      <td>0.25</td>\n",
       "      <td>1.0</td>\n",
       "      <td>0.0</td>\n",
       "      <td>0.500</td>\n",
       "      <td>0.466078</td>\n",
       "      <td>0.272727</td>\n",
       "      <td>0.421053</td>\n",
       "    </tr>\n",
       "    <tr>\n",
       "      <th>7</th>\n",
       "      <td>0.821429</td>\n",
       "      <td>0.545455</td>\n",
       "      <td>1.00</td>\n",
       "      <td>0.0</td>\n",
       "      <td>0.670103</td>\n",
       "      <td>0.957447</td>\n",
       "      <td>0.357143</td>\n",
       "      <td>0.620690</td>\n",
       "      <td>0.632262</td>\n",
       "      <td>0.842105</td>\n",
       "      <td>0.0</td>\n",
       "      <td>0.000000</td>\n",
       "      <td>1.00</td>\n",
       "      <td>1.0</td>\n",
       "      <td>0.0</td>\n",
       "      <td>0.000</td>\n",
       "      <td>0.180048</td>\n",
       "      <td>0.151515</td>\n",
       "      <td>0.210526</td>\n",
       "    </tr>\n",
       "    <tr>\n",
       "      <th>8</th>\n",
       "      <td>0.678571</td>\n",
       "      <td>0.545455</td>\n",
       "      <td>0.00</td>\n",
       "      <td>0.0</td>\n",
       "      <td>0.399485</td>\n",
       "      <td>0.148936</td>\n",
       "      <td>0.464286</td>\n",
       "      <td>0.586207</td>\n",
       "      <td>0.632262</td>\n",
       "      <td>0.842105</td>\n",
       "      <td>0.0</td>\n",
       "      <td>0.000000</td>\n",
       "      <td>0.50</td>\n",
       "      <td>1.0</td>\n",
       "      <td>0.0</td>\n",
       "      <td>0.000</td>\n",
       "      <td>0.752108</td>\n",
       "      <td>1.000000</td>\n",
       "      <td>0.315789</td>\n",
       "    </tr>\n",
       "    <tr>\n",
       "      <th>9</th>\n",
       "      <td>0.785714</td>\n",
       "      <td>0.545455</td>\n",
       "      <td>0.00</td>\n",
       "      <td>0.0</td>\n",
       "      <td>0.605670</td>\n",
       "      <td>0.127660</td>\n",
       "      <td>0.464286</td>\n",
       "      <td>0.637931</td>\n",
       "      <td>0.632262</td>\n",
       "      <td>0.842105</td>\n",
       "      <td>0.0</td>\n",
       "      <td>0.666667</td>\n",
       "      <td>0.25</td>\n",
       "      <td>0.0</td>\n",
       "      <td>0.0</td>\n",
       "      <td>0.125</td>\n",
       "      <td>0.618627</td>\n",
       "      <td>0.272727</td>\n",
       "      <td>0.526316</td>\n",
       "    </tr>\n",
       "  </tbody>\n",
       "</table>\n",
       "</div>"
      ],
      "text/plain": [
       "   Reason_for_absence  Month_of_absence  Day_of_the_week  Seasons  \\\n",
       "0            0.928571          0.545455             0.25      0.0   \n",
       "1            0.000000          0.545455             0.25      0.0   \n",
       "2            0.821429          0.545455             0.50      0.0   \n",
       "3            0.250000          0.545455             0.75      0.0   \n",
       "4            0.821429          0.545455             0.75      0.0   \n",
       "5            0.821429          0.545455             1.00      0.0   \n",
       "6            0.785714          0.545455             1.00      0.0   \n",
       "7            0.821429          0.545455             1.00      0.0   \n",
       "8            0.678571          0.545455             0.00      0.0   \n",
       "9            0.785714          0.545455             0.00      0.0   \n",
       "\n",
       "   Transportation_expense  Distance_from_Residence_to_Work  Service_time  \\\n",
       "0                0.744845                         0.659574      0.428571   \n",
       "1                0.304124                         0.170213      0.607143   \n",
       "2                0.461340                         0.978723      0.607143   \n",
       "3                0.719072                         0.000000      0.464286   \n",
       "4                0.744845                         0.659574      0.428571   \n",
       "5                0.461340                         0.978723      0.607143   \n",
       "6                0.930412                         1.000000      0.071429   \n",
       "7                0.670103                         0.957447      0.357143   \n",
       "8                0.399485                         0.148936      0.464286   \n",
       "9                0.605670                         0.127660      0.464286   \n",
       "\n",
       "        Age  Work_load_Average/day  Hit_target  Disciplinary_failure  \\\n",
       "0  0.568966               0.632262    0.842105                   0.0   \n",
       "1  0.862069               0.632262    0.842105                   1.0   \n",
       "2  0.655172               0.632262    0.842105                   0.0   \n",
       "3  0.672414               0.632262    0.842105                   0.0   \n",
       "4  0.568966               0.632262    0.842105                   0.0   \n",
       "5  0.655172               0.632262    0.842105                   0.0   \n",
       "6  0.482759               0.632262    0.842105                   0.0   \n",
       "7  0.620690               0.632262    0.842105                   0.0   \n",
       "8  0.586207               0.632262    0.842105                   0.0   \n",
       "9  0.637931               0.632262    0.842105                   0.0   \n",
       "\n",
       "   Education   Son  Social_drinker  Social_smoker    Pet    Weight    Height  \\\n",
       "0   0.000000  0.50             1.0            0.0  0.125  0.656764  0.272727   \n",
       "1   0.000000  0.25             1.0            0.0  0.000  0.809314  0.454545   \n",
       "2   0.000000  0.00             1.0            0.0  0.000  0.637696  0.212121   \n",
       "3   0.000000  0.50             1.0            1.0  0.000  0.237254  0.151515   \n",
       "4   0.000000  0.50             1.0            0.0  0.125  0.656764  0.272727   \n",
       "5   0.000000  0.00             1.0            0.0  0.000  0.637696  0.212121   \n",
       "6   0.000000  0.25             1.0            0.0  0.500  0.466078  0.272727   \n",
       "7   0.000000  1.00             1.0            0.0  0.000  0.180048  0.151515   \n",
       "8   0.000000  0.50             1.0            0.0  0.000  0.752108  1.000000   \n",
       "9   0.666667  0.25             0.0            0.0  0.125  0.618627  0.272727   \n",
       "\n",
       "   Body_mass_index  \n",
       "0         0.578947  \n",
       "1         0.631579  \n",
       "2         0.631579  \n",
       "3         0.263158  \n",
       "4         0.578947  \n",
       "5         0.631579  \n",
       "6         0.421053  \n",
       "7         0.210526  \n",
       "8         0.315789  \n",
       "9         0.526316  "
      ]
     },
     "execution_count": 77,
     "metadata": {},
     "output_type": "execute_result"
    }
   ],
   "source": [
    "X_imputed_scaled.head(10)"
   ]
  },
  {
   "cell_type": "code",
   "execution_count": 78,
   "metadata": {},
   "outputs": [
    {
     "data": {
      "text/html": [
       "<div>\n",
       "<style scoped>\n",
       "    .dataframe tbody tr th:only-of-type {\n",
       "        vertical-align: middle;\n",
       "    }\n",
       "\n",
       "    .dataframe tbody tr th {\n",
       "        vertical-align: top;\n",
       "    }\n",
       "\n",
       "    .dataframe thead th {\n",
       "        text-align: right;\n",
       "    }\n",
       "</style>\n",
       "<table border=\"1\" class=\"dataframe\">\n",
       "  <thead>\n",
       "    <tr style=\"text-align: right;\">\n",
       "      <th></th>\n",
       "      <th>Reason_for_absence</th>\n",
       "      <th>Month_of_absence</th>\n",
       "      <th>Day_of_the_week</th>\n",
       "      <th>Seasons</th>\n",
       "      <th>Transportation_expense</th>\n",
       "      <th>Distance_from_Residence_to_Work</th>\n",
       "      <th>Service_time</th>\n",
       "      <th>Age</th>\n",
       "      <th>Work_load_Average/day</th>\n",
       "      <th>Hit_target</th>\n",
       "      <th>Disciplinary_failure</th>\n",
       "      <th>Education</th>\n",
       "      <th>Son</th>\n",
       "      <th>Social_drinker</th>\n",
       "      <th>Social_smoker</th>\n",
       "      <th>Pet</th>\n",
       "      <th>Weight</th>\n",
       "      <th>Height</th>\n",
       "      <th>Body_mass_index</th>\n",
       "    </tr>\n",
       "  </thead>\n",
       "  <tbody>\n",
       "    <tr>\n",
       "      <th>0</th>\n",
       "      <td>27.0</td>\n",
       "      <td>4.0</td>\n",
       "      <td>6.0</td>\n",
       "      <td>3.0</td>\n",
       "      <td>256.792593</td>\n",
       "      <td>26.0</td>\n",
       "      <td>9.0</td>\n",
       "      <td>55.258065</td>\n",
       "      <td>539492.369498</td>\n",
       "      <td>91.0</td>\n",
       "      <td>0.0</td>\n",
       "      <td>3.0</td>\n",
       "      <td>0.0</td>\n",
       "      <td>0.0</td>\n",
       "      <td>0.0</td>\n",
       "      <td>0.0</td>\n",
       "      <td>56.0</td>\n",
       "      <td>171.0</td>\n",
       "      <td>19.0</td>\n",
       "    </tr>\n",
       "    <tr>\n",
       "      <th>1</th>\n",
       "      <td>19.0</td>\n",
       "      <td>4.0</td>\n",
       "      <td>2.0</td>\n",
       "      <td>3.0</td>\n",
       "      <td>322.896296</td>\n",
       "      <td>26.0</td>\n",
       "      <td>9.0</td>\n",
       "      <td>51.516129</td>\n",
       "      <td>539492.369498</td>\n",
       "      <td>91.0</td>\n",
       "      <td>0.0</td>\n",
       "      <td>1.0</td>\n",
       "      <td>1.0</td>\n",
       "      <td>0.0</td>\n",
       "      <td>0.0</td>\n",
       "      <td>2.0</td>\n",
       "      <td>69.0</td>\n",
       "      <td>169.0</td>\n",
       "      <td>24.0</td>\n",
       "    </tr>\n",
       "    <tr>\n",
       "      <th>2</th>\n",
       "      <td>16.0</td>\n",
       "      <td>4.0</td>\n",
       "      <td>3.0</td>\n",
       "      <td>3.0</td>\n",
       "      <td>337.266667</td>\n",
       "      <td>16.0</td>\n",
       "      <td>8.0</td>\n",
       "      <td>59.000000</td>\n",
       "      <td>539492.369498</td>\n",
       "      <td>91.0</td>\n",
       "      <td>0.0</td>\n",
       "      <td>3.0</td>\n",
       "      <td>0.0</td>\n",
       "      <td>0.0</td>\n",
       "      <td>0.0</td>\n",
       "      <td>0.0</td>\n",
       "      <td>75.0</td>\n",
       "      <td>178.0</td>\n",
       "      <td>25.0</td>\n",
       "    </tr>\n",
       "    <tr>\n",
       "      <th>3</th>\n",
       "      <td>27.0</td>\n",
       "      <td>4.0</td>\n",
       "      <td>6.0</td>\n",
       "      <td>3.0</td>\n",
       "      <td>256.792593</td>\n",
       "      <td>26.0</td>\n",
       "      <td>9.0</td>\n",
       "      <td>55.258065</td>\n",
       "      <td>539492.369498</td>\n",
       "      <td>91.0</td>\n",
       "      <td>0.0</td>\n",
       "      <td>3.0</td>\n",
       "      <td>0.0</td>\n",
       "      <td>0.0</td>\n",
       "      <td>0.0</td>\n",
       "      <td>0.0</td>\n",
       "      <td>56.0</td>\n",
       "      <td>171.0</td>\n",
       "      <td>19.0</td>\n",
       "    </tr>\n",
       "    <tr>\n",
       "      <th>4</th>\n",
       "      <td>28.0</td>\n",
       "      <td>4.0</td>\n",
       "      <td>3.0</td>\n",
       "      <td>3.0</td>\n",
       "      <td>222.303704</td>\n",
       "      <td>12.0</td>\n",
       "      <td>14.0</td>\n",
       "      <td>62.741935</td>\n",
       "      <td>539492.369498</td>\n",
       "      <td>91.0</td>\n",
       "      <td>0.0</td>\n",
       "      <td>1.0</td>\n",
       "      <td>2.0</td>\n",
       "      <td>1.0</td>\n",
       "      <td>0.0</td>\n",
       "      <td>0.0</td>\n",
       "      <td>95.0</td>\n",
       "      <td>196.0</td>\n",
       "      <td>25.0</td>\n",
       "    </tr>\n",
       "  </tbody>\n",
       "</table>\n",
       "</div>"
      ],
      "text/plain": [
       "   Reason_for_absence  Month_of_absence  Day_of_the_week  Seasons  \\\n",
       "0                27.0               4.0              6.0      3.0   \n",
       "1                19.0               4.0              2.0      3.0   \n",
       "2                16.0               4.0              3.0      3.0   \n",
       "3                27.0               4.0              6.0      3.0   \n",
       "4                28.0               4.0              3.0      3.0   \n",
       "\n",
       "   Transportation_expense  Distance_from_Residence_to_Work  Service_time  \\\n",
       "0              256.792593                             26.0           9.0   \n",
       "1              322.896296                             26.0           9.0   \n",
       "2              337.266667                             16.0           8.0   \n",
       "3              256.792593                             26.0           9.0   \n",
       "4              222.303704                             12.0          14.0   \n",
       "\n",
       "         Age  Work_load_Average/day  Hit_target  Disciplinary_failure  \\\n",
       "0  55.258065          539492.369498        91.0                   0.0   \n",
       "1  51.516129          539492.369498        91.0                   0.0   \n",
       "2  59.000000          539492.369498        91.0                   0.0   \n",
       "3  55.258065          539492.369498        91.0                   0.0   \n",
       "4  62.741935          539492.369498        91.0                   0.0   \n",
       "\n",
       "   Education  Son  Social_drinker  Social_smoker  Pet  Weight  Height  \\\n",
       "0        3.0  0.0             0.0            0.0  0.0    56.0   171.0   \n",
       "1        1.0  1.0             0.0            0.0  2.0    69.0   169.0   \n",
       "2        3.0  0.0             0.0            0.0  0.0    75.0   178.0   \n",
       "3        3.0  0.0             0.0            0.0  0.0    56.0   171.0   \n",
       "4        1.0  2.0             1.0            0.0  0.0    95.0   196.0   \n",
       "\n",
       "   Body_mass_index  \n",
       "0             19.0  \n",
       "1             24.0  \n",
       "2             25.0  \n",
       "3             19.0  \n",
       "4             25.0  "
      ]
     },
     "execution_count": 78,
     "metadata": {},
     "output_type": "execute_result"
    }
   ],
   "source": [
    "# Using scaled object fit on train to scale test data\n",
    "scaler_imputed_scaled = MinMaxScaler().fit(X_imputed_scaled)\n",
    "X_test_imputed_scaled_array = scaler_imputed_scaled.transform(X_test)\n",
    "X_test_imputed_scaled=pd.DataFrame(X_test_imputed_scaled_array, columns = ['Reason_for_absence', 'Month_of_absence', 'Day_of_the_week',\n",
    "       'Seasons', 'Transportation_expense', 'Distance_from_Residence_to_Work',\n",
    "       'Service_time', 'Age', 'Work_load_Average/day', 'Hit_target',\n",
    "       'Disciplinary_failure', 'Education', 'Son', 'Social_drinker',\n",
    "       'Social_smoker', 'Pet', 'Weight', 'Height', 'Body_mass_index'])\n",
    "X_test_imputed_scaled.head()"
   ]
  },
  {
   "cell_type": "code",
   "execution_count": 79,
   "metadata": {},
   "outputs": [
    {
     "data": {
      "text/plain": [
       "(74, 19)"
      ]
     },
     "execution_count": 79,
     "metadata": {},
     "output_type": "execute_result"
    }
   ],
   "source": [
    "X_test_imputed_scaled.shape"
   ]
  },
  {
   "cell_type": "markdown",
   "metadata": {},
   "source": [
    "Now conducting PCA, LDA and Factor Analysis"
   ]
  },
  {
   "cell_type": "code",
   "execution_count": 80,
   "metadata": {},
   "outputs": [
    {
     "data": {
      "text/plain": [
       "PCA(n_components=2)"
      ]
     },
     "execution_count": 80,
     "metadata": {},
     "output_type": "execute_result"
    }
   ],
   "source": [
    "# Conducting basic PCA with 2 components. This is just to get an idea of the explained variance\n",
    "from sklearn.decomposition import PCA\n",
    "pca = PCA(n_components=2)\n",
    "pca.fit(X_imputed_scaled)"
   ]
  },
  {
   "cell_type": "code",
   "execution_count": 81,
   "metadata": {},
   "outputs": [
    {
     "name": "stdout",
     "output_type": "stream",
     "text": [
      "[[-0.06971124 -0.0321277  -0.0558865   0.05307394 -0.04001335 -0.33867925\n",
      "  -0.12128228 -0.04847128  0.01591005  0.04018698 -0.01630996  0.19494314\n",
      "  -0.08711664 -0.85363892  0.07363091  0.04007896 -0.19568682 -0.01699344\n",
      "  -0.18102163]\n",
      " [-0.24679841  0.55997026  0.01691818  0.73330665  0.06828336 -0.06566499\n",
      "  -0.02709108  0.00554025  0.01557802 -0.1690623   0.18122013 -0.03324906\n",
      "   0.10712139  0.03700709 -0.02642027  0.03069614  0.00191655 -0.0193112\n",
      "   0.01129122]]\n"
     ]
    }
   ],
   "source": [
    "print(pca.components_)"
   ]
  },
  {
   "cell_type": "code",
   "execution_count": 82,
   "metadata": {},
   "outputs": [
    {
     "name": "stdout",
     "output_type": "stream",
     "text": [
      "[0.31229424 0.19644843]\n"
     ]
    }
   ],
   "source": [
    "print(pca.explained_variance_)"
   ]
  },
  {
   "cell_type": "markdown",
   "metadata": {},
   "source": [
    " Only 50% of the variance explained with 2 components. Not enough!"
   ]
  },
  {
   "cell_type": "code",
   "execution_count": 83,
   "metadata": {},
   "outputs": [
    {
     "name": "stdout",
     "output_type": "stream",
     "text": [
      "(666, 19)\n",
      "(666, 2)\n"
     ]
    }
   ],
   "source": [
    "projected = pca.fit_transform(X_imputed_scaled)\n",
    "print(X_imputed_scaled.shape)\n",
    "print(projected.shape)"
   ]
  },
  {
   "cell_type": "code",
   "execution_count": 84,
   "metadata": {},
   "outputs": [
    {
     "data": {
      "image/png": "[encoded data removed]",
      "text/plain": [
       "<Figure size 432x288 with 2 Axes>"
      ]
     },
     "metadata": {
      "needs_background": "light"
     },
     "output_type": "display_data"
    }
   ],
   "source": [
    "import matplotlib.pyplot as plt\n",
    "plt.scatter(projected[:, 0], projected[:, 1],\n",
    "            c=y, edgecolor='none', alpha=0.5,\n",
    "            cmap=plt.cm.get_cmap('gist_rainbow', 10))\n",
    "plt.xlabel('component 1')\n",
    "plt.ylabel('component 2')\n",
    "plt.colorbar();"
   ]
  },
  {
   "cell_type": "code",
   "execution_count": 85,
   "metadata": {},
   "outputs": [
    {
     "data": {
      "image/png": "[encoded data removed]",
      "text/plain": [
       "<Figure size 432x288 with 1 Axes>"
      ]
     },
     "metadata": {
      "needs_background": "light"
     },
     "output_type": "display_data"
    }
   ],
   "source": [
    "# Now, lets try and find optimal number of features\n",
    "pca = PCA().fit(X_imputed_scaled)\n",
    "plt.plot(np.cumsum(pca.explained_variance_ratio_))\n",
    "plt.xlabel('number of components')\n",
    "plt.ylabel('cumulative explained variance');"
   ]
  },
  {
   "cell_type": "code",
   "execution_count": 86,
   "metadata": {},
   "outputs": [],
   "source": [
    "# We can visually see that for the X_imputed_scaled number of components between 10-15 would account for 90-95% variability\n",
    "# We can directly set a threshold of 90% and run the PCA\n",
    "pca = PCA(.90)\n",
    "projected_X_imputed_scaled = pca.fit_transform(X_imputed_scaled)"
   ]
  },
  {
   "cell_type": "code",
   "execution_count": 87,
   "metadata": {},
   "outputs": [
    {
     "data": {
      "text/plain": [
       "array([[-0.540133  , -0.3941772 , -0.14132815, ..., -0.20070863,\n",
       "         0.129689  ,  0.1161406 ],\n",
       "       [-0.36990421, -0.01820522, -0.78887244, ..., -0.13611232,\n",
       "        -0.16431204, -0.00432461],\n",
       "       [-0.63543422, -0.46384732, -0.10176732, ...,  0.10936506,\n",
       "        -0.01747939,  0.15728696],\n",
       "       ...,\n",
       "       [-0.47344813,  0.00417234,  0.07739378, ..., -0.14301361,\n",
       "         0.43240371, -0.25678743],\n",
       "       [ 0.66947088,  0.05456445, -0.30392022, ..., -0.06064931,\n",
       "        -0.10584554, -0.18323357],\n",
       "       [ 0.66006098, -0.01820262,  0.21774023, ..., -0.12519266,\n",
       "         0.01820805,  0.19844773]])"
      ]
     },
     "execution_count": 87,
     "metadata": {},
     "output_type": "execute_result"
    }
   ],
   "source": [
    "# The pca chose 11 principal components to explain 90% variablility\n",
    "projected_X_imputed_scaled"
   ]
  },
  {
   "cell_type": "code",
   "execution_count": 88,
   "metadata": {},
   "outputs": [
    {
     "name": "stdout",
     "output_type": "stream",
     "text": [
      "[[-6.97118796e-02 -3.21273222e-02 -5.58864512e-02  5.30738193e-02\n",
      "  -4.00136438e-02 -3.38679068e-01 -1.21282071e-01 -4.84712119e-02\n",
      "   1.59100017e-02  4.01876053e-02 -1.63107924e-02  1.94942857e-01\n",
      "  -8.71165140e-02 -8.53639022e-01  7.36308957e-02  4.00788324e-02\n",
      "  -1.95686786e-01 -1.69932555e-02 -1.81021690e-01]\n",
      " [-2.46808579e-01  5.59976258e-01  1.69189617e-02  7.33304778e-01\n",
      "   6.82800201e-02 -6.56631347e-02 -2.70878774e-02  5.54171294e-03\n",
      "   1.55769046e-02 -1.69051842e-01  1.81206572e-01 -3.32531059e-02\n",
      "   1.07122772e-01  3.70060075e-02 -2.64204638e-02  3.06943479e-02\n",
      "   1.91676982e-03 -1.93097795e-02  1.12907014e-02]\n",
      " [ 1.71888712e-01  2.20750379e-04  7.26222633e-01  4.16677174e-02\n",
      "   1.39322502e-01  2.75355131e-01 -9.02400131e-02 -7.48083445e-02\n",
      "   2.84318721e-03  4.25994807e-02 -7.88877709e-02  3.12588917e-02\n",
      "   2.85800449e-01 -2.08253439e-02  7.57354278e-02  5.85509162e-02\n",
      "  -3.67814589e-01 -1.39363219e-01 -2.78092469e-01]\n",
      " [-5.46106616e-01 -1.00936577e-01 -2.50636084e-01 -2.60725561e-01\n",
      "   1.91859965e-01 -5.84849738e-02 -1.06088899e-01 -2.79423369e-02\n",
      "   2.80805097e-02 -2.88630725e-02  3.03352348e-01  8.47675328e-03\n",
      "   3.95691376e-01  1.73329224e-01  3.05637920e-01  4.69113212e-02\n",
      "  -2.41682353e-01  6.23466396e-02 -2.65091091e-01]\n",
      " [-3.57994340e-01 -1.47254655e-01  6.19032894e-01 -8.98277624e-02\n",
      "  -1.34072513e-01 -3.85997490e-01  1.33541272e-01  1.24008006e-01\n",
      "   3.72509909e-02 -1.58320586e-04  2.84255462e-01  3.11295632e-02\n",
      "  -9.75046189e-02  1.90016940e-02  3.38248233e-02 -1.36375067e-01\n",
      "   2.92465365e-01  1.45759568e-01  1.97874704e-01]\n",
      " [-4.15522722e-01 -1.68526452e-01  1.94881685e-02  3.65683132e-02\n",
      "   4.67462623e-02  6.08849673e-01  1.56473471e-02 -5.22691050e-02\n",
      "   3.34594922e-03  3.14287428e-02  2.61935674e-01  2.14519585e-02\n",
      "  -4.37084894e-01 -1.72233347e-01 -1.50613960e-01  1.02707239e-01\n",
      "  -4.52402264e-02 -2.86385375e-01  1.15278175e-01]\n",
      " [-5.21890069e-03  6.48114967e-01  9.04527566e-02 -5.80212323e-01\n",
      "   5.76548682e-02  5.08380039e-02 -3.72661966e-02  2.66524790e-03\n",
      "  -1.26727223e-01 -4.07490750e-01  1.56302677e-02  2.77472010e-02\n",
      "  -9.88338840e-02 -1.11908822e-01  1.69257758e-02  4.59180349e-02\n",
      "   4.03771291e-02 -1.00895816e-01  9.03747319e-02]\n",
      " [ 9.49490251e-02 -7.18667270e-02 -2.89482754e-02  1.39944209e-02\n",
      "   1.00720461e-01  1.31957464e-01  1.34781920e-01  1.48469537e-01\n",
      "  -1.72775271e-02  6.44171630e-02  6.43346699e-02 -3.09802947e-01\n",
      "   4.79055347e-01 -3.23061188e-01  3.06979629e-01  1.82698368e-01\n",
      "   2.90422867e-01 -2.79889214e-01  4.33927644e-01]\n",
      " [ 9.83244471e-02  6.91342392e-02 -3.14762866e-03  1.06612080e-01\n",
      "  -1.98228346e-01  9.52680716e-02  1.97150058e-01  8.38112070e-02\n",
      "   2.47851344e-03 -7.54983578e-03 -2.98308704e-02  5.69169784e-02\n",
      "  -3.72410216e-01  9.04955642e-02  8.43726437e-01 -6.70797820e-02\n",
      "  -8.72953024e-02  3.86643212e-03 -6.95195808e-02]\n",
      " [-3.32715269e-02  7.26442803e-02  9.47891789e-02  6.54555295e-04\n",
      "   3.64451032e-01  3.18784778e-02 -3.87574819e-01 -2.19313435e-01\n",
      "   5.75456669e-03  2.62698146e-01 -1.25129956e-01 -1.30456598e-02\n",
      "  -1.91349413e-01  1.34214092e-02  1.77615741e-01  4.88010741e-01\n",
      "   2.98469503e-01  4.11370063e-01  5.29142338e-02]\n",
      " [-2.43396046e-01  2.11744504e-01 -2.25406215e-02 -3.63111643e-02\n",
      "  -4.18539469e-02  2.10801235e-01  2.19035939e-01  6.32943586e-02\n",
      "  -1.33527855e-01  4.08400813e-01 -3.18610012e-01  6.22157649e-01\n",
      "   2.43827434e-01 -2.87001661e-02 -4.42199290e-03 -1.65149403e-01\n",
      "   1.46210916e-01  6.65819649e-02  9.65952289e-02]]\n"
     ]
    }
   ],
   "source": [
    "print(pca.components_)"
   ]
  },
  {
   "cell_type": "code",
   "execution_count": 89,
   "metadata": {},
   "outputs": [
    {
     "name": "stdout",
     "output_type": "stream",
     "text": [
      "[0.31229424 0.19644843 0.14710316 0.11791854 0.10302091 0.08060344\n",
      " 0.07767007 0.06295414 0.05805933 0.03392613 0.03103938]\n"
     ]
    }
   ],
   "source": [
    "print(pca.explained_variance_)"
   ]
  },
  {
   "cell_type": "code",
   "execution_count": 90,
   "metadata": {},
   "outputs": [],
   "source": [
    "X_imputed_scaled_PCA = pd.DataFrame(projected_X_imputed_scaled)"
   ]
  },
  {
   "cell_type": "code",
   "execution_count": 91,
   "metadata": {},
   "outputs": [
    {
     "data": {
      "text/html": [
       "<div>\n",
       "<style scoped>\n",
       "    .dataframe tbody tr th:only-of-type {\n",
       "        vertical-align: middle;\n",
       "    }\n",
       "\n",
       "    .dataframe tbody tr th {\n",
       "        vertical-align: top;\n",
       "    }\n",
       "\n",
       "    .dataframe thead th {\n",
       "        text-align: right;\n",
       "    }\n",
       "</style>\n",
       "<table border=\"1\" class=\"dataframe\">\n",
       "  <thead>\n",
       "    <tr style=\"text-align: right;\">\n",
       "      <th></th>\n",
       "      <th>0</th>\n",
       "      <th>1</th>\n",
       "      <th>2</th>\n",
       "      <th>3</th>\n",
       "      <th>4</th>\n",
       "      <th>5</th>\n",
       "      <th>6</th>\n",
       "      <th>7</th>\n",
       "      <th>8</th>\n",
       "      <th>9</th>\n",
       "      <th>10</th>\n",
       "    </tr>\n",
       "  </thead>\n",
       "  <tbody>\n",
       "    <tr>\n",
       "      <th>0</th>\n",
       "      <td>-0.540133</td>\n",
       "      <td>-0.394177</td>\n",
       "      <td>-0.141328</td>\n",
       "      <td>0.116005</td>\n",
       "      <td>-0.208403</td>\n",
       "      <td>-0.211090</td>\n",
       "      <td>0.232813</td>\n",
       "      <td>0.174835</td>\n",
       "      <td>-0.200709</td>\n",
       "      <td>0.129689</td>\n",
       "      <td>0.116141</td>\n",
       "    </tr>\n",
       "    <tr>\n",
       "      <th>1</th>\n",
       "      <td>-0.369904</td>\n",
       "      <td>-0.018205</td>\n",
       "      <td>-0.788872</td>\n",
       "      <td>0.699114</td>\n",
       "      <td>0.839406</td>\n",
       "      <td>0.149141</td>\n",
       "      <td>0.208668</td>\n",
       "      <td>-0.016724</td>\n",
       "      <td>-0.136112</td>\n",
       "      <td>-0.164312</td>\n",
       "      <td>-0.004325</td>\n",
       "    </tr>\n",
       "    <tr>\n",
       "      <th>2</th>\n",
       "      <td>-0.635434</td>\n",
       "      <td>-0.463847</td>\n",
       "      <td>-0.101767</td>\n",
       "      <td>-0.199386</td>\n",
       "      <td>-0.004128</td>\n",
       "      <td>0.247642</td>\n",
       "      <td>0.303218</td>\n",
       "      <td>-0.020250</td>\n",
       "      <td>0.109365</td>\n",
       "      <td>-0.017479</td>\n",
       "      <td>0.157287</td>\n",
       "    </tr>\n",
       "    <tr>\n",
       "      <th>3</th>\n",
       "      <td>-0.095764</td>\n",
       "      <td>-0.209371</td>\n",
       "      <td>0.236404</td>\n",
       "      <td>0.865528</td>\n",
       "      <td>0.467711</td>\n",
       "      <td>-0.473183</td>\n",
       "      <td>0.223446</td>\n",
       "      <td>0.085676</td>\n",
       "      <td>0.599199</td>\n",
       "      <td>0.057542</td>\n",
       "      <td>0.062752</td>\n",
       "    </tr>\n",
       "    <tr>\n",
       "      <th>4</th>\n",
       "      <td>-0.560607</td>\n",
       "      <td>-0.359274</td>\n",
       "      <td>0.203367</td>\n",
       "      <td>0.049198</td>\n",
       "      <td>0.139470</td>\n",
       "      <td>-0.156826</td>\n",
       "      <td>0.278598</td>\n",
       "      <td>0.150188</td>\n",
       "      <td>-0.212817</td>\n",
       "      <td>0.180648</td>\n",
       "      <td>0.130948</td>\n",
       "    </tr>\n",
       "  </tbody>\n",
       "</table>\n",
       "</div>"
      ],
      "text/plain": [
       "         0         1         2         3         4         5         6   \\\n",
       "0 -0.540133 -0.394177 -0.141328  0.116005 -0.208403 -0.211090  0.232813   \n",
       "1 -0.369904 -0.018205 -0.788872  0.699114  0.839406  0.149141  0.208668   \n",
       "2 -0.635434 -0.463847 -0.101767 -0.199386 -0.004128  0.247642  0.303218   \n",
       "3 -0.095764 -0.209371  0.236404  0.865528  0.467711 -0.473183  0.223446   \n",
       "4 -0.560607 -0.359274  0.203367  0.049198  0.139470 -0.156826  0.278598   \n",
       "\n",
       "         7         8         9         10  \n",
       "0  0.174835 -0.200709  0.129689  0.116141  \n",
       "1 -0.016724 -0.136112 -0.164312 -0.004325  \n",
       "2 -0.020250  0.109365 -0.017479  0.157287  \n",
       "3  0.085676  0.599199  0.057542  0.062752  \n",
       "4  0.150188 -0.212817  0.180648  0.130948  "
      ]
     },
     "execution_count": 91,
     "metadata": {},
     "output_type": "execute_result"
    }
   ],
   "source": [
    "X_imputed_scaled_PCA.head()"
   ]
  },
  {
   "cell_type": "code",
   "execution_count": 92,
   "metadata": {},
   "outputs": [],
   "source": [
    "# Creating an equivalent test dataset\n",
    "# Using the same pca object that was fit on train data\n",
    "projected_X_test_imputed_scaled = pca.transform(X_test)"
   ]
  },
  {
   "cell_type": "code",
   "execution_count": 93,
   "metadata": {},
   "outputs": [],
   "source": [
    "X_test_imputed_scaled_PCA = pd.DataFrame(projected_X_test_imputed_scaled)"
   ]
  },
  {
   "cell_type": "code",
   "execution_count": 94,
   "metadata": {},
   "outputs": [
    {
     "data": {
      "text/html": [
       "<div>\n",
       "<style scoped>\n",
       "    .dataframe tbody tr th:only-of-type {\n",
       "        vertical-align: middle;\n",
       "    }\n",
       "\n",
       "    .dataframe tbody tr th {\n",
       "        vertical-align: top;\n",
       "    }\n",
       "\n",
       "    .dataframe thead th {\n",
       "        text-align: right;\n",
       "    }\n",
       "</style>\n",
       "<table border=\"1\" class=\"dataframe\">\n",
       "  <thead>\n",
       "    <tr style=\"text-align: right;\">\n",
       "      <th></th>\n",
       "      <th>0</th>\n",
       "      <th>1</th>\n",
       "      <th>2</th>\n",
       "      <th>3</th>\n",
       "      <th>4</th>\n",
       "      <th>5</th>\n",
       "      <th>6</th>\n",
       "      <th>7</th>\n",
       "      <th>8</th>\n",
       "      <th>9</th>\n",
       "      <th>10</th>\n",
       "    </tr>\n",
       "  </thead>\n",
       "  <tbody>\n",
       "    <tr>\n",
       "      <th>0</th>\n",
       "      <td>3885.655162</td>\n",
       "      <td>3825.817743</td>\n",
       "      <td>692.253249</td>\n",
       "      <td>6919.599009</td>\n",
       "      <td>9183.643877</td>\n",
       "      <td>789.019156</td>\n",
       "      <td>-31248.700530</td>\n",
       "      <td>-4244.915807</td>\n",
       "      <td>578.707729</td>\n",
       "      <td>1584.725208</td>\n",
       "      <td>-32830.486233</td>\n",
       "    </tr>\n",
       "    <tr>\n",
       "      <th>1</th>\n",
       "      <td>3880.880823</td>\n",
       "      <td>3831.209342</td>\n",
       "      <td>688.978759</td>\n",
       "      <td>6929.732391</td>\n",
       "      <td>9181.683739</td>\n",
       "      <td>794.806715</td>\n",
       "      <td>-31245.257721</td>\n",
       "      <td>-4233.254432</td>\n",
       "      <td>566.537025</td>\n",
       "      <td>1605.948296</td>\n",
       "      <td>-32829.581005</td>\n",
       "    </tr>\n",
       "    <tr>\n",
       "      <th>2</th>\n",
       "      <td>3882.836887</td>\n",
       "      <td>3832.969358</td>\n",
       "      <td>683.540363</td>\n",
       "      <td>6931.991217</td>\n",
       "      <td>9189.955512</td>\n",
       "      <td>787.767956</td>\n",
       "      <td>-31245.548448</td>\n",
       "      <td>-4235.228097</td>\n",
       "      <td>563.503944</td>\n",
       "      <td>1613.714245</td>\n",
       "      <td>-32828.461883</td>\n",
       "    </tr>\n",
       "    <tr>\n",
       "      <th>3</th>\n",
       "      <td>3885.655162</td>\n",
       "      <td>3825.817743</td>\n",
       "      <td>692.253249</td>\n",
       "      <td>6919.599009</td>\n",
       "      <td>9183.643877</td>\n",
       "      <td>789.019156</td>\n",
       "      <td>-31248.700530</td>\n",
       "      <td>-4244.915807</td>\n",
       "      <td>578.707729</td>\n",
       "      <td>1584.725208</td>\n",
       "      <td>-32830.486233</td>\n",
       "    </tr>\n",
       "    <tr>\n",
       "      <th>4</th>\n",
       "      <td>3880.094145</td>\n",
       "      <td>3824.664980</td>\n",
       "      <td>663.288178</td>\n",
       "      <td>6906.867014</td>\n",
       "      <td>9207.213348</td>\n",
       "      <td>769.446882</td>\n",
       "      <td>-31252.018736</td>\n",
       "      <td>-4239.543438</td>\n",
       "      <td>579.067087</td>\n",
       "      <td>1594.298179</td>\n",
       "      <td>-32824.099387</td>\n",
       "    </tr>\n",
       "  </tbody>\n",
       "</table>\n",
       "</div>"
      ],
      "text/plain": [
       "            0            1           2            3            4           5   \\\n",
       "0  3885.655162  3825.817743  692.253249  6919.599009  9183.643877  789.019156   \n",
       "1  3880.880823  3831.209342  688.978759  6929.732391  9181.683739  794.806715   \n",
       "2  3882.836887  3832.969358  683.540363  6931.991217  9189.955512  787.767956   \n",
       "3  3885.655162  3825.817743  692.253249  6919.599009  9183.643877  789.019156   \n",
       "4  3880.094145  3824.664980  663.288178  6906.867014  9207.213348  769.446882   \n",
       "\n",
       "             6            7           8            9             10  \n",
       "0 -31248.700530 -4244.915807  578.707729  1584.725208 -32830.486233  \n",
       "1 -31245.257721 -4233.254432  566.537025  1605.948296 -32829.581005  \n",
       "2 -31245.548448 -4235.228097  563.503944  1613.714245 -32828.461883  \n",
       "3 -31248.700530 -4244.915807  578.707729  1584.725208 -32830.486233  \n",
       "4 -31252.018736 -4239.543438  579.067087  1594.298179 -32824.099387  "
      ]
     },
     "execution_count": 94,
     "metadata": {},
     "output_type": "execute_result"
    }
   ],
   "source": [
    "X_test_imputed_scaled_PCA.head()"
   ]
  },
  {
   "cell_type": "code",
   "execution_count": 95,
   "metadata": {},
   "outputs": [
    {
     "data": {
      "text/plain": [
       "(74, 11)"
      ]
     },
     "execution_count": 95,
     "metadata": {},
     "output_type": "execute_result"
    }
   ],
   "source": [
    "X_test_imputed_scaled_PCA.shape"
   ]
  },
  {
   "cell_type": "code",
   "execution_count": 96,
   "metadata": {},
   "outputs": [
    {
     "data": {
      "text/plain": [
       "(74, 11)"
      ]
     },
     "execution_count": 96,
     "metadata": {},
     "output_type": "execute_result"
    }
   ],
   "source": [
    "X_test_imputed_scaled_PCA.shape\n",
    "# 11 features like X_imputed_scaled_PCA, but all 74 rows of test included"
   ]
  },
  {
   "cell_type": "code",
   "execution_count": 97,
   "metadata": {},
   "outputs": [
    {
     "data": {
      "image/png": "[encoded data removed]",
      "text/plain": [
       "<Figure size 432x288 with 1 Axes>"
      ]
     },
     "metadata": {
      "needs_background": "light"
     },
     "output_type": "display_data"
    }
   ],
   "source": [
    "# Let's repeat the same process for X_drop_scaled\n",
    "pca = PCA().fit(X_drop_scaled)\n",
    "plt.plot(np.cumsum(pca.explained_variance_ratio_))\n",
    "plt.xlabel('number of components')\n",
    "plt.ylabel('cumulative explained variance');"
   ]
  },
  {
   "cell_type": "code",
   "execution_count": 98,
   "metadata": {},
   "outputs": [],
   "source": [
    "# Looks like 8-10 PCs might be enough for this version of the dataset\n",
    "pca = PCA(.90)\n",
    "projected_X_drop_scaled = pca.fit_transform(X_drop_scaled)"
   ]
  },
  {
   "cell_type": "code",
   "execution_count": 99,
   "metadata": {},
   "outputs": [
    {
     "data": {
      "text/plain": [
       "(660, 11)"
      ]
     },
     "execution_count": 99,
     "metadata": {},
     "output_type": "execute_result"
    }
   ],
   "source": [
    "projected_X_drop_scaled.shape"
   ]
  },
  {
   "cell_type": "code",
   "execution_count": 100,
   "metadata": {},
   "outputs": [],
   "source": [
    "X_drop_scaled_PCA = pd.DataFrame(projected_X_drop_scaled)"
   ]
  },
  {
   "cell_type": "code",
   "execution_count": 101,
   "metadata": {},
   "outputs": [
    {
     "data": {
      "text/html": [
       "<div>\n",
       "<style scoped>\n",
       "    .dataframe tbody tr th:only-of-type {\n",
       "        vertical-align: middle;\n",
       "    }\n",
       "\n",
       "    .dataframe tbody tr th {\n",
       "        vertical-align: top;\n",
       "    }\n",
       "\n",
       "    .dataframe thead th {\n",
       "        text-align: right;\n",
       "    }\n",
       "</style>\n",
       "<table border=\"1\" class=\"dataframe\">\n",
       "  <thead>\n",
       "    <tr style=\"text-align: right;\">\n",
       "      <th></th>\n",
       "      <th>0</th>\n",
       "      <th>1</th>\n",
       "      <th>2</th>\n",
       "      <th>3</th>\n",
       "      <th>4</th>\n",
       "      <th>5</th>\n",
       "      <th>6</th>\n",
       "      <th>7</th>\n",
       "      <th>8</th>\n",
       "      <th>9</th>\n",
       "      <th>10</th>\n",
       "    </tr>\n",
       "  </thead>\n",
       "  <tbody>\n",
       "    <tr>\n",
       "      <th>0</th>\n",
       "      <td>-0.539586</td>\n",
       "      <td>-0.397286</td>\n",
       "      <td>0.007008</td>\n",
       "      <td>0.231569</td>\n",
       "      <td>-0.278192</td>\n",
       "      <td>0.277411</td>\n",
       "      <td>-0.185006</td>\n",
       "      <td>0.128805</td>\n",
       "      <td>-0.247302</td>\n",
       "      <td>-0.061889</td>\n",
       "      <td>0.138077</td>\n",
       "    </tr>\n",
       "    <tr>\n",
       "      <th>1</th>\n",
       "      <td>-0.393303</td>\n",
       "      <td>-0.086279</td>\n",
       "      <td>-0.865063</td>\n",
       "      <td>0.573007</td>\n",
       "      <td>0.844044</td>\n",
       "      <td>0.444406</td>\n",
       "      <td>0.189326</td>\n",
       "      <td>-0.089478</td>\n",
       "      <td>-0.034150</td>\n",
       "      <td>-0.399232</td>\n",
       "      <td>-0.196381</td>\n",
       "    </tr>\n",
       "    <tr>\n",
       "      <th>2</th>\n",
       "      <td>-0.626906</td>\n",
       "      <td>-0.505571</td>\n",
       "      <td>-0.116275</td>\n",
       "      <td>-0.190081</td>\n",
       "      <td>-0.117106</td>\n",
       "      <td>0.299830</td>\n",
       "      <td>0.267261</td>\n",
       "      <td>-0.058570</td>\n",
       "      <td>0.136661</td>\n",
       "      <td>-0.060543</td>\n",
       "      <td>-0.022580</td>\n",
       "    </tr>\n",
       "    <tr>\n",
       "      <th>3</th>\n",
       "      <td>-0.125748</td>\n",
       "      <td>-0.175351</td>\n",
       "      <td>0.278934</td>\n",
       "      <td>0.636541</td>\n",
       "      <td>0.661404</td>\n",
       "      <td>0.456705</td>\n",
       "      <td>-0.506745</td>\n",
       "      <td>-0.072638</td>\n",
       "      <td>0.513022</td>\n",
       "      <td>-0.069404</td>\n",
       "      <td>0.326561</td>\n",
       "    </tr>\n",
       "    <tr>\n",
       "      <th>4</th>\n",
       "      <td>-0.561378</td>\n",
       "      <td>-0.348409</td>\n",
       "      <td>0.276398</td>\n",
       "      <td>0.026242</td>\n",
       "      <td>0.063725</td>\n",
       "      <td>0.358923</td>\n",
       "      <td>-0.107352</td>\n",
       "      <td>0.082238</td>\n",
       "      <td>-0.287289</td>\n",
       "      <td>-0.059811</td>\n",
       "      <td>0.180964</td>\n",
       "    </tr>\n",
       "  </tbody>\n",
       "</table>\n",
       "</div>"
      ],
      "text/plain": [
       "         0         1         2         3         4         5         6   \\\n",
       "0 -0.539586 -0.397286  0.007008  0.231569 -0.278192  0.277411 -0.185006   \n",
       "1 -0.393303 -0.086279 -0.865063  0.573007  0.844044  0.444406  0.189326   \n",
       "2 -0.626906 -0.505571 -0.116275 -0.190081 -0.117106  0.299830  0.267261   \n",
       "3 -0.125748 -0.175351  0.278934  0.636541  0.661404  0.456705 -0.506745   \n",
       "4 -0.561378 -0.348409  0.276398  0.026242  0.063725  0.358923 -0.107352   \n",
       "\n",
       "         7         8         9         10  \n",
       "0  0.128805 -0.247302 -0.061889  0.138077  \n",
       "1 -0.089478 -0.034150 -0.399232 -0.196381  \n",
       "2 -0.058570  0.136661 -0.060543 -0.022580  \n",
       "3 -0.072638  0.513022 -0.069404  0.326561  \n",
       "4  0.082238 -0.287289 -0.059811  0.180964  "
      ]
     },
     "execution_count": 101,
     "metadata": {},
     "output_type": "execute_result"
    }
   ],
   "source": [
    "X_drop_scaled_PCA.head()"
   ]
  },
  {
   "cell_type": "code",
   "execution_count": 102,
   "metadata": {},
   "outputs": [],
   "source": [
    "# Creating an equivalent test dataset\n",
    "# Using the same pca object that was fit on train data\n",
    "projected_X_test_drop_scaled = pca.transform(X_test)"
   ]
  },
  {
   "cell_type": "code",
   "execution_count": 103,
   "metadata": {},
   "outputs": [],
   "source": [
    "X_test_drop_scaled_PCA = pd.DataFrame(projected_X_test_drop_scaled)"
   ]
  },
  {
   "cell_type": "code",
   "execution_count": 104,
   "metadata": {},
   "outputs": [
    {
     "data": {
      "text/plain": [
       "(660, 11)"
      ]
     },
     "execution_count": 104,
     "metadata": {},
     "output_type": "execute_result"
    }
   ],
   "source": [
    "X_drop_scaled_PCA.shape"
   ]
  },
  {
   "cell_type": "code",
   "execution_count": 105,
   "metadata": {},
   "outputs": [
    {
     "data": {
      "text/plain": [
       "(74, 11)"
      ]
     },
     "execution_count": 105,
     "metadata": {},
     "output_type": "execute_result"
    }
   ],
   "source": [
    "X_test_drop_scaled_PCA.shape"
   ]
  },
  {
   "cell_type": "markdown",
   "metadata": {},
   "source": [
    "Proceeding to corrrelation method for feature elimination"
   ]
  },
  {
   "cell_type": "code",
   "execution_count": 106,
   "metadata": {},
   "outputs": [
    {
     "data": {
      "image/png": "[encoded data removed]",
      "text/plain": [
       "<Figure size 1152x1152 with 2 Axes>"
      ]
     },
     "metadata": {
      "needs_background": "light"
     },
     "output_type": "display_data"
    }
   ],
   "source": [
    "# Let's proceed to feature selection\n",
    "corr = X_imputed_scaled.corr()\n",
    "fig = plt.figure()\n",
    "ax = fig.add_subplot(111)\n",
    "cax = ax.matshow(corr,cmap='coolwarm', vmin=-1, vmax=1)\n",
    "fig.colorbar(cax)\n",
    "fig.set_size_inches([16,16])\n",
    "ticks = np.arange(0,len(X_imputed_scaled.columns),1)\n",
    "ax.set_xticks(ticks)\n",
    "plt.xticks(rotation=90)\n",
    "ax.set_yticks(ticks)\n",
    "ax.set_xticklabels(X_imputed_scaled.columns)\n",
    "ax.set_yticklabels(X_imputed_scaled.columns)\n",
    "plt.show()"
   ]
  },
  {
   "cell_type": "code",
   "execution_count": 107,
   "metadata": {},
   "outputs": [],
   "source": [
    "corr_matrix =X_imputed_scaled.corr().abs()"
   ]
  },
  {
   "cell_type": "code",
   "execution_count": 108,
   "metadata": {},
   "outputs": [],
   "source": [
    "# Select upper triangle of correlation matrix\n",
    "upper = corr_matrix.where(np.triu(np.ones(corr_matrix.shape), k=1).astype(np.bool))"
   ]
  },
  {
   "cell_type": "code",
   "execution_count": 109,
   "metadata": {},
   "outputs": [],
   "source": [
    "# Find index of feature columns with correlation greater than 0.60\n",
    "to_drop = [column for column in upper.columns if any(upper[column] > 0.6)]"
   ]
  },
  {
   "cell_type": "code",
   "execution_count": 110,
   "metadata": {},
   "outputs": [
    {
     "data": {
      "text/plain": [
       "['Age', 'Body_mass_index']"
      ]
     },
     "execution_count": 110,
     "metadata": {},
     "output_type": "execute_result"
    }
   ],
   "source": [
    "to_drop"
   ]
  },
  {
   "cell_type": "code",
   "execution_count": 111,
   "metadata": {},
   "outputs": [],
   "source": [
    "X_imputed_scaled_correl = X_imputed_scaled.drop(to_drop, axis=1)"
   ]
  },
  {
   "cell_type": "code",
   "execution_count": 112,
   "metadata": {},
   "outputs": [
    {
     "data": {
      "text/plain": [
       "['Age', 'Body_mass_index']"
      ]
     },
     "execution_count": 112,
     "metadata": {},
     "output_type": "execute_result"
    }
   ],
   "source": [
    "# creating a test equivalent\n",
    "# Using the same to_drop columns as train\n",
    "to_drop"
   ]
  },
  {
   "cell_type": "code",
   "execution_count": 113,
   "metadata": {},
   "outputs": [],
   "source": [
    "X_test_imputed_scaled_correl = X_test_imputed_scaled.drop(to_drop, axis=1)"
   ]
  },
  {
   "cell_type": "code",
   "execution_count": 114,
   "metadata": {},
   "outputs": [
    {
     "data": {
      "text/plain": [
       "(74, 17)"
      ]
     },
     "execution_count": 114,
     "metadata": {},
     "output_type": "execute_result"
    }
   ],
   "source": [
    "X_test_imputed_scaled_correl.shape"
   ]
  },
  {
   "cell_type": "code",
   "execution_count": 115,
   "metadata": {},
   "outputs": [
    {
     "data": {
      "text/plain": [
       "(666, 17)"
      ]
     },
     "execution_count": 115,
     "metadata": {},
     "output_type": "execute_result"
    }
   ],
   "source": [
    "X_imputed_scaled_correl.shape"
   ]
  },
  {
   "cell_type": "code",
   "execution_count": 116,
   "metadata": {},
   "outputs": [
    {
     "data": {
      "text/plain": [
       "(74, 19)"
      ]
     },
     "execution_count": 116,
     "metadata": {},
     "output_type": "execute_result"
    }
   ],
   "source": [
    "X_test_imputed_scaled.shape"
   ]
  },
  {
   "cell_type": "code",
   "execution_count": 117,
   "metadata": {},
   "outputs": [
    {
     "data": {
      "text/plain": [
       "(666, 19)"
      ]
     },
     "execution_count": 117,
     "metadata": {},
     "output_type": "execute_result"
    }
   ],
   "source": [
    "X_imputed_scaled.shape"
   ]
  },
  {
   "cell_type": "code",
   "execution_count": 118,
   "metadata": {},
   "outputs": [
    {
     "data": {
      "text/plain": [
       "['Age', 'Body_mass_index']"
      ]
     },
     "execution_count": 118,
     "metadata": {},
     "output_type": "execute_result"
    }
   ],
   "source": [
    "# repeat for dropped version\n",
    "corr_matrix =X_drop_scaled.corr().abs()\n",
    "upper = corr_matrix.where(np.triu(np.ones(corr_matrix.shape), k=1).astype(np.bool))\n",
    "to_drop = [column for column in upper.columns if any(upper[column] > 0.6)]\n",
    "to_drop"
   ]
  },
  {
   "cell_type": "code",
   "execution_count": 119,
   "metadata": {},
   "outputs": [],
   "source": [
    "X_drop_scaled_correl = X_drop_scaled.drop(to_drop, axis=1)"
   ]
  },
  {
   "cell_type": "code",
   "execution_count": 120,
   "metadata": {},
   "outputs": [
    {
     "data": {
      "text/plain": [
       "['Age', 'Body_mass_index']"
      ]
     },
     "execution_count": 120,
     "metadata": {},
     "output_type": "execute_result"
    }
   ],
   "source": [
    "# creating a test equivalent\n",
    "# Using the same to_drop columns as train\n",
    "to_drop"
   ]
  },
  {
   "cell_type": "code",
   "execution_count": 121,
   "metadata": {},
   "outputs": [],
   "source": [
    "X_test_drop_scaled_correl = X_test_drop_scaled.drop(to_drop, axis=1)"
   ]
  },
  {
   "cell_type": "code",
   "execution_count": 122,
   "metadata": {},
   "outputs": [
    {
     "data": {
      "text/plain": [
       "(74, 17)"
      ]
     },
     "execution_count": 122,
     "metadata": {},
     "output_type": "execute_result"
    }
   ],
   "source": [
    "X_test_drop_scaled_correl.shape"
   ]
  },
  {
   "cell_type": "code",
   "execution_count": 123,
   "metadata": {},
   "outputs": [
    {
     "data": {
      "text/plain": [
       "(660, 17)"
      ]
     },
     "execution_count": 123,
     "metadata": {},
     "output_type": "execute_result"
    }
   ],
   "source": [
    "X_drop_scaled_correl.shape"
   ]
  },
  {
   "cell_type": "markdown",
   "metadata": {},
   "source": [
    "Proceeding to LDA"
   ]
  },
  {
   "cell_type": "code",
   "execution_count": 124,
   "metadata": {},
   "outputs": [],
   "source": [
    "# Proceeding to LDA\n",
    "from sklearn.discriminant_analysis import LinearDiscriminantAnalysis\n",
    "lda = LinearDiscriminantAnalysis(n_components=2)\n",
    "X_r2 = lda.fit_transform(X_imputed_scaled, y)"
   ]
  },
  {
   "cell_type": "code",
   "execution_count": 125,
   "metadata": {},
   "outputs": [
    {
     "data": {
      "text/plain": [
       "array([0.98527316, 0.01472684])"
      ]
     },
     "execution_count": 125,
     "metadata": {},
     "output_type": "execute_result"
    }
   ],
   "source": [
    "lda_var_ratios = lda.explained_variance_ratio_\n",
    "lda_var_ratios"
   ]
  },
  {
   "cell_type": "code",
   "execution_count": 126,
   "metadata": {},
   "outputs": [],
   "source": [
    "def select_n_components(var_ratio, goal_var: float) -> int:\n",
    "    # Set initial variance explained so far\n",
    "    total_variance = 0.0\n",
    "    \n",
    "    # Set initial number of features\n",
    "    n_components = 0\n",
    "    \n",
    "    # For the explained variance of each feature:\n",
    "    for explained_variance in var_ratio:\n",
    "        \n",
    "        # Add the explained variance to the total\n",
    "        total_variance += explained_variance\n",
    "        \n",
    "        # Add one to the number of components\n",
    "        n_components += 1\n",
    "        \n",
    "        # If we reach our goal level of explained variance\n",
    "        if total_variance >= goal_var:\n",
    "            # End the loop\n",
    "            break\n",
    "            \n",
    "    # Return the number of components\n",
    "    return n_components"
   ]
  },
  {
   "cell_type": "code",
   "execution_count": 127,
   "metadata": {},
   "outputs": [],
   "source": [
    "lda = LinearDiscriminantAnalysis(n_components=None)\n",
    "X_lda = lda.fit(X_imputed_scaled, y)"
   ]
  },
  {
   "cell_type": "code",
   "execution_count": 128,
   "metadata": {},
   "outputs": [],
   "source": [
    "lda_var_ratios = lda.explained_variance_ratio_"
   ]
  },
  {
   "cell_type": "code",
   "execution_count": 129,
   "metadata": {},
   "outputs": [
    {
     "data": {
      "text/plain": [
       "1"
      ]
     },
     "execution_count": 129,
     "metadata": {},
     "output_type": "execute_result"
    }
   ],
   "source": [
    "select_n_components(lda_var_ratios, 0.95)"
   ]
  },
  {
   "cell_type": "code",
   "execution_count": 130,
   "metadata": {},
   "outputs": [],
   "source": [
    "# 1 component alone can explain 95% variance. However, lets stick to 2.\n",
    "lda = LinearDiscriminantAnalysis(n_components=2)\n",
    "X_imputed_scaled_LDA_array = lda.fit_transform(X_imputed_scaled, y)"
   ]
  },
  {
   "cell_type": "code",
   "execution_count": 131,
   "metadata": {},
   "outputs": [
    {
     "data": {
      "text/plain": [
       "array([0.98527316, 0.01472684])"
      ]
     },
     "execution_count": 131,
     "metadata": {},
     "output_type": "execute_result"
    }
   ],
   "source": [
    "lda.explained_variance_ratio_"
   ]
  },
  {
   "cell_type": "code",
   "execution_count": 132,
   "metadata": {},
   "outputs": [],
   "source": [
    "X_imputed_scaled_LDA = pd.DataFrame(X_imputed_scaled_LDA_array)"
   ]
  },
  {
   "cell_type": "code",
   "execution_count": 133,
   "metadata": {},
   "outputs": [],
   "source": [
    "X_drop_scaled_LDA_array = lda.fit_transform(X_drop_scaled, y_drop)"
   ]
  },
  {
   "cell_type": "code",
   "execution_count": 134,
   "metadata": {},
   "outputs": [
    {
     "data": {
      "text/plain": [
       "array([0.98532613, 0.01467387])"
      ]
     },
     "execution_count": 134,
     "metadata": {},
     "output_type": "execute_result"
    }
   ],
   "source": [
    "lda.explained_variance_ratio_"
   ]
  },
  {
   "cell_type": "code",
   "execution_count": 135,
   "metadata": {},
   "outputs": [],
   "source": [
    "X_drop_scaled_LDA = pd.DataFrame(X_drop_scaled_LDA_array)"
   ]
  },
  {
   "cell_type": "code",
   "execution_count": 136,
   "metadata": {},
   "outputs": [
    {
     "data": {
      "text/plain": [
       "(666, 2)"
      ]
     },
     "execution_count": 136,
     "metadata": {},
     "output_type": "execute_result"
    }
   ],
   "source": [
    "X_imputed_scaled_LDA.shape"
   ]
  },
  {
   "cell_type": "code",
   "execution_count": 137,
   "metadata": {},
   "outputs": [
    {
     "data": {
      "text/plain": [
       "(660, 2)"
      ]
     },
     "execution_count": 137,
     "metadata": {},
     "output_type": "execute_result"
    }
   ],
   "source": [
    "X_drop_scaled_LDA.shape"
   ]
  },
  {
   "cell_type": "code",
   "execution_count": 138,
   "metadata": {},
   "outputs": [],
   "source": [
    "# creating the equivalent test LDA datasets\n",
    "X_test_imputed_scaled_LDA_array = lda.fit_transform(X_test_imputed_scaled, y_test)"
   ]
  },
  {
   "cell_type": "code",
   "execution_count": 139,
   "metadata": {},
   "outputs": [
    {
     "data": {
      "text/plain": [
       "array([0.97925365, 0.02074635])"
      ]
     },
     "execution_count": 139,
     "metadata": {},
     "output_type": "execute_result"
    }
   ],
   "source": [
    "lda.explained_variance_ratio_"
   ]
  },
  {
   "cell_type": "code",
   "execution_count": 140,
   "metadata": {},
   "outputs": [],
   "source": [
    "X_test_imputed_scaled_LDA = pd.DataFrame(X_test_imputed_scaled_LDA_array)"
   ]
  },
  {
   "cell_type": "code",
   "execution_count": 141,
   "metadata": {},
   "outputs": [],
   "source": [
    "X_test_drop_scaled_LDA_array = lda.fit_transform(X_test_drop_scaled, y_test)"
   ]
  },
  {
   "cell_type": "code",
   "execution_count": 142,
   "metadata": {},
   "outputs": [
    {
     "data": {
      "text/plain": [
       "array([0.97925365, 0.02074635])"
      ]
     },
     "execution_count": 142,
     "metadata": {},
     "output_type": "execute_result"
    }
   ],
   "source": [
    "lda.explained_variance_ratio_"
   ]
  },
  {
   "cell_type": "code",
   "execution_count": 143,
   "metadata": {},
   "outputs": [],
   "source": [
    "X_test_drop_scaled_LDA = pd.DataFrame(X_test_drop_scaled_LDA_array)"
   ]
  },
  {
   "cell_type": "markdown",
   "metadata": {},
   "source": [
    "# Printing shapes to verify datasets and writing to csv"
   ]
  },
  {
   "cell_type": "code",
   "execution_count": 144,
   "metadata": {},
   "outputs": [
    {
     "name": "stdout",
     "output_type": "stream",
     "text": [
      "(666, 19)\n",
      "(74, 19)\n",
      "==================\n",
      "(660, 19)\n",
      "==================\n",
      "(666, 19)\n",
      "(74, 19)\n",
      "==================\n",
      "(660, 19)\n",
      "(74, 19)\n",
      "==================\n",
      "(666, 19)\n",
      "(74, 19)\n",
      "==================\n",
      "(666, 11)\n",
      "(74, 11)\n",
      "==================\n",
      "(660, 11)\n",
      "(74, 11)\n",
      "==================\n",
      "(666, 17)\n",
      "(74, 17)\n",
      "==================\n",
      "(660, 17)\n",
      "(74, 17)\n",
      "==================\n",
      "(666, 2)\n",
      "(74, 2)\n",
      "==================\n",
      "(660, 2)\n",
      "(74, 2)\n",
      "==================\n",
      "(666,)\n",
      "(660,)\n",
      "(74,)\n"
     ]
    }
   ],
   "source": [
    "print(X.shape)\n",
    "print(X_test.shape)\n",
    "print(\"==================\")\n",
    "print(X_drop.shape)\n",
    "print(\"==================\")\n",
    "print(X_scaled.shape)\n",
    "print(X_test_scaled.shape)\n",
    "print(\"==================\")\n",
    "print(X_drop_scaled.shape)\n",
    "print(X_test_drop_scaled.shape)\n",
    "print(\"==================\")\n",
    "print(X_imputed_scaled.shape)\n",
    "print(X_test_imputed_scaled.shape)\n",
    "print(\"==================\")\n",
    "print(X_imputed_scaled_PCA.shape)\n",
    "print(X_test_imputed_scaled_PCA.shape)\n",
    "print(\"==================\")\n",
    "print(X_drop_scaled_PCA.shape)\n",
    "print(X_test_drop_scaled_PCA.shape)\n",
    "print(\"==================\")\n",
    "print(X_imputed_scaled_correl.shape)\n",
    "print(X_test_imputed_scaled_correl.shape)\n",
    "print(\"==================\")\n",
    "print(X_drop_scaled_correl.shape)\n",
    "print(X_test_drop_scaled_correl.shape)\n",
    "print(\"==================\")\n",
    "print(X_imputed_scaled_LDA.shape)\n",
    "print(X_test_imputed_scaled_LDA.shape)\n",
    "print(\"==================\")\n",
    "print(X_drop_scaled_LDA.shape)\n",
    "print(X_test_drop_scaled_LDA.shape)\n",
    "print(\"==================\")\n",
    "print(y.shape)\n",
    "print(y_drop.shape)\n",
    "print(y_test.shape)"
   ]
  },
  {
   "cell_type": "code",
   "execution_count": 145,
   "metadata": {},
   "outputs": [],
   "source": [
    "X.to_csv('X.csv', index=False, header=True)\n",
    "X_test.to_csv('X_test.csv', index=False, header=True)\n",
    "X_drop.to_csv('X_drop.csv', index=False, header=True)\n",
    "X_scaled.to_csv('X_scaled.csv', index=False, header=True)\n",
    "X_test_scaled.to_csv('X_test_scaled.csv', index=False, header=True)\n",
    "X_drop_scaled.to_csv('X_drop_scaled.csv', index=False, header=True)\n",
    "X_test_drop_scaled.to_csv('X_test_drop_scaled.csv', index=False, header=True)\n",
    "X_imputed_scaled.to_csv('X_imputed_scaled.csv', index=False, header=True)\n",
    "X_test_imputed_scaled.to_csv('X_test_imputed_scaled.csv', index=False, header=True)\n",
    "X_imputed_scaled_PCA.to_csv('X_imputed_scaled_PCA.csv', index=False, header=True)\n",
    "X_test_imputed_scaled_PCA.to_csv('X_test_imputed_scaled_PCA.csv', index=False, header=True)\n",
    "X_drop_scaled_PCA.to_csv('X_drop_scaled_PCA.csv', index=False, header=True)\n",
    "X_test_drop_scaled_PCA.to_csv('X_test_drop_scaled_PCA.csv', index=False, header=True)\n",
    "X_imputed_scaled_correl.to_csv('X_imputed_scaled_correl.csv', index=False, header=True)\n",
    "X_test_imputed_scaled_correl.to_csv('X_test_imputed_scaled_correl.csv', index=False, header=True)\n",
    "X_drop_scaled_correl.to_csv('X_drop_scaled_correl.csv', index=False, header=True)\n",
    "X_test_drop_scaled_correl.to_csv('X_test_drop_scaled_correl.csv', index=False, header=True)\n",
    "X_imputed_scaled_LDA.to_csv('X_imputed_scaled_LDA.csv', index=False, header=True)\n",
    "X_test_imputed_scaled_LDA.to_csv('X_test_imputed_scaled_LDA.csv', index=False, header=True)\n",
    "X_drop_scaled_LDA.to_csv('X_drop_scaled_LDA.csv', index=False, header=True)\n",
    "X_test_drop_scaled_LDA.to_csv('X_test_drop_scaled_LDA.csv', index=False, header=True)\n",
    "y.to_csv('y.csv', index=False, header=True)\n",
    "y_drop.to_csv('y_drop.csv', index=False, header=True)\n",
    "y_test.to_csv('y_test.csv', index=False, header=True)"
   ]
  }
 ],
 "metadata": {
  "kernelspec": {
   "display_name": "Python 3",
   "language": "python",
   "name": "python3"
  },
  "language_info": {
   "codemirror_mode": {
    "name": "ipython",
    "version": 3
   },
   "file_extension": ".py",
   "mimetype": "text/x-python",
   "name": "python",
   "nbconvert_exporter": "python",
   "pygments_lexer": "ipython3",
   "version": "3.8.5"
  }
 },
 "nbformat": 4,
 "nbformat_minor": 4
}
